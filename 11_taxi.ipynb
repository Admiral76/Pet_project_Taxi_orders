{
 "cells": [
  {
   "cell_type": "markdown",
   "metadata": {
    "toc": true
   },
   "source": [
    "<h1>Содержание<span class=\"tocSkip\"></span></h1>\n",
    "<div class=\"toc\"><ul class=\"toc-item\"><li><span><a href=\"#Подготовка\" data-toc-modified-id=\"Подготовка-1\"><span class=\"toc-item-num\">1&nbsp;&nbsp;</span>Подготовка</a></span></li><li><span><a href=\"#Анализ\" data-toc-modified-id=\"Анализ-2\"><span class=\"toc-item-num\">2&nbsp;&nbsp;</span>Анализ</a></span></li><li><span><a href=\"#Обучение\" data-toc-modified-id=\"Обучение-3\"><span class=\"toc-item-num\">3&nbsp;&nbsp;</span>Обучение</a></span></li><li><span><a href=\"#Тестирование\" data-toc-modified-id=\"Тестирование-4\"><span class=\"toc-item-num\">4&nbsp;&nbsp;</span>Тестирование</a></span></li><li><span><a href=\"#Вывод\" data-toc-modified-id=\"Вывод-5\"><span class=\"toc-item-num\">5&nbsp;&nbsp;</span>Вывод</a></span></li><li><span><a href=\"#Чек-лист-проверки\" data-toc-modified-id=\"Чек-лист-проверки-6\"><span class=\"toc-item-num\">6&nbsp;&nbsp;</span>Чек-лист проверки</a></span></li></ul></div>"
   ]
  },
  {
   "cell_type": "markdown",
   "metadata": {},
   "source": [
    "#  Прогнозирование заказов такси"
   ]
  },
  {
   "cell_type": "markdown",
   "metadata": {},
   "source": [
    "***ЗАДАЧА***\n",
    "\n",
    "Компания «Чётенькое такси» собрала исторические данные о заказах такси в аэропортах. Чтобы привлекать больше водителей в период пиковой нагрузки, нужно спрогнозировать количество заказов такси на следующий час. Необходимо построить модель для такого предсказания. Значение метрики *RMSE* на тестовой выборке должно быть не больше 48.\n",
    "\n",
    "\n",
    "\n",
    "***ПЛАН РАБОТЫ***\n",
    "\n",
    "1. Загрузить данные и выполнить их ресемплирование по одному часу.\n",
    "2. Проанализировать данные.\n",
    "3. Обучить разные модели с различными гиперпараметрами. Сделать тестовую выборку размером 10% от исходных данных.\n",
    "4. Проверить данные на тестовой выборке и сделать выводы.\n"
   ]
  },
  {
   "cell_type": "markdown",
   "metadata": {},
   "source": [
    "## Подготовка"
   ]
  },
  {
   "cell_type": "markdown",
   "metadata": {},
   "source": [
    "Импортируем необходимые библиотеки"
   ]
  },
  {
   "cell_type": "code",
   "execution_count": 1,
   "metadata": {},
   "outputs": [],
   "source": [
    "import pandas as pd\n",
    "\n",
    "import seaborn as sns\n",
    "import matplotlib.pyplot as plt\n",
    "from pandas.plotting import register_matplotlib_converters\n",
    "register_matplotlib_converters()\n",
    "import matplotlib.dates as mdates\n",
    "from matplotlib.dates import DateFormatter\n",
    "\n",
    "from statsmodels.tsa.seasonal import seasonal_decompose\n",
    "\n",
    "from sklearn.model_selection import train_test_split, GridSearchCV, TimeSeriesSplit\n",
    "from sklearn.metrics import mean_squared_error\n",
    "from sklearn.linear_model import LinearRegression, Lasso\n",
    "from sklearn.preprocessing import StandardScaler\n",
    "from sklearn.pipeline import Pipeline\n",
    "from sklearn.tree import DecisionTreeRegressor\n",
    "# !pip install catboost\n",
    "# !pip install lightgbm\n",
    "from catboost import CatBoostRegressor\n",
    "from lightgbm import LGBMRegressor\n",
    "\n",
    "import timeit\n",
    "import datetime\n",
    "import calendar\n",
    "\n",
    "pd.set_option('display.max_colwidth', None)\n",
    "\n",
    "import warnings\n",
    "warnings.simplefilter(action='ignore', category=FutureWarning)\n",
    "\n",
    "RAST = 99"
   ]
  },
  {
   "cell_type": "markdown",
   "metadata": {},
   "source": [
    "Загрузим данные"
   ]
  },
  {
   "cell_type": "code",
   "execution_count": 2,
   "metadata": {},
   "outputs": [],
   "source": [
    "try:  \n",
    "    hour_order = pd.read_csv('/datasets/taxi.csv')\n",
    "except:\n",
    "    hour_order = pd.read_csv(r'C:\\Users\\Admiral\\Desktop\\учеба\\практикум\\Проекты\\Datasets\\11_taxi.csv')"
   ]
  },
  {
   "cell_type": "markdown",
   "metadata": {},
   "source": [
    "Выведем обчую информацию"
   ]
  },
  {
   "cell_type": "code",
   "execution_count": 3,
   "metadata": {},
   "outputs": [
    {
     "name": "stdout",
     "output_type": "stream",
     "text": [
      "<class 'pandas.core.frame.DataFrame'>\n",
      "RangeIndex: 26496 entries, 0 to 26495\n",
      "Data columns (total 2 columns):\n",
      " #   Column      Non-Null Count  Dtype \n",
      "---  ------      --------------  ----- \n",
      " 0   datetime    26496 non-null  object\n",
      " 1   num_orders  26496 non-null  int64 \n",
      "dtypes: int64(1), object(1)\n",
      "memory usage: 414.1+ KB\n"
     ]
    }
   ],
   "source": [
    "hour_order.info()"
   ]
  },
  {
   "cell_type": "markdown",
   "metadata": {},
   "source": [
    "В нашей таблице содержится 26496 наблюдений, 1 признак и один целевой признак. Признак содержит в себе значение даты и времени на временной оси, а цлевой признак - число заказов в конкретный временной промежуток. Пропуски отсутствуют. Посмотрим на первые и последнии 5 строк"
   ]
  },
  {
   "cell_type": "code",
   "execution_count": 4,
   "metadata": {},
   "outputs": [
    {
     "data": {
      "text/html": [
       "<div>\n",
       "<style scoped>\n",
       "    .dataframe tbody tr th:only-of-type {\n",
       "        vertical-align: middle;\n",
       "    }\n",
       "\n",
       "    .dataframe tbody tr th {\n",
       "        vertical-align: top;\n",
       "    }\n",
       "\n",
       "    .dataframe thead th {\n",
       "        text-align: right;\n",
       "    }\n",
       "</style>\n",
       "<table border=\"1\" class=\"dataframe\">\n",
       "  <thead>\n",
       "    <tr style=\"text-align: right;\">\n",
       "      <th></th>\n",
       "      <th>datetime</th>\n",
       "      <th>num_orders</th>\n",
       "    </tr>\n",
       "  </thead>\n",
       "  <tbody>\n",
       "    <tr>\n",
       "      <th>0</th>\n",
       "      <td>2018-03-01 00:00:00</td>\n",
       "      <td>9</td>\n",
       "    </tr>\n",
       "    <tr>\n",
       "      <th>1</th>\n",
       "      <td>2018-03-01 00:10:00</td>\n",
       "      <td>14</td>\n",
       "    </tr>\n",
       "    <tr>\n",
       "      <th>2</th>\n",
       "      <td>2018-03-01 00:20:00</td>\n",
       "      <td>28</td>\n",
       "    </tr>\n",
       "    <tr>\n",
       "      <th>3</th>\n",
       "      <td>2018-03-01 00:30:00</td>\n",
       "      <td>20</td>\n",
       "    </tr>\n",
       "    <tr>\n",
       "      <th>4</th>\n",
       "      <td>2018-03-01 00:40:00</td>\n",
       "      <td>32</td>\n",
       "    </tr>\n",
       "  </tbody>\n",
       "</table>\n",
       "</div>"
      ],
      "text/plain": [
       "              datetime  num_orders\n",
       "0  2018-03-01 00:00:00           9\n",
       "1  2018-03-01 00:10:00          14\n",
       "2  2018-03-01 00:20:00          28\n",
       "3  2018-03-01 00:30:00          20\n",
       "4  2018-03-01 00:40:00          32"
      ]
     },
     "metadata": {},
     "output_type": "display_data"
    },
    {
     "data": {
      "text/html": [
       "<div>\n",
       "<style scoped>\n",
       "    .dataframe tbody tr th:only-of-type {\n",
       "        vertical-align: middle;\n",
       "    }\n",
       "\n",
       "    .dataframe tbody tr th {\n",
       "        vertical-align: top;\n",
       "    }\n",
       "\n",
       "    .dataframe thead th {\n",
       "        text-align: right;\n",
       "    }\n",
       "</style>\n",
       "<table border=\"1\" class=\"dataframe\">\n",
       "  <thead>\n",
       "    <tr style=\"text-align: right;\">\n",
       "      <th></th>\n",
       "      <th>datetime</th>\n",
       "      <th>num_orders</th>\n",
       "    </tr>\n",
       "  </thead>\n",
       "  <tbody>\n",
       "    <tr>\n",
       "      <th>26491</th>\n",
       "      <td>2018-08-31 23:10:00</td>\n",
       "      <td>32</td>\n",
       "    </tr>\n",
       "    <tr>\n",
       "      <th>26492</th>\n",
       "      <td>2018-08-31 23:20:00</td>\n",
       "      <td>24</td>\n",
       "    </tr>\n",
       "    <tr>\n",
       "      <th>26493</th>\n",
       "      <td>2018-08-31 23:30:00</td>\n",
       "      <td>27</td>\n",
       "    </tr>\n",
       "    <tr>\n",
       "      <th>26494</th>\n",
       "      <td>2018-08-31 23:40:00</td>\n",
       "      <td>39</td>\n",
       "    </tr>\n",
       "    <tr>\n",
       "      <th>26495</th>\n",
       "      <td>2018-08-31 23:50:00</td>\n",
       "      <td>53</td>\n",
       "    </tr>\n",
       "  </tbody>\n",
       "</table>\n",
       "</div>"
      ],
      "text/plain": [
       "                  datetime  num_orders\n",
       "26491  2018-08-31 23:10:00          32\n",
       "26492  2018-08-31 23:20:00          24\n",
       "26493  2018-08-31 23:30:00          27\n",
       "26494  2018-08-31 23:40:00          39\n",
       "26495  2018-08-31 23:50:00          53"
      ]
     },
     "metadata": {},
     "output_type": "display_data"
    }
   ],
   "source": [
    "display(hour_order.head())\n",
    "display(hour_order.tail())"
   ]
  },
  {
   "cell_type": "markdown",
   "metadata": {},
   "source": [
    "В наших данных интервал равен 10 минутам. По заданию необходимо увеличить его до 1 часа. Но для начала изменим тип данных у признака на временной."
   ]
  },
  {
   "cell_type": "code",
   "execution_count": 5,
   "metadata": {},
   "outputs": [],
   "source": [
    "hour_order.datetime = hour_order.datetime.astype('datetime64[ns]')"
   ]
  },
  {
   "cell_type": "markdown",
   "metadata": {},
   "source": [
    "Изучим основные статистические показатели целевого признака"
   ]
  },
  {
   "cell_type": "code",
   "execution_count": 6,
   "metadata": {},
   "outputs": [
    {
     "data": {
      "text/html": [
       "<div>\n",
       "<style scoped>\n",
       "    .dataframe tbody tr th:only-of-type {\n",
       "        vertical-align: middle;\n",
       "    }\n",
       "\n",
       "    .dataframe tbody tr th {\n",
       "        vertical-align: top;\n",
       "    }\n",
       "\n",
       "    .dataframe thead th {\n",
       "        text-align: right;\n",
       "    }\n",
       "</style>\n",
       "<table border=\"1\" class=\"dataframe\">\n",
       "  <thead>\n",
       "    <tr style=\"text-align: right;\">\n",
       "      <th></th>\n",
       "      <th>count</th>\n",
       "      <th>mean</th>\n",
       "      <th>std</th>\n",
       "      <th>min</th>\n",
       "      <th>25%</th>\n",
       "      <th>50%</th>\n",
       "      <th>75%</th>\n",
       "      <th>max</th>\n",
       "    </tr>\n",
       "  </thead>\n",
       "  <tbody>\n",
       "    <tr>\n",
       "      <th>num_orders</th>\n",
       "      <td>26496.0</td>\n",
       "      <td>14.070463</td>\n",
       "      <td>9.21133</td>\n",
       "      <td>0.0</td>\n",
       "      <td>8.0</td>\n",
       "      <td>13.0</td>\n",
       "      <td>19.0</td>\n",
       "      <td>119.0</td>\n",
       "    </tr>\n",
       "  </tbody>\n",
       "</table>\n",
       "</div>"
      ],
      "text/plain": [
       "              count       mean      std  min  25%   50%   75%    max\n",
       "num_orders  26496.0  14.070463  9.21133  0.0  8.0  13.0  19.0  119.0"
      ]
     },
     "metadata": {},
     "output_type": "display_data"
    }
   ],
   "source": [
    "display(hour_order.describe().T)"
   ]
  },
  {
   "cell_type": "markdown",
   "metadata": {},
   "source": [
    "В нашей выборке максимальное количество заказанных такси в интервале в 10 минут равняется 119 шт., а минимальное - 0."
   ]
  },
  {
   "cell_type": "markdown",
   "metadata": {},
   "source": [
    "Проверим наличие дубликатов по столбцу \"datetime\""
   ]
  },
  {
   "cell_type": "code",
   "execution_count": 7,
   "metadata": {},
   "outputs": [
    {
     "name": "stdout",
     "output_type": "stream",
     "text": [
      "Количество дубликатов: 0\n"
     ]
    }
   ],
   "source": [
    "print(f'Количество дубликатов: {hour_order.datetime.duplicated().sum()}')"
   ]
  },
  {
   "cell_type": "markdown",
   "metadata": {},
   "source": [
    "Проверим, в хронологическом ли порядке расположены даты и время"
   ]
  },
  {
   "cell_type": "code",
   "execution_count": 8,
   "metadata": {},
   "outputs": [
    {
     "data": {
      "text/plain": [
       "True"
      ]
     },
     "metadata": {},
     "output_type": "display_data"
    }
   ],
   "source": [
    "display(hour_order.datetime.is_monotonic)"
   ]
  },
  {
   "cell_type": "markdown",
   "metadata": {},
   "source": [
    "Проверим, все ли интервалы равны 10 минутам"
   ]
  },
  {
   "cell_type": "code",
   "execution_count": 9,
   "metadata": {},
   "outputs": [
    {
     "name": "stdout",
     "output_type": "stream",
     "text": [
      "Количество интервалов, не равное 10 минутам: 1\n"
     ]
    }
   ],
   "source": [
    "print(f'Количество интервалов, не равное 10 минутам: {len(hour_order[hour_order[\"datetime\"].diff() != pd.Timedelta(\"10m\")])}')"
   ]
  },
  {
   "cell_type": "markdown",
   "metadata": {},
   "source": [
    "Все в порядке. Один интервал не сходится так это интервал между первой строкой и отсутствующей предыдущей. Остальные интервалы ровно по 10 минут"
   ]
  },
  {
   "cell_type": "markdown",
   "metadata": {},
   "source": [
    "Установим индекс таблицы равный столбцу \"datetime\""
   ]
  },
  {
   "cell_type": "code",
   "execution_count": 10,
   "metadata": {},
   "outputs": [],
   "source": [
    "hour_order.set_index('datetime', inplace=True)"
   ]
  },
  {
   "cell_type": "markdown",
   "metadata": {},
   "source": [
    "Порядок соблюден, дубликаты отсутствуют, интервал соблюден. У нас в распоряжении выборка в период с 1 марта 2018 г. по 31 августа 2018 г. включительно."
   ]
  },
  {
   "cell_type": "markdown",
   "metadata": {},
   "source": [
    "Изменим интервал временного ряда с 10 минут на 1 час. Количество заказов такси просуммируем. Выполним ресемплирование"
   ]
  },
  {
   "cell_type": "code",
   "execution_count": 11,
   "metadata": {},
   "outputs": [],
   "source": [
    "hour_order = hour_order.resample('1H').sum()"
   ]
  },
  {
   "cell_type": "markdown",
   "metadata": {},
   "source": [
    "Снова выведем основные статистические показатели"
   ]
  },
  {
   "cell_type": "code",
   "execution_count": 12,
   "metadata": {},
   "outputs": [
    {
     "data": {
      "text/html": [
       "<div>\n",
       "<style scoped>\n",
       "    .dataframe tbody tr th:only-of-type {\n",
       "        vertical-align: middle;\n",
       "    }\n",
       "\n",
       "    .dataframe tbody tr th {\n",
       "        vertical-align: top;\n",
       "    }\n",
       "\n",
       "    .dataframe thead th {\n",
       "        text-align: right;\n",
       "    }\n",
       "</style>\n",
       "<table border=\"1\" class=\"dataframe\">\n",
       "  <thead>\n",
       "    <tr style=\"text-align: right;\">\n",
       "      <th></th>\n",
       "      <th>count</th>\n",
       "      <th>mean</th>\n",
       "      <th>std</th>\n",
       "      <th>min</th>\n",
       "      <th>25%</th>\n",
       "      <th>50%</th>\n",
       "      <th>75%</th>\n",
       "      <th>max</th>\n",
       "    </tr>\n",
       "  </thead>\n",
       "  <tbody>\n",
       "    <tr>\n",
       "      <th>num_orders</th>\n",
       "      <td>4416.0</td>\n",
       "      <td>84.422781</td>\n",
       "      <td>45.023853</td>\n",
       "      <td>0.0</td>\n",
       "      <td>54.0</td>\n",
       "      <td>78.0</td>\n",
       "      <td>107.0</td>\n",
       "      <td>462.0</td>\n",
       "    </tr>\n",
       "  </tbody>\n",
       "</table>\n",
       "</div>"
      ],
      "text/plain": [
       "             count       mean        std  min   25%   50%    75%    max\n",
       "num_orders  4416.0  84.422781  45.023853  0.0  54.0  78.0  107.0  462.0"
      ]
     },
     "metadata": {},
     "output_type": "display_data"
    }
   ],
   "source": [
    "display(hour_order.describe().T)"
   ]
  },
  {
   "cell_type": "markdown",
   "metadata": {},
   "source": [
    "У нас все еще имеются временные интервалы с нулевым количеством заказов такси. Изменим тип данных столбца \"num_orders\" на \"uint16\""
   ]
  },
  {
   "cell_type": "code",
   "execution_count": 13,
   "metadata": {},
   "outputs": [],
   "source": [
    "hour_order = hour_order.astype('uint16')"
   ]
  },
  {
   "cell_type": "markdown",
   "metadata": {},
   "source": [
    "## Анализ"
   ]
  },
  {
   "cell_type": "markdown",
   "metadata": {},
   "source": [
    "Изучим часы, когда заказов такси небыло"
   ]
  },
  {
   "cell_type": "code",
   "execution_count": 14,
   "metadata": {},
   "outputs": [
    {
     "data": {
      "text/html": [
       "<div>\n",
       "<style scoped>\n",
       "    .dataframe tbody tr th:only-of-type {\n",
       "        vertical-align: middle;\n",
       "    }\n",
       "\n",
       "    .dataframe tbody tr th {\n",
       "        vertical-align: top;\n",
       "    }\n",
       "\n",
       "    .dataframe thead th {\n",
       "        text-align: right;\n",
       "    }\n",
       "</style>\n",
       "<table border=\"1\" class=\"dataframe\">\n",
       "  <thead>\n",
       "    <tr style=\"text-align: right;\">\n",
       "      <th></th>\n",
       "      <th>num_orders</th>\n",
       "    </tr>\n",
       "    <tr>\n",
       "      <th>datetime</th>\n",
       "      <th></th>\n",
       "    </tr>\n",
       "  </thead>\n",
       "  <tbody>\n",
       "    <tr>\n",
       "      <th>2018-04-06 06:00:00</th>\n",
       "      <td>0</td>\n",
       "    </tr>\n",
       "  </tbody>\n",
       "</table>\n",
       "</div>"
      ],
      "text/plain": [
       "                     num_orders\n",
       "datetime                       \n",
       "2018-04-06 06:00:00           0"
      ]
     },
     "metadata": {},
     "output_type": "display_data"
    }
   ],
   "source": [
    "display(hour_order.query('num_orders == 0'))"
   ]
  },
  {
   "cell_type": "markdown",
   "metadata": {},
   "source": [
    "За пол года всего один час, когда небыло заказов. Такое более чем возможно."
   ]
  },
  {
   "cell_type": "markdown",
   "metadata": {},
   "source": [
    "Подготовим функцию для вывода графиков временных рядов"
   ]
  },
  {
   "cell_type": "code",
   "execution_count": 15,
   "metadata": {},
   "outputs": [],
   "source": [
    "def time_series(df, ttl, xl, yl, day_week):\n",
    "    sns.set(style='darkgrid')\n",
    "    plt.figure(figsize=(16, 3))\n",
    "    ax = sns.lineplot(data=df , palette='Set1', linewidth=1)\n",
    "    if day_week:\n",
    "        date_form = DateFormatter('%A')\n",
    "        ax.xaxis.set_major_formatter(date_form)\n",
    "        ax.xaxis.set_major_locator(mdates.DayLocator(interval=1))\n",
    "    plt.title(ttl)\n",
    "    plt.xlabel(xl)\n",
    "    plt.ylabel(yl)\n",
    "    plt.show()"
   ]
  },
  {
   "cell_type": "markdown",
   "metadata": {},
   "source": [
    "Выведем почасовой график заказов такси за весь период"
   ]
  },
  {
   "cell_type": "code",
   "execution_count": 16,
   "metadata": {},
   "outputs": [
    {
     "data": {
      "image/png": "[encoded data removed]",
      "text/plain": [
       "<Figure size 1152x216 with 1 Axes>"
      ]
     },
     "metadata": {},
     "output_type": "display_data"
    }
   ],
   "source": [
    "time_series(hour_order, 'Почасовой график заказов такси', 'Дата', 'Количество заказов', False)"
   ]
  },
  {
   "cell_type": "markdown",
   "metadata": {},
   "source": [
    "Все слипается, по такому графику мы не сделаем выводов. Выведем график скользящего среднего с окном равным 168 и скользящее стандартное отклонение с тем же окном"
   ]
  },
  {
   "cell_type": "code",
   "execution_count": 17,
   "metadata": {},
   "outputs": [
    {
     "data": {
      "image/png": "[encoded data removed]",
      "text/plain": [
       "<Figure size 1152x216 with 1 Axes>"
      ]
     },
     "metadata": {},
     "output_type": "display_data"
    },
    {
     "data": {
      "image/png": "[encoded data removed]",
      "text/plain": [
       "<Figure size 1152x216 with 1 Axes>"
      ]
     },
     "metadata": {},
     "output_type": "display_data"
    }
   ],
   "source": [
    "time_series(hour_order['num_orders'].rolling(168).mean(), 'Скользящее среднее', 'Дата', 'Количество заказов', False)\n",
    "time_series(hour_order['num_orders'].rolling(168).std(),\\\n",
    "            'Скользящее стандартное отклонение', 'Дата', 'Количество заказов', False)"
   ]
  },
  {
   "cell_type": "markdown",
   "metadata": {},
   "source": [
    "Видим на обоих графиках что среднее значение и стандартное отклонение со временем изменяются, а значит стохастический процесс времянного ряда нестационарный. Также стоит отметить, что с марта по июль количество заказов такси увеличивается плавно, но увеличение заказов в августе отлично от остальных месяцев, рост более резкий. Кроме того наблюдается заметный спад заказов в начале большенства месяцев."
   ]
  },
  {
   "cell_type": "markdown",
   "metadata": {},
   "source": [
    "Выведем графики сезонности, тренда и шумов"
   ]
  },
  {
   "cell_type": "code",
   "execution_count": 18,
   "metadata": {},
   "outputs": [
    {
     "data": {
      "image/png": "[encoded data removed]",
      "text/plain": [
       "<Figure size 1152x216 with 1 Axes>"
      ]
     },
     "metadata": {},
     "output_type": "display_data"
    },
    {
     "data": {
      "image/png": "[encoded data removed]",
      "text/plain": [
       "<Figure size 1152x216 with 1 Axes>"
      ]
     },
     "metadata": {},
     "output_type": "display_data"
    },
    {
     "data": {
      "image/png": "[encoded data removed]",
      "text/plain": [
       "<Figure size 1152x216 with 1 Axes>"
      ]
     },
     "metadata": {},
     "output_type": "display_data"
    }
   ],
   "source": [
    "time_series(seasonal_decompose(hour_order).seasonal, 'Сезонность', 'Дата', '', False)\n",
    "time_series(seasonal_decompose(hour_order).trend, 'Тренд', 'Дата', '', False)\n",
    "time_series(seasonal_decompose(hour_order).resid, 'Остаток декомпозиции', 'Дата', '', False)"
   ]
  },
  {
   "cell_type": "markdown",
   "metadata": {},
   "source": [
    "С трендом вроде все понятно, мы наблюдаем постонное увеличение заказов, возможно это следствие увеличения клиентской базы. Сезонность проанализировать невозможно, необходим изменять масштаб. В шумах заметны отдельные всплески как внутри каждого месяца так и в августе по сравнению с остальными месяцами. Изучим поподробнее шумы в августе"
   ]
  },
  {
   "cell_type": "code",
   "execution_count": 19,
   "metadata": {},
   "outputs": [
    {
     "data": {
      "image/png": "[encoded data removed]",
      "text/plain": [
       "<Figure size 1152x216 with 1 Axes>"
      ]
     },
     "metadata": {},
     "output_type": "display_data"
    }
   ],
   "source": [
    "time_series(seasonal_decompose(hour_order).resid['2018-08-01':'2018-08-31'],\\\n",
    "            'Остаток декомпозиции за август', 'Дата', '', False)"
   ]
  },
  {
   "cell_type": "markdown",
   "metadata": {},
   "source": [
    "Напишем функцию вывода наименования дня недели по дате"
   ]
  },
  {
   "cell_type": "code",
   "execution_count": 20,
   "metadata": {},
   "outputs": [],
   "source": [
    "def day_of_the_week(year, month, day):\n",
    "    return calendar.day_abbr[datetime.date(year, month, day).weekday()]"
   ]
  },
  {
   "cell_type": "markdown",
   "metadata": {},
   "source": [
    "В августе у нас имеется четыре сильных всплеска по шумам, узнаем что это за дни недели"
   ]
  },
  {
   "cell_type": "code",
   "execution_count": 21,
   "metadata": {},
   "outputs": [
    {
     "name": "stdout",
     "output_type": "stream",
     "text": [
      "Mon Mon Mon Fri\n"
     ]
    }
   ],
   "source": [
    "print(day_of_the_week(2018, 8, 13), day_of_the_week(2018, 8, 20), day_of_the_week(2018, 8, 27), day_of_the_week(2018, 8, 31))"
   ]
  },
  {
   "cell_type": "markdown",
   "metadata": {},
   "source": [
    "Очень странные шумы... В первый понедельник месяца все также как и в остальные дни, но остальные понедельники имеют сильный шум."
   ]
  },
  {
   "cell_type": "markdown",
   "metadata": {},
   "source": [
    "Изучим более приближенно сезонность по двум месяцам"
   ]
  },
  {
   "cell_type": "code",
   "execution_count": 22,
   "metadata": {},
   "outputs": [
    {
     "data": {
      "image/png": "[encoded data removed]",
      "text/plain": [
       "<Figure size 1152x216 with 1 Axes>"
      ]
     },
     "metadata": {},
     "output_type": "display_data"
    },
    {
     "data": {
      "image/png": "[encoded data removed]",
      "text/plain": [
       "<Figure size 1152x216 with 1 Axes>"
      ]
     },
     "metadata": {},
     "output_type": "display_data"
    }
   ],
   "source": [
    "time_series(seasonal_decompose(hour_order['2018-06']).seasonal['2018-06-01':'2018-06-02'],\\\n",
    "            'Сезонность по часам - июнь', 'Дата', '', False)\n",
    "time_series(seasonal_decompose(hour_order['2018-07']).seasonal['2018-07-01':'2018-07-02'],\\\n",
    "            'Сезонность по часам - июль', 'Дата', '', False)"
   ]
  },
  {
   "cell_type": "markdown",
   "metadata": {},
   "source": [
    "Мы наблюдаем циклично повторяющиеся закономерности. Наибольшее количество заказов приходится на ночное время суток - примерно с 11 вечера до 4 утра, видимо это следствие отсутствия в это время суток общественного транспорта, c 9 до 11 утра - на начало рабочего дня (странно что не с 7-8 устра), а так же на промежуток с 16 часов до 18-ти - под конец рабочего дня . Наименьшее же количество заказов приходится на 6 утра (как мы ранее заметили оно даже достигает 0)."
   ]
  },
  {
   "cell_type": "markdown",
   "metadata": {},
   "source": [
    "Изучим сезонность по дням недели. Выберем по одной неделе каждого месяца для сравнения."
   ]
  },
  {
   "cell_type": "code",
   "execution_count": 23,
   "metadata": {},
   "outputs": [
    {
     "data": {
      "image/png": "[encoded data removed]",
      "text/plain": [
       "<Figure size 1152x216 with 1 Axes>"
      ]
     },
     "metadata": {},
     "output_type": "display_data"
    },
    {
     "data": {
      "image/png": "[encoded data removed]",
      "text/plain": [
       "<Figure size 1152x216 with 1 Axes>"
      ]
     },
     "metadata": {},
     "output_type": "display_data"
    },
    {
     "data": {
      "image/png": "[encoded data removed]",
      "text/plain": [
       "<Figure size 1152x216 with 1 Axes>"
      ]
     },
     "metadata": {},
     "output_type": "display_data"
    },
    {
     "data": {
      "image/png": "[encoded data removed]",
      "text/plain": [
       "<Figure size 1152x216 with 1 Axes>"
      ]
     },
     "metadata": {},
     "output_type": "display_data"
    },
    {
     "data": {
      "image/png": "[encoded data removed]",
      "text/plain": [
       "<Figure size 1152x216 with 1 Axes>"
      ]
     },
     "metadata": {},
     "output_type": "display_data"
    },
    {
     "data": {
      "image/png": "[encoded data removed]",
      "text/plain": [
       "<Figure size 1152x216 with 1 Axes>"
      ]
     },
     "metadata": {},
     "output_type": "display_data"
    }
   ],
   "source": [
    "time_series(seasonal_decompose(hour_order['2018-03'].resample('1D').mean()).seasonal['2018-03-05':'2018-03-12'],\\\n",
    "            'Сезонность по дням недели - начало марта', 'День недели', '', True)\n",
    "time_series(seasonal_decompose(hour_order['2018-04'].resample('1D').mean()).seasonal['2018-04-02':'2018-04-09'],\\\n",
    "            'Сезонность по дням недели - начало апреля', 'День недели', '', True)\n",
    "time_series(seasonal_decompose(hour_order['2018-05'].resample('1D').mean()).seasonal['2018-05-07':'2018-05-14'],\\\n",
    "            'Сезонность по дням недели - начало мая', 'День недели', '', True)\n",
    "time_series(seasonal_decompose(hour_order['2018-06'].resample('1D').mean()).seasonal['2018-06-04':'2018-06-11'],\\\n",
    "            'Сезонность по дням недели - начало июня', 'День недели', '', True)\n",
    "time_series(seasonal_decompose(hour_order['2018-07'].resample('1D').mean()).seasonal['2018-07-02':'2018-07-09'],\\\n",
    "            'Сезонность по дням недели - начало июля', 'День недели', '', True)\n",
    "time_series(seasonal_decompose(hour_order['2018-08'].resample('1D').mean()).seasonal['2018-08-06':'2018-08-13'],\\\n",
    "            'Сезонность по дням недели - начало августа', 'День недели', '', True)"
   ]
  },
  {
   "cell_type": "markdown",
   "metadata": {},
   "source": [
    "По каждому из 6 месяцев сезонность различная. Из общего можно отметить что вторник и воскресенье всегда наименее популярные дни для заказа такси, а понедельник и пятница - наиболее загруженные дни по количеству заказов. Так же стоит отметить март и май - в эти месяцы сильно загружен четверг, а по понедельникам в августе заказы в разы превышают остальные дни. Приступим к обучению моделей."
   ]
  },
  {
   "cell_type": "markdown",
   "metadata": {},
   "source": [
    "## Обучение"
   ]
  },
  {
   "cell_type": "markdown",
   "metadata": {},
   "source": [
    "Для начала выведем значение RMSE, которое в дальнейшем будем сравнивать с RMSE моделей для проверки на адекватность, путем сравнения текущего количества заказов с предыдущим по ряду"
   ]
  },
  {
   "cell_type": "code",
   "execution_count": 24,
   "metadata": {},
   "outputs": [
    {
     "name": "stdout",
     "output_type": "stream",
     "text": [
      "RMSE по предыдущему значению ряда: 58.86\n"
     ]
    }
   ],
   "source": [
    "train_adequacy, test_adequacy = train_test_split(hour_order, shuffle=False, test_size=0.1)\n",
    "print('RMSE по предыдущему значению ряда: {:.2f}'\\\n",
    "      .format(mean_squared_error(pd.DataFrame(index=test_adequacy.index, data=hour_order.shift()), test_adequacy) ** 0.5))"
   ]
  },
  {
   "cell_type": "markdown",
   "metadata": {},
   "source": [
    "Добавим в данные 4 календарно-временных признака - месяц, день, день недели и час заказа. Подберем максимальное количество отставаний от целевого признака и добавим отстающие признаки, количество которых будет равно значению максимального отставания, а значение каждого нового признака будет равно предыдущему значению признака с часовым шагом назад по времени. Так же подберем ширину окна и добавим последний признак - скользящее среднее по целевому признаку без учета текущего значения. В итоге у нас получится чуть меньшее количество наблюдений из за появившихся пропусков - строки с пропусками мы удалим."
   ]
  },
  {
   "cell_type": "code",
   "execution_count": 25,
   "metadata": {},
   "outputs": [],
   "source": [
    "def make_features(df, max_lag, rolling_mean_size):\n",
    "    df['month'], df['day'] = df.index.month, df.index.day\n",
    "    df['dayofweek'], df['hour'] = df.index.dayofweek, df.index.hour\n",
    "    \n",
    "    for lag in range(1, max_lag+1):\n",
    "        df['lag_' + str(lag)] = df['num_orders'].shift(lag)\n",
    "\n",
    "    df['rolling_mean'] = df['lag_1'].rolling(rolling_mean_size).mean()\n",
    "    df.dropna(inplace=True)\n",
    "    \n",
    "    \n",
    "\n",
    "make_features(hour_order, 150, 10)"
   ]
  },
  {
   "cell_type": "markdown",
   "metadata": {},
   "source": [
    "Разделим данные на обучающую и тестовую выборки в соотношении 9:1, а после на признаки и целевой признак."
   ]
  },
  {
   "cell_type": "code",
   "execution_count": 26,
   "metadata": {},
   "outputs": [],
   "source": [
    "X = hour_order.drop('num_orders', axis=1)\n",
    "y = hour_order.num_orders\n",
    "X_train, X_test, y_train, y_test = train_test_split(X, y, test_size=0.1, shuffle=False)"
   ]
  },
  {
   "cell_type": "markdown",
   "metadata": {},
   "source": [
    "Сохраним в переменную шапку таблицы, в которую постепенно будем сохранять результаты обучения и тестированияю"
   ]
  },
  {
   "cell_type": "code",
   "execution_count": 27,
   "metadata": {},
   "outputs": [],
   "source": [
    "all_result = pd.DataFrame(columns=['Модель', 'Оптимальные параметры',\\\n",
    "                                   'RMSE кросс-валидация', 'Время обучения, сек.', 'RMSE тест', 'Время предсказания, сек.'])"
   ]
  },
  {
   "cell_type": "markdown",
   "metadata": {},
   "source": [
    "Напишем функцию, которая:\n",
    "- На вход получит обучающую выборку, разделенную на признаки и целевой признак, обучаемую модель и ее гиперпараметры для перебора\n",
    "- Пропустит через кросс-валидатор GridSearchCV нашу выборку, попутно масштабируя признаки, разделяя их на 2 фолда без нарушения последовательности времени (при помощи TimeSeriesSplit) и перебирая гиперпараметры.\n",
    "- Вернет таблицу с информацией о наименовании модели, наилучшими подобранными параметрами, среднее RMSE по результатам кросс-валидации и время обучения модели.\n",
    "- В отдельную переменную сохранит обученную модель"
   ]
  },
  {
   "cell_type": "code",
   "execution_count": 28,
   "metadata": {},
   "outputs": [],
   "source": [
    "def my_pipe(X_tr, y_tr, regressor, regressor_name, params, results):\n",
    "        scaler = StandardScaler()\n",
    "        steps = [('normalizer', scaler), ('regressor', regressor)]\n",
    "        pipe = Pipeline(steps)\n",
    "    \n",
    "        tss_cv = TimeSeriesSplit(n_splits=2)\n",
    "\n",
    "        time_start_fit = timeit.default_timer()\n",
    "        grid_search = GridSearchCV(pipe, params, cv=tss_cv, scoring='neg_mean_squared_error',\\\n",
    "                                   n_jobs = -1, verbose = 0, pre_dispatch='2 * n_jobs')\n",
    "        grid_search.fit(X_tr, y_tr)\n",
    "        time_fit = timeit.default_timer() - time_start_fit\n",
    "        score = round((-grid_search.best_score_) ** 0.5, 4)\n",
    "            \n",
    "            \n",
    "        result = pd.DataFrame(data=[[regressor_name, grid_search.best_params_, score,\\\n",
    "                                     round(time_fit, 4), None, None]],\\\n",
    "                              columns=['Модель', 'Оптимальные параметры','RMSE кросс-валидация',\\\n",
    "                                       'Время обучения, сек.', 'RMSE тест', 'Время предсказания, сек.'])\n",
    "    \n",
    "        display(result)\n",
    "        return results.append(result, ignore_index=True), grid_search.best_estimator_"
   ]
  },
  {
   "cell_type": "markdown",
   "metadata": {},
   "source": [
    "При помощи функции обучим 5 различных моделей с подбором наилучших гиперпараметров ***(сам процесс подбора гиперпараметров не включен в проект ввиду крайне длительного по времени перебора параметров для некоторых моделей, модели будут обучатся уже на оптимальных гиперпараметрах)***"
   ]
  },
  {
   "cell_type": "code",
   "execution_count": 29,
   "metadata": {},
   "outputs": [
    {
     "data": {
      "text/html": [
       "<div>\n",
       "<style scoped>\n",
       "    .dataframe tbody tr th:only-of-type {\n",
       "        vertical-align: middle;\n",
       "    }\n",
       "\n",
       "    .dataframe tbody tr th {\n",
       "        vertical-align: top;\n",
       "    }\n",
       "\n",
       "    .dataframe thead th {\n",
       "        text-align: right;\n",
       "    }\n",
       "</style>\n",
       "<table border=\"1\" class=\"dataframe\">\n",
       "  <thead>\n",
       "    <tr style=\"text-align: right;\">\n",
       "      <th></th>\n",
       "      <th>Модель</th>\n",
       "      <th>Оптимальные параметры</th>\n",
       "      <th>RMSE кросс-валидация</th>\n",
       "      <th>Время обучения, сек.</th>\n",
       "      <th>RMSE тест</th>\n",
       "      <th>Время предсказания, сек.</th>\n",
       "    </tr>\n",
       "  </thead>\n",
       "  <tbody>\n",
       "    <tr>\n",
       "      <th>0</th>\n",
       "      <td>LinearRegression</td>\n",
       "      <td>{}</td>\n",
       "      <td>25.3461</td>\n",
       "      <td>2.2195</td>\n",
       "      <td>None</td>\n",
       "      <td>None</td>\n",
       "    </tr>\n",
       "  </tbody>\n",
       "</table>\n",
       "</div>"
      ],
      "text/plain": [
       "             Модель Оптимальные параметры  RMSE кросс-валидация  \\\n",
       "0  LinearRegression                    {}               25.3461   \n",
       "\n",
       "   Время обучения, сек. RMSE тест Время предсказания, сек.  \n",
       "0                2.2195      None                     None  "
      ]
     },
     "metadata": {},
     "output_type": "display_data"
    }
   ],
   "source": [
    "all_result, lin_reg = my_pipe(X_train, y_train, LinearRegression(), 'LinearRegression', {}, all_result)"
   ]
  },
  {
   "cell_type": "code",
   "execution_count": 30,
   "metadata": {},
   "outputs": [
    {
     "data": {
      "text/html": [
       "<div>\n",
       "<style scoped>\n",
       "    .dataframe tbody tr th:only-of-type {\n",
       "        vertical-align: middle;\n",
       "    }\n",
       "\n",
       "    .dataframe tbody tr th {\n",
       "        vertical-align: top;\n",
       "    }\n",
       "\n",
       "    .dataframe thead th {\n",
       "        text-align: right;\n",
       "    }\n",
       "</style>\n",
       "<table border=\"1\" class=\"dataframe\">\n",
       "  <thead>\n",
       "    <tr style=\"text-align: right;\">\n",
       "      <th></th>\n",
       "      <th>Модель</th>\n",
       "      <th>Оптимальные параметры</th>\n",
       "      <th>RMSE кросс-валидация</th>\n",
       "      <th>Время обучения, сек.</th>\n",
       "      <th>RMSE тест</th>\n",
       "      <th>Время предсказания, сек.</th>\n",
       "    </tr>\n",
       "  </thead>\n",
       "  <tbody>\n",
       "    <tr>\n",
       "      <th>0</th>\n",
       "      <td>Lasso Regression</td>\n",
       "      <td>{'regressor__alpha': 0.4, 'regressor__max_iter': 500}</td>\n",
       "      <td>24.4078</td>\n",
       "      <td>1.5952</td>\n",
       "      <td>None</td>\n",
       "      <td>None</td>\n",
       "    </tr>\n",
       "  </tbody>\n",
       "</table>\n",
       "</div>"
      ],
      "text/plain": [
       "             Модель                                  Оптимальные параметры  \\\n",
       "0  Lasso Regression  {'regressor__alpha': 0.4, 'regressor__max_iter': 500}   \n",
       "\n",
       "   RMSE кросс-валидация  Время обучения, сек. RMSE тест  \\\n",
       "0               24.4078                1.5952      None   \n",
       "\n",
       "  Время предсказания, сек.  \n",
       "0                     None  "
      ]
     },
     "metadata": {},
     "output_type": "display_data"
    }
   ],
   "source": [
    "all_result, lasso = my_pipe(X_train, y_train, Lasso(random_state=RAST), 'Lasso Regression',\\\n",
    "                            {'regressor__alpha': [0.4],'regressor__max_iter': [500]}, all_result)"
   ]
  },
  {
   "cell_type": "code",
   "execution_count": 31,
   "metadata": {},
   "outputs": [
    {
     "data": {
      "text/html": [
       "<div>\n",
       "<style scoped>\n",
       "    .dataframe tbody tr th:only-of-type {\n",
       "        vertical-align: middle;\n",
       "    }\n",
       "\n",
       "    .dataframe tbody tr th {\n",
       "        vertical-align: top;\n",
       "    }\n",
       "\n",
       "    .dataframe thead th {\n",
       "        text-align: right;\n",
       "    }\n",
       "</style>\n",
       "<table border=\"1\" class=\"dataframe\">\n",
       "  <thead>\n",
       "    <tr style=\"text-align: right;\">\n",
       "      <th></th>\n",
       "      <th>Модель</th>\n",
       "      <th>Оптимальные параметры</th>\n",
       "      <th>RMSE кросс-валидация</th>\n",
       "      <th>Время обучения, сек.</th>\n",
       "      <th>RMSE тест</th>\n",
       "      <th>Время предсказания, сек.</th>\n",
       "    </tr>\n",
       "  </thead>\n",
       "  <tbody>\n",
       "    <tr>\n",
       "      <th>0</th>\n",
       "      <td>DecisionTreeRegressor</td>\n",
       "      <td>{'regressor__max_depth': 6, 'regressor__min_samples_leaf': 18, 'regressor__min_samples_split': 5}</td>\n",
       "      <td>30.1192</td>\n",
       "      <td>1.8492</td>\n",
       "      <td>None</td>\n",
       "      <td>None</td>\n",
       "    </tr>\n",
       "  </tbody>\n",
       "</table>\n",
       "</div>"
      ],
      "text/plain": [
       "                  Модель  \\\n",
       "0  DecisionTreeRegressor   \n",
       "\n",
       "                                                                               Оптимальные параметры  \\\n",
       "0  {'regressor__max_depth': 6, 'regressor__min_samples_leaf': 18, 'regressor__min_samples_split': 5}   \n",
       "\n",
       "   RMSE кросс-валидация  Время обучения, сек. RMSE тест  \\\n",
       "0               30.1192                1.8492      None   \n",
       "\n",
       "  Время предсказания, сек.  \n",
       "0                     None  "
      ]
     },
     "metadata": {},
     "output_type": "display_data"
    }
   ],
   "source": [
    "all_result, tree = my_pipe(X_train, y_train, DecisionTreeRegressor(random_state=RAST), 'DecisionTreeRegressor',\\\n",
    "                           {'regressor__max_depth': [6], 'regressor__min_samples_split': [5],\\\n",
    "                            'regressor__min_samples_leaf': [18]}, all_result)"
   ]
  },
  {
   "cell_type": "code",
   "execution_count": 32,
   "metadata": {},
   "outputs": [
    {
     "data": {
      "text/html": [
       "<div>\n",
       "<style scoped>\n",
       "    .dataframe tbody tr th:only-of-type {\n",
       "        vertical-align: middle;\n",
       "    }\n",
       "\n",
       "    .dataframe tbody tr th {\n",
       "        vertical-align: top;\n",
       "    }\n",
       "\n",
       "    .dataframe thead th {\n",
       "        text-align: right;\n",
       "    }\n",
       "</style>\n",
       "<table border=\"1\" class=\"dataframe\">\n",
       "  <thead>\n",
       "    <tr style=\"text-align: right;\">\n",
       "      <th></th>\n",
       "      <th>Модель</th>\n",
       "      <th>Оптимальные параметры</th>\n",
       "      <th>RMSE кросс-валидация</th>\n",
       "      <th>Время обучения, сек.</th>\n",
       "      <th>RMSE тест</th>\n",
       "      <th>Время предсказания, сек.</th>\n",
       "    </tr>\n",
       "  </thead>\n",
       "  <tbody>\n",
       "    <tr>\n",
       "      <th>0</th>\n",
       "      <td>CatBoostRegressor</td>\n",
       "      <td>{'regressor__depth': 6, 'regressor__iterations': 1600, 'regressor__leaf_estimation_iterations': 6, 'regressor__learning_rate': 0.01, 'regressor__loss_function': 'RMSE'}</td>\n",
       "      <td>24.93</td>\n",
       "      <td>71.0261</td>\n",
       "      <td>None</td>\n",
       "      <td>None</td>\n",
       "    </tr>\n",
       "  </tbody>\n",
       "</table>\n",
       "</div>"
      ],
      "text/plain": [
       "              Модель  \\\n",
       "0  CatBoostRegressor   \n",
       "\n",
       "                                                                                                                                                      Оптимальные параметры  \\\n",
       "0  {'regressor__depth': 6, 'regressor__iterations': 1600, 'regressor__leaf_estimation_iterations': 6, 'regressor__learning_rate': 0.01, 'regressor__loss_function': 'RMSE'}   \n",
       "\n",
       "   RMSE кросс-валидация  Время обучения, сек. RMSE тест  \\\n",
       "0                 24.93               71.0261      None   \n",
       "\n",
       "  Время предсказания, сек.  \n",
       "0                     None  "
      ]
     },
     "metadata": {},
     "output_type": "display_data"
    }
   ],
   "source": [
    "all_result, cat_boost = my_pipe(X_train, y_train, CatBoostRegressor(random_state=RAST, verbose=0), 'CatBoostRegressor',\\\n",
    "                                {'regressor__iterations': [1600], 'regressor__depth': [6],\\\n",
    "                                 'regressor__learning_rate': [0.01], 'regressor__loss_function': ['RMSE'],\\\n",
    "                                 'regressor__leaf_estimation_iterations':[6]}, all_result)"
   ]
  },
  {
   "cell_type": "code",
   "execution_count": 33,
   "metadata": {},
   "outputs": [
    {
     "data": {
      "text/html": [
       "<div>\n",
       "<style scoped>\n",
       "    .dataframe tbody tr th:only-of-type {\n",
       "        vertical-align: middle;\n",
       "    }\n",
       "\n",
       "    .dataframe tbody tr th {\n",
       "        vertical-align: top;\n",
       "    }\n",
       "\n",
       "    .dataframe thead th {\n",
       "        text-align: right;\n",
       "    }\n",
       "</style>\n",
       "<table border=\"1\" class=\"dataframe\">\n",
       "  <thead>\n",
       "    <tr style=\"text-align: right;\">\n",
       "      <th></th>\n",
       "      <th>Модель</th>\n",
       "      <th>Оптимальные параметры</th>\n",
       "      <th>RMSE кросс-валидация</th>\n",
       "      <th>Время обучения, сек.</th>\n",
       "      <th>RMSE тест</th>\n",
       "      <th>Время предсказания, сек.</th>\n",
       "    </tr>\n",
       "  </thead>\n",
       "  <tbody>\n",
       "    <tr>\n",
       "      <th>0</th>\n",
       "      <td>LGBMRegressor</td>\n",
       "      <td>{'regressor__max_depth': 12, 'regressor__min_child_samples': 10, 'regressor__num_leaves': 17}</td>\n",
       "      <td>25.4962</td>\n",
       "      <td>2.4002</td>\n",
       "      <td>None</td>\n",
       "      <td>None</td>\n",
       "    </tr>\n",
       "  </tbody>\n",
       "</table>\n",
       "</div>"
      ],
      "text/plain": [
       "          Модель  \\\n",
       "0  LGBMRegressor   \n",
       "\n",
       "                                                                           Оптимальные параметры  \\\n",
       "0  {'regressor__max_depth': 12, 'regressor__min_child_samples': 10, 'regressor__num_leaves': 17}   \n",
       "\n",
       "   RMSE кросс-валидация  Время обучения, сек. RMSE тест  \\\n",
       "0               25.4962                2.4002      None   \n",
       "\n",
       "  Время предсказания, сек.  \n",
       "0                     None  "
      ]
     },
     "metadata": {},
     "output_type": "display_data"
    }
   ],
   "source": [
    "all_result, lgbm = my_pipe(X_train, y_train, LGBMRegressor(random_state=RAST, verbose=0, force_col_wise = True),\\\n",
    "                           'LGBMRegressor', {'regressor__max_depth': [12],'regressor__num_leaves': [17],\\\n",
    "                                             'regressor__min_child_samples':[10]}, all_result)"
   ]
  },
  {
   "cell_type": "markdown",
   "metadata": {},
   "source": [
    "Изучим финальный результат обучения"
   ]
  },
  {
   "cell_type": "code",
   "execution_count": 34,
   "metadata": {},
   "outputs": [
    {
     "data": {
      "text/html": [
       "<div>\n",
       "<style scoped>\n",
       "    .dataframe tbody tr th:only-of-type {\n",
       "        vertical-align: middle;\n",
       "    }\n",
       "\n",
       "    .dataframe tbody tr th {\n",
       "        vertical-align: top;\n",
       "    }\n",
       "\n",
       "    .dataframe thead th {\n",
       "        text-align: right;\n",
       "    }\n",
       "</style>\n",
       "<table border=\"1\" class=\"dataframe\">\n",
       "  <thead>\n",
       "    <tr style=\"text-align: right;\">\n",
       "      <th></th>\n",
       "      <th>Модель</th>\n",
       "      <th>Оптимальные параметры</th>\n",
       "      <th>RMSE кросс-валидация</th>\n",
       "      <th>Время обучения, сек.</th>\n",
       "      <th>RMSE тест</th>\n",
       "      <th>Время предсказания, сек.</th>\n",
       "    </tr>\n",
       "  </thead>\n",
       "  <tbody>\n",
       "    <tr>\n",
       "      <th>0</th>\n",
       "      <td>LinearRegression</td>\n",
       "      <td>{}</td>\n",
       "      <td>25.3461</td>\n",
       "      <td>2.2195</td>\n",
       "      <td>None</td>\n",
       "      <td>None</td>\n",
       "    </tr>\n",
       "    <tr>\n",
       "      <th>1</th>\n",
       "      <td>Lasso Regression</td>\n",
       "      <td>{'regressor__alpha': 0.4, 'regressor__max_iter': 500}</td>\n",
       "      <td>24.4078</td>\n",
       "      <td>1.5952</td>\n",
       "      <td>None</td>\n",
       "      <td>None</td>\n",
       "    </tr>\n",
       "    <tr>\n",
       "      <th>2</th>\n",
       "      <td>DecisionTreeRegressor</td>\n",
       "      <td>{'regressor__max_depth': 6, 'regressor__min_samples_leaf': 18, 'regressor__min_samples_split': 5}</td>\n",
       "      <td>30.1192</td>\n",
       "      <td>1.8492</td>\n",
       "      <td>None</td>\n",
       "      <td>None</td>\n",
       "    </tr>\n",
       "    <tr>\n",
       "      <th>3</th>\n",
       "      <td>CatBoostRegressor</td>\n",
       "      <td>{'regressor__depth': 6, 'regressor__iterations': 1600, 'regressor__leaf_estimation_iterations': 6, 'regressor__learning_rate': 0.01, 'regressor__loss_function': 'RMSE'}</td>\n",
       "      <td>24.9300</td>\n",
       "      <td>71.0261</td>\n",
       "      <td>None</td>\n",
       "      <td>None</td>\n",
       "    </tr>\n",
       "    <tr>\n",
       "      <th>4</th>\n",
       "      <td>LGBMRegressor</td>\n",
       "      <td>{'regressor__max_depth': 12, 'regressor__min_child_samples': 10, 'regressor__num_leaves': 17}</td>\n",
       "      <td>25.4962</td>\n",
       "      <td>2.4002</td>\n",
       "      <td>None</td>\n",
       "      <td>None</td>\n",
       "    </tr>\n",
       "  </tbody>\n",
       "</table>\n",
       "</div>"
      ],
      "text/plain": [
       "                  Модель  \\\n",
       "0       LinearRegression   \n",
       "1       Lasso Regression   \n",
       "2  DecisionTreeRegressor   \n",
       "3      CatBoostRegressor   \n",
       "4          LGBMRegressor   \n",
       "\n",
       "                                                                                                                                                      Оптимальные параметры  \\\n",
       "0                                                                                                                                                                        {}   \n",
       "1                                                                                                                     {'regressor__alpha': 0.4, 'regressor__max_iter': 500}   \n",
       "2                                                                         {'regressor__max_depth': 6, 'regressor__min_samples_leaf': 18, 'regressor__min_samples_split': 5}   \n",
       "3  {'regressor__depth': 6, 'regressor__iterations': 1600, 'regressor__leaf_estimation_iterations': 6, 'regressor__learning_rate': 0.01, 'regressor__loss_function': 'RMSE'}   \n",
       "4                                                                             {'regressor__max_depth': 12, 'regressor__min_child_samples': 10, 'regressor__num_leaves': 17}   \n",
       "\n",
       "   RMSE кросс-валидация  Время обучения, сек. RMSE тест  \\\n",
       "0               25.3461                2.2195      None   \n",
       "1               24.4078                1.5952      None   \n",
       "2               30.1192                1.8492      None   \n",
       "3               24.9300               71.0261      None   \n",
       "4               25.4962                2.4002      None   \n",
       "\n",
       "  Время предсказания, сек.  \n",
       "0                     None  \n",
       "1                     None  \n",
       "2                     None  \n",
       "3                     None  \n",
       "4                     None  "
      ]
     },
     "metadata": {},
     "output_type": "display_data"
    }
   ],
   "source": [
    "display(all_result)"
   ]
  },
  {
   "cell_type": "markdown",
   "metadata": {},
   "source": [
    "Четыре из пяти моделей показали примерно одинаковый результат метрики RMSE - в среднем они ошибаются на 25 заказов. Хуже всех справилась с задачей модель Дерево решений. Так же стоит отметить что  линейные модели обучаются очень быстро в сравнении с моделями с использованием градиентного бустинга, при этом обучение модели CatBoostRegressor в десятки раз проходит дольше чем у модели LGBMRegressor. Приступим к тестированию"
   ]
  },
  {
   "cell_type": "markdown",
   "metadata": {},
   "source": [
    "## Тестирование"
   ]
  },
  {
   "cell_type": "markdown",
   "metadata": {},
   "source": [
    "Сохраним в отдельную переменную все наши модели"
   ]
  },
  {
   "cell_type": "code",
   "execution_count": 35,
   "metadata": {},
   "outputs": [],
   "source": [
    "models = [lin_reg, lasso, tree, cat_boost, lgbm]"
   ]
  },
  {
   "cell_type": "markdown",
   "metadata": {},
   "source": [
    "Через цикл протестируем все модели и добавим результаты в таблицу"
   ]
  },
  {
   "cell_type": "code",
   "execution_count": 36,
   "metadata": {},
   "outputs": [],
   "source": [
    "for i in range(len(models)):\n",
    "    time_start_pred = timeit.default_timer()\n",
    "    pred = models[i].predict(X_test)\n",
    "    all_result.iloc[i, 5] = round(timeit.default_timer() - time_start_pred, 4)\n",
    "    all_result.iloc[i, 4] = round(mean_squared_error(y_test, pred) ** 0.5, 4)"
   ]
  },
  {
   "cell_type": "markdown",
   "metadata": {},
   "source": [
    "## Вывод"
   ]
  },
  {
   "cell_type": "markdown",
   "metadata": {},
   "source": [
    "Перед обучением моделей мы загрузили и изучили данные. В нашем распоряжении было 26496 наблюдений с количеством заказов такси в период с 1 марта 2018 года по 31 августа 2018 года. В качестве признака были 10-ти минутные интервалы с указанием даты и времени. В качестве целевого признака - количество заказов такси за текущий промежуток времени. Были сделаны следуюшие шаги и выводы:\n",
    "- Изменили интервал временного ряда с 10 минут на 1 час с суммированием количества заказов\n",
    "- Почти по всем месяцам количество заказов проседает в начале месяца в сравнении с количеством заказов в конце предыдущего месяца\n",
    "- Выявлен тренд, с каждым месяцем, в общем, количество заказов увеличивается\n",
    "- Изучена дневная сезонность. Вне зависимости от дня и месяца, наибольшее количество заказов приходится на ночное время суток - примерно с 11 вечера до 4 утра, c 9 до 11 утра - на начало рабочего дня , а так же на промежуток с 16 часов до 18-ти - под конец рабочего дня . Наименьшее же количество заказов приходится на 6 утра.\n",
    "- Изучена недельная сезонность. По каждому из месяцев она частично различна. Из общего можно отметить что вторник и воскресенье всегда наименее популярные дни для заказа такси, а понедельник и пятница - наиболее загруженные дни по количеству заказов. Так же стоит отметить март и май - в эти месяцы сильно загружен четверг, а по понедельникам в августе заказы в разы превышают остальные дни.\n",
    "\n",
    "Далее мы обучили 2 линейные модели, модель Дерево решений, а также 2 модели с использованием градиентного бустинга. По результатам обучения почти все модели показали одинаковый результат метрики RMSE, но можно выделить в худшую сторону модель CatBoostRegressor, так как ее скорость обучения без использования GPU в десятки, а местами даже сотни раз дольше чем у остальных моделей. Изучим результаты тестирования моделей и выберем лучшую модель."
   ]
  },
  {
   "cell_type": "code",
   "execution_count": 37,
   "metadata": {},
   "outputs": [
    {
     "data": {
      "text/html": [
       "<div>\n",
       "<style scoped>\n",
       "    .dataframe tbody tr th:only-of-type {\n",
       "        vertical-align: middle;\n",
       "    }\n",
       "\n",
       "    .dataframe tbody tr th {\n",
       "        vertical-align: top;\n",
       "    }\n",
       "\n",
       "    .dataframe thead th {\n",
       "        text-align: right;\n",
       "    }\n",
       "</style>\n",
       "<table border=\"1\" class=\"dataframe\">\n",
       "  <thead>\n",
       "    <tr style=\"text-align: right;\">\n",
       "      <th></th>\n",
       "      <th>Модель</th>\n",
       "      <th>Оптимальные параметры</th>\n",
       "      <th>RMSE кросс-валидация</th>\n",
       "      <th>Время обучения, сек.</th>\n",
       "      <th>RMSE тест</th>\n",
       "      <th>Время предсказания, сек.</th>\n",
       "    </tr>\n",
       "  </thead>\n",
       "  <tbody>\n",
       "    <tr>\n",
       "      <th>0</th>\n",
       "      <td>LinearRegression</td>\n",
       "      <td>{}</td>\n",
       "      <td>25.3461</td>\n",
       "      <td>2.2195</td>\n",
       "      <td>40.2986</td>\n",
       "      <td>0.0095</td>\n",
       "    </tr>\n",
       "    <tr>\n",
       "      <th>1</th>\n",
       "      <td>Lasso Regression</td>\n",
       "      <td>{'regressor__alpha': 0.4, 'regressor__max_iter': 500}</td>\n",
       "      <td>24.4078</td>\n",
       "      <td>1.5952</td>\n",
       "      <td>39.3835</td>\n",
       "      <td>0.0055</td>\n",
       "    </tr>\n",
       "    <tr>\n",
       "      <th>2</th>\n",
       "      <td>DecisionTreeRegressor</td>\n",
       "      <td>{'regressor__max_depth': 6, 'regressor__min_samples_leaf': 18, 'regressor__min_samples_split': 5}</td>\n",
       "      <td>30.1192</td>\n",
       "      <td>1.8492</td>\n",
       "      <td>48.9802</td>\n",
       "      <td>0.0054</td>\n",
       "    </tr>\n",
       "    <tr>\n",
       "      <th>3</th>\n",
       "      <td>CatBoostRegressor</td>\n",
       "      <td>{'regressor__depth': 6, 'regressor__iterations': 1600, 'regressor__leaf_estimation_iterations': 6, 'regressor__learning_rate': 0.01, 'regressor__loss_function': 'RMSE'}</td>\n",
       "      <td>24.9300</td>\n",
       "      <td>71.0261</td>\n",
       "      <td>37.1843</td>\n",
       "      <td>0.0109</td>\n",
       "    </tr>\n",
       "    <tr>\n",
       "      <th>4</th>\n",
       "      <td>LGBMRegressor</td>\n",
       "      <td>{'regressor__max_depth': 12, 'regressor__min_child_samples': 10, 'regressor__num_leaves': 17}</td>\n",
       "      <td>25.4962</td>\n",
       "      <td>2.4002</td>\n",
       "      <td>37.4573</td>\n",
       "      <td>0.0061</td>\n",
       "    </tr>\n",
       "  </tbody>\n",
       "</table>\n",
       "</div>"
      ],
      "text/plain": [
       "                  Модель  \\\n",
       "0       LinearRegression   \n",
       "1       Lasso Regression   \n",
       "2  DecisionTreeRegressor   \n",
       "3      CatBoostRegressor   \n",
       "4          LGBMRegressor   \n",
       "\n",
       "                                                                                                                                                      Оптимальные параметры  \\\n",
       "0                                                                                                                                                                        {}   \n",
       "1                                                                                                                     {'regressor__alpha': 0.4, 'regressor__max_iter': 500}   \n",
       "2                                                                         {'regressor__max_depth': 6, 'regressor__min_samples_leaf': 18, 'regressor__min_samples_split': 5}   \n",
       "3  {'regressor__depth': 6, 'regressor__iterations': 1600, 'regressor__leaf_estimation_iterations': 6, 'regressor__learning_rate': 0.01, 'regressor__loss_function': 'RMSE'}   \n",
       "4                                                                             {'regressor__max_depth': 12, 'regressor__min_child_samples': 10, 'regressor__num_leaves': 17}   \n",
       "\n",
       "   RMSE кросс-валидация  Время обучения, сек. RMSE тест  \\\n",
       "0               25.3461                2.2195   40.2986   \n",
       "1               24.4078                1.5952   39.3835   \n",
       "2               30.1192                1.8492   48.9802   \n",
       "3               24.9300               71.0261   37.1843   \n",
       "4               25.4962                2.4002   37.4573   \n",
       "\n",
       "  Время предсказания, сек.  \n",
       "0                   0.0095  \n",
       "1                   0.0055  \n",
       "2                   0.0054  \n",
       "3                   0.0109  \n",
       "4                   0.0061  "
      ]
     },
     "metadata": {},
     "output_type": "display_data"
    }
   ],
   "source": [
    "display(all_result)"
   ]
  },
  {
   "cell_type": "markdown",
   "metadata": {},
   "source": [
    "Четыре модели достигли цели - RMSE на тестовой выборке должно быть не больше 48. Наиболее лучший результат показала модель CatBoostRegressor, достигнуто значение метрики RMSE - 37.18, но у этой модели слишком долгое время обучения. Чуть худший результат но с высокой скоростью обучения показала модель LGBMRegressor - в среднем она ошибается на 37.46 заказов."
   ]
  }
 ],
 "metadata": {
  "ExecuteTimeLog": [
   {
    "duration": 745,
    "start_time": "2021-06-08T12:44:08.837Z"
   },
   {
    "duration": 41,
    "start_time": "2021-06-08T12:44:33.454Z"
   },
   {
    "duration": 12,
    "start_time": "2021-06-08T12:44:55.639Z"
   },
   {
    "duration": 32,
    "start_time": "2021-06-08T12:45:23.997Z"
   },
   {
    "duration": 428,
    "start_time": "2021-06-08T12:45:43.587Z"
   },
   {
    "duration": 9,
    "start_time": "2021-06-08T12:45:47.766Z"
   },
   {
    "duration": 12,
    "start_time": "2021-06-08T12:47:36.714Z"
   },
   {
    "duration": 8,
    "start_time": "2021-06-08T12:47:39.489Z"
   },
   {
    "duration": 780,
    "start_time": "2021-06-08T12:49:22.787Z"
   },
   {
    "duration": 41,
    "start_time": "2021-06-08T12:49:23.570Z"
   },
   {
    "duration": 9,
    "start_time": "2021-06-08T12:49:23.614Z"
   },
   {
    "duration": 437,
    "start_time": "2021-06-08T12:49:23.626Z"
   },
   {
    "duration": 991,
    "start_time": "2021-06-08T12:49:23.074Z"
   },
   {
    "duration": 988,
    "start_time": "2021-06-08T12:49:23.079Z"
   },
   {
    "duration": 987,
    "start_time": "2021-06-08T12:49:23.081Z"
   },
   {
    "duration": 986,
    "start_time": "2021-06-08T12:49:23.083Z"
   },
   {
    "duration": 986,
    "start_time": "2021-06-08T12:49:23.085Z"
   },
   {
    "duration": 18,
    "start_time": "2021-06-08T12:49:30.862Z"
   },
   {
    "duration": 13,
    "start_time": "2021-06-08T12:49:38.007Z"
   },
   {
    "duration": 9,
    "start_time": "2021-06-08T12:49:46.754Z"
   },
   {
    "duration": 340,
    "start_time": "2021-06-08T12:49:49.126Z"
   },
   {
    "duration": 24,
    "start_time": "2021-06-08T12:49:54.768Z"
   },
   {
    "duration": 5,
    "start_time": "2021-06-08T12:50:16.598Z"
   },
   {
    "duration": 24,
    "start_time": "2021-06-08T12:50:24.214Z"
   },
   {
    "duration": 727,
    "start_time": "2021-06-09T10:01:09.016Z"
   },
   {
    "duration": 4,
    "start_time": "2021-06-09T10:03:32.711Z"
   },
   {
    "duration": 40,
    "start_time": "2021-06-09T10:03:33.072Z"
   },
   {
    "duration": 3,
    "start_time": "2021-06-09T10:10:54.096Z"
   },
   {
    "duration": 41,
    "start_time": "2021-06-09T10:10:54.851Z"
   },
   {
    "duration": 14,
    "start_time": "2021-06-09T10:10:57.721Z"
   },
   {
    "duration": 22,
    "start_time": "2021-06-09T10:11:11.266Z"
   },
   {
    "duration": 13,
    "start_time": "2021-06-09T10:11:20.322Z"
   },
   {
    "duration": 13,
    "start_time": "2021-06-09T10:13:05.410Z"
   },
   {
    "duration": 12,
    "start_time": "2021-06-09T10:13:33.421Z"
   },
   {
    "duration": 13,
    "start_time": "2021-06-09T10:14:48.781Z"
   },
   {
    "duration": 17,
    "start_time": "2021-06-09T10:16:03.507Z"
   },
   {
    "duration": 4,
    "start_time": "2021-06-09T10:19:22.009Z"
   },
   {
    "duration": 17,
    "start_time": "2021-06-09T10:20:29.302Z"
   },
   {
    "duration": 22,
    "start_time": "2021-06-09T10:20:35.877Z"
   },
   {
    "duration": 21,
    "start_time": "2021-06-09T10:25:06.683Z"
   },
   {
    "duration": 172,
    "start_time": "2021-06-09T10:25:35.806Z"
   },
   {
    "duration": 355,
    "start_time": "2021-06-09T10:26:10.350Z"
   },
   {
    "duration": 22,
    "start_time": "2021-06-09T10:26:15.421Z"
   },
   {
    "duration": 12,
    "start_time": "2021-06-09T10:26:19.951Z"
   },
   {
    "duration": 11,
    "start_time": "2021-06-09T10:26:56.822Z"
   },
   {
    "duration": 11,
    "start_time": "2021-06-09T10:27:35.257Z"
   },
   {
    "duration": 14,
    "start_time": "2021-06-09T10:33:28.429Z"
   },
   {
    "duration": 5,
    "start_time": "2021-06-09T10:33:37.600Z"
   },
   {
    "duration": 11,
    "start_time": "2021-06-09T10:33:40.777Z"
   },
   {
    "duration": 729,
    "start_time": "2021-06-09T10:33:56.041Z"
   },
   {
    "duration": 41,
    "start_time": "2021-06-09T10:33:56.773Z"
   },
   {
    "duration": 11,
    "start_time": "2021-06-09T10:33:56.817Z"
   },
   {
    "duration": 40,
    "start_time": "2021-06-09T10:33:56.831Z"
   },
   {
    "duration": 29,
    "start_time": "2021-06-09T10:33:56.874Z"
   },
   {
    "duration": 41,
    "start_time": "2021-06-09T10:33:56.905Z"
   },
   {
    "duration": 11,
    "start_time": "2021-06-09T10:33:56.948Z"
   },
   {
    "duration": 31,
    "start_time": "2021-06-09T10:33:56.962Z"
   },
   {
    "duration": 7,
    "start_time": "2021-06-09T10:33:56.997Z"
   },
   {
    "duration": 8,
    "start_time": "2021-06-09T10:34:38.205Z"
   },
   {
    "duration": 17,
    "start_time": "2021-06-09T10:34:53.935Z"
   },
   {
    "duration": 371,
    "start_time": "2021-06-09T10:36:42.688Z"
   },
   {
    "duration": 302,
    "start_time": "2021-06-09T10:36:48.148Z"
   },
   {
    "duration": 6,
    "start_time": "2021-06-09T10:36:53.375Z"
   },
   {
    "duration": 765,
    "start_time": "2021-06-09T10:37:32.882Z"
   },
   {
    "duration": 40,
    "start_time": "2021-06-09T10:37:33.650Z"
   },
   {
    "duration": 11,
    "start_time": "2021-06-09T10:37:33.693Z"
   },
   {
    "duration": 40,
    "start_time": "2021-06-09T10:37:33.708Z"
   },
   {
    "duration": 22,
    "start_time": "2021-06-09T10:37:33.751Z"
   },
   {
    "duration": 53,
    "start_time": "2021-06-09T10:37:33.776Z"
   },
   {
    "duration": 5,
    "start_time": "2021-06-09T10:37:33.833Z"
   },
   {
    "duration": 10,
    "start_time": "2021-06-09T10:37:33.844Z"
   },
   {
    "duration": 5,
    "start_time": "2021-06-09T10:37:33.857Z"
   },
   {
    "duration": 14,
    "start_time": "2021-06-09T10:37:33.865Z"
   },
   {
    "duration": 387,
    "start_time": "2021-06-09T10:38:16.924Z"
   },
   {
    "duration": 743,
    "start_time": "2021-06-09T10:38:25.760Z"
   },
   {
    "duration": 52,
    "start_time": "2021-06-09T10:38:26.505Z"
   },
   {
    "duration": 16,
    "start_time": "2021-06-09T10:38:26.561Z"
   },
   {
    "duration": 68,
    "start_time": "2021-06-09T10:38:26.581Z"
   },
   {
    "duration": 23,
    "start_time": "2021-06-09T10:38:26.653Z"
   },
   {
    "duration": 61,
    "start_time": "2021-06-09T10:38:26.680Z"
   },
   {
    "duration": 7,
    "start_time": "2021-06-09T10:38:26.745Z"
   },
   {
    "duration": 15,
    "start_time": "2021-06-09T10:38:26.757Z"
   },
   {
    "duration": 7,
    "start_time": "2021-06-09T10:38:26.777Z"
   },
   {
    "duration": 38,
    "start_time": "2021-06-09T10:38:26.787Z"
   },
   {
    "duration": 4,
    "start_time": "2021-06-09T10:39:14.484Z"
   },
   {
    "duration": 5,
    "start_time": "2021-06-09T10:40:24.642Z"
   },
   {
    "duration": 4,
    "start_time": "2021-06-09T10:40:39.342Z"
   },
   {
    "duration": 677,
    "start_time": "2021-06-09T10:45:06.868Z"
   },
   {
    "duration": 39,
    "start_time": "2021-06-09T10:45:07.547Z"
   },
   {
    "duration": 9,
    "start_time": "2021-06-09T10:45:07.589Z"
   },
   {
    "duration": 38,
    "start_time": "2021-06-09T10:45:07.601Z"
   },
   {
    "duration": 16,
    "start_time": "2021-06-09T10:45:07.642Z"
   },
   {
    "duration": 26,
    "start_time": "2021-06-09T10:45:07.661Z"
   },
   {
    "duration": 5,
    "start_time": "2021-06-09T10:45:07.690Z"
   },
   {
    "duration": 8,
    "start_time": "2021-06-09T10:45:07.726Z"
   },
   {
    "duration": 350,
    "start_time": "2021-06-09T10:45:07.739Z"
   },
   {
    "duration": 1741,
    "start_time": "2021-06-09T10:45:06.351Z"
   },
   {
    "duration": 1741,
    "start_time": "2021-06-09T10:45:06.353Z"
   },
   {
    "duration": 280,
    "start_time": "2021-06-09T10:46:08.878Z"
   },
   {
    "duration": 9,
    "start_time": "2021-06-09T10:46:28.795Z"
   },
   {
    "duration": 8,
    "start_time": "2021-06-09T10:46:47.317Z"
   },
   {
    "duration": 5,
    "start_time": "2021-06-09T10:49:09.471Z"
   },
   {
    "duration": 6,
    "start_time": "2021-06-09T10:49:10.101Z"
   },
   {
    "duration": 293,
    "start_time": "2021-06-09T10:49:21.752Z"
   },
   {
    "duration": 711,
    "start_time": "2021-06-09T10:51:46.956Z"
   },
   {
    "duration": 39,
    "start_time": "2021-06-09T10:51:47.670Z"
   },
   {
    "duration": 13,
    "start_time": "2021-06-09T10:51:47.713Z"
   },
   {
    "duration": 26,
    "start_time": "2021-06-09T10:51:47.728Z"
   },
   {
    "duration": 13,
    "start_time": "2021-06-09T10:51:47.756Z"
   },
   {
    "duration": 58,
    "start_time": "2021-06-09T10:51:47.772Z"
   },
   {
    "duration": 5,
    "start_time": "2021-06-09T10:51:47.834Z"
   },
   {
    "duration": 8,
    "start_time": "2021-06-09T10:51:47.844Z"
   },
   {
    "duration": 353,
    "start_time": "2021-06-09T10:51:47.854Z"
   },
   {
    "duration": 1744,
    "start_time": "2021-06-09T10:51:46.466Z"
   },
   {
    "duration": 1743,
    "start_time": "2021-06-09T10:51:46.468Z"
   },
   {
    "duration": 1742,
    "start_time": "2021-06-09T10:51:46.470Z"
   },
   {
    "duration": 5,
    "start_time": "2021-06-09T10:52:12.228Z"
   },
   {
    "duration": 86,
    "start_time": "2021-06-09T10:54:47.767Z"
   },
   {
    "duration": 715,
    "start_time": "2021-06-09T10:55:10.894Z"
   },
   {
    "duration": 8,
    "start_time": "2021-06-09T10:55:48.856Z"
   },
   {
    "duration": 698,
    "start_time": "2021-06-09T10:56:31.368Z"
   },
   {
    "duration": 40,
    "start_time": "2021-06-09T10:56:32.069Z"
   },
   {
    "duration": 15,
    "start_time": "2021-06-09T10:56:32.112Z"
   },
   {
    "duration": 27,
    "start_time": "2021-06-09T10:56:32.130Z"
   },
   {
    "duration": 12,
    "start_time": "2021-06-09T10:56:32.160Z"
   },
   {
    "duration": 52,
    "start_time": "2021-06-09T10:56:32.174Z"
   },
   {
    "duration": 5,
    "start_time": "2021-06-09T10:56:32.228Z"
   },
   {
    "duration": 12,
    "start_time": "2021-06-09T10:56:32.237Z"
   },
   {
    "duration": 97,
    "start_time": "2021-06-09T10:56:32.252Z"
   },
   {
    "duration": 1746,
    "start_time": "2021-06-09T10:56:30.606Z"
   },
   {
    "duration": 1744,
    "start_time": "2021-06-09T10:56:30.609Z"
   },
   {
    "duration": 1743,
    "start_time": "2021-06-09T10:56:30.612Z"
   },
   {
    "duration": 1741,
    "start_time": "2021-06-09T10:56:30.616Z"
   },
   {
    "duration": 756,
    "start_time": "2021-06-09T10:57:01.893Z"
   },
   {
    "duration": 42,
    "start_time": "2021-06-09T10:57:02.651Z"
   },
   {
    "duration": 10,
    "start_time": "2021-06-09T10:57:02.695Z"
   },
   {
    "duration": 37,
    "start_time": "2021-06-09T10:57:02.708Z"
   },
   {
    "duration": 14,
    "start_time": "2021-06-09T10:57:02.748Z"
   },
   {
    "duration": 24,
    "start_time": "2021-06-09T10:57:02.765Z"
   },
   {
    "duration": 35,
    "start_time": "2021-06-09T10:57:02.791Z"
   },
   {
    "duration": 13,
    "start_time": "2021-06-09T10:57:02.830Z"
   },
   {
    "duration": 8,
    "start_time": "2021-06-09T10:57:02.846Z"
   },
   {
    "duration": 10,
    "start_time": "2021-06-09T10:57:02.857Z"
   },
   {
    "duration": 420,
    "start_time": "2021-06-09T10:57:02.870Z"
   },
   {
    "duration": 1748,
    "start_time": "2021-06-09T10:57:01.545Z"
   },
   {
    "duration": 11,
    "start_time": "2021-06-09T10:57:17.128Z"
   },
   {
    "duration": 12,
    "start_time": "2021-06-09T10:58:56.492Z"
   },
   {
    "duration": 11,
    "start_time": "2021-06-09T10:59:23.965Z"
   },
   {
    "duration": 749,
    "start_time": "2021-06-09T11:03:03.118Z"
   },
   {
    "duration": 42,
    "start_time": "2021-06-09T11:03:03.870Z"
   },
   {
    "duration": 16,
    "start_time": "2021-06-09T11:03:03.915Z"
   },
   {
    "duration": 27,
    "start_time": "2021-06-09T11:03:03.935Z"
   },
   {
    "duration": 13,
    "start_time": "2021-06-09T11:03:03.965Z"
   },
   {
    "duration": 54,
    "start_time": "2021-06-09T11:03:03.981Z"
   },
   {
    "duration": 5,
    "start_time": "2021-06-09T11:03:04.037Z"
   },
   {
    "duration": 30,
    "start_time": "2021-06-09T11:03:04.044Z"
   },
   {
    "duration": 16,
    "start_time": "2021-06-09T11:03:04.077Z"
   },
   {
    "duration": 10,
    "start_time": "2021-06-09T11:03:04.095Z"
   },
   {
    "duration": 9,
    "start_time": "2021-06-09T11:03:04.107Z"
   },
   {
    "duration": 1017,
    "start_time": "2021-06-09T11:10:54.323Z"
   },
   {
    "duration": 14,
    "start_time": "2021-06-09T11:15:18.922Z"
   },
   {
    "duration": 12,
    "start_time": "2021-06-09T11:15:21.902Z"
   },
   {
    "duration": 8,
    "start_time": "2021-06-09T11:15:30.816Z"
   },
   {
    "duration": 16,
    "start_time": "2021-06-09T11:15:44.846Z"
   },
   {
    "duration": 371,
    "start_time": "2021-06-09T11:17:20.316Z"
   },
   {
    "duration": 25,
    "start_time": "2021-06-09T11:17:25.499Z"
   },
   {
    "duration": 8,
    "start_time": "2021-06-09T11:18:42.468Z"
   },
   {
    "duration": 5,
    "start_time": "2021-06-09T11:19:27.580Z"
   },
   {
    "duration": 8,
    "start_time": "2021-06-09T11:19:29.668Z"
   },
   {
    "duration": 758,
    "start_time": "2021-06-09T11:20:12.795Z"
   },
   {
    "duration": 41,
    "start_time": "2021-06-09T11:20:13.556Z"
   },
   {
    "duration": 10,
    "start_time": "2021-06-09T11:20:13.600Z"
   },
   {
    "duration": 34,
    "start_time": "2021-06-09T11:20:13.612Z"
   },
   {
    "duration": 14,
    "start_time": "2021-06-09T11:20:13.649Z"
   },
   {
    "duration": 32,
    "start_time": "2021-06-09T11:20:13.665Z"
   },
   {
    "duration": 27,
    "start_time": "2021-06-09T11:20:13.699Z"
   },
   {
    "duration": 21,
    "start_time": "2021-06-09T11:20:13.729Z"
   },
   {
    "duration": 19,
    "start_time": "2021-06-09T11:20:13.752Z"
   },
   {
    "duration": 15,
    "start_time": "2021-06-09T11:20:13.774Z"
   },
   {
    "duration": 24,
    "start_time": "2021-06-09T11:20:13.791Z"
   },
   {
    "duration": 21,
    "start_time": "2021-06-09T11:20:13.818Z"
   },
   {
    "duration": 8,
    "start_time": "2021-06-09T11:20:13.842Z"
   },
   {
    "duration": 15,
    "start_time": "2021-06-09T11:20:13.852Z"
   },
   {
    "duration": 4,
    "start_time": "2021-06-09T11:20:23.155Z"
   },
   {
    "duration": 8,
    "start_time": "2021-06-09T11:20:24.013Z"
   },
   {
    "duration": 355,
    "start_time": "2021-06-09T11:23:20.495Z"
   },
   {
    "duration": 565,
    "start_time": "2021-06-09T11:23:25.397Z"
   },
   {
    "duration": 239,
    "start_time": "2021-06-09T11:25:03.122Z"
   },
   {
    "duration": 481,
    "start_time": "2021-06-09T11:25:15.121Z"
   },
   {
    "duration": 380,
    "start_time": "2021-06-09T11:26:57.149Z"
   },
   {
    "duration": 560,
    "start_time": "2021-06-09T11:27:29.872Z"
   },
   {
    "duration": 443,
    "start_time": "2021-06-09T11:27:54.381Z"
   },
   {
    "duration": 388,
    "start_time": "2021-06-09T11:28:09.541Z"
   },
   {
    "duration": 5,
    "start_time": "2021-06-09T11:31:37.193Z"
   },
   {
    "duration": 743,
    "start_time": "2021-06-09T11:34:23.281Z"
   },
   {
    "duration": 40,
    "start_time": "2021-06-09T11:34:24.027Z"
   },
   {
    "duration": 10,
    "start_time": "2021-06-09T11:34:24.070Z"
   },
   {
    "duration": 42,
    "start_time": "2021-06-09T11:34:24.083Z"
   },
   {
    "duration": 13,
    "start_time": "2021-06-09T11:34:24.128Z"
   },
   {
    "duration": 26,
    "start_time": "2021-06-09T11:34:24.143Z"
   },
   {
    "duration": 6,
    "start_time": "2021-06-09T11:34:24.171Z"
   },
   {
    "duration": 44,
    "start_time": "2021-06-09T11:34:24.180Z"
   },
   {
    "duration": 6,
    "start_time": "2021-06-09T11:34:24.227Z"
   },
   {
    "duration": 7,
    "start_time": "2021-06-09T11:34:24.235Z"
   },
   {
    "duration": 17,
    "start_time": "2021-06-09T11:34:24.244Z"
   },
   {
    "duration": 22,
    "start_time": "2021-06-09T11:34:24.263Z"
   },
   {
    "duration": 37,
    "start_time": "2021-06-09T11:34:24.287Z"
   },
   {
    "duration": 503,
    "start_time": "2021-06-09T11:34:24.327Z"
   },
   {
    "duration": 413,
    "start_time": "2021-06-09T11:34:24.833Z"
   },
   {
    "duration": 385,
    "start_time": "2021-06-09T11:34:50.342Z"
   },
   {
    "duration": 714,
    "start_time": "2021-06-09T11:35:01.456Z"
   },
   {
    "duration": 40,
    "start_time": "2021-06-09T11:35:02.173Z"
   },
   {
    "duration": 10,
    "start_time": "2021-06-09T11:35:02.216Z"
   },
   {
    "duration": 29,
    "start_time": "2021-06-09T11:35:02.230Z"
   },
   {
    "duration": 18,
    "start_time": "2021-06-09T11:35:02.261Z"
   },
   {
    "duration": 43,
    "start_time": "2021-06-09T11:35:02.281Z"
   },
   {
    "duration": 7,
    "start_time": "2021-06-09T11:35:02.326Z"
   },
   {
    "duration": 23,
    "start_time": "2021-06-09T11:35:02.335Z"
   },
   {
    "duration": 40,
    "start_time": "2021-06-09T11:35:02.361Z"
   },
   {
    "duration": 14,
    "start_time": "2021-06-09T11:35:02.404Z"
   },
   {
    "duration": 21,
    "start_time": "2021-06-09T11:35:02.420Z"
   },
   {
    "duration": 22,
    "start_time": "2021-06-09T11:35:02.443Z"
   },
   {
    "duration": 7,
    "start_time": "2021-06-09T11:35:02.468Z"
   },
   {
    "duration": 520,
    "start_time": "2021-06-09T11:35:02.478Z"
   },
   {
    "duration": 399,
    "start_time": "2021-06-09T11:35:03.000Z"
   },
   {
    "duration": 120,
    "start_time": "2021-06-09T11:36:43.019Z"
   },
   {
    "duration": 351,
    "start_time": "2021-06-09T11:36:46.900Z"
   },
   {
    "duration": 380,
    "start_time": "2021-06-09T11:36:57.251Z"
   },
   {
    "duration": 274,
    "start_time": "2021-06-09T11:36:58.447Z"
   },
   {
    "duration": 5,
    "start_time": "2021-06-09T11:37:03.183Z"
   },
   {
    "duration": 422,
    "start_time": "2021-06-09T11:38:20.868Z"
   },
   {
    "duration": 393,
    "start_time": "2021-06-09T11:39:32.781Z"
   },
   {
    "duration": 396,
    "start_time": "2021-06-09T11:39:40.220Z"
   },
   {
    "duration": 376,
    "start_time": "2021-06-09T11:39:51.250Z"
   },
   {
    "duration": 351,
    "start_time": "2021-06-09T11:41:29.667Z"
   },
   {
    "duration": 382,
    "start_time": "2021-06-09T11:43:47.353Z"
   },
   {
    "duration": 385,
    "start_time": "2021-06-09T11:44:36.189Z"
   },
   {
    "duration": 358,
    "start_time": "2021-06-09T11:44:43.079Z"
   },
   {
    "duration": 395,
    "start_time": "2021-06-09T11:45:48.469Z"
   },
   {
    "duration": 370,
    "start_time": "2021-06-09T11:46:52.499Z"
   },
   {
    "duration": 378,
    "start_time": "2021-06-09T11:48:15.654Z"
   },
   {
    "duration": 465,
    "start_time": "2021-06-09T11:48:21.221Z"
   },
   {
    "duration": 486,
    "start_time": "2021-06-09T11:48:41.053Z"
   },
   {
    "duration": 376,
    "start_time": "2021-06-09T11:50:11.256Z"
   },
   {
    "duration": 449,
    "start_time": "2021-06-09T13:39:42.376Z"
   },
   {
    "duration": 395,
    "start_time": "2021-06-09T13:40:51.133Z"
   },
   {
    "duration": 395,
    "start_time": "2021-06-09T13:42:03.113Z"
   },
   {
    "duration": 3944,
    "start_time": "2021-06-09T13:42:19.113Z"
   },
   {
    "duration": 436,
    "start_time": "2021-06-09T13:42:24.202Z"
   },
   {
    "duration": 392,
    "start_time": "2021-06-09T13:42:40.169Z"
   },
   {
    "duration": 393,
    "start_time": "2021-06-09T13:42:49.581Z"
   },
   {
    "duration": 388,
    "start_time": "2021-06-09T13:43:08.051Z"
   },
   {
    "duration": 450,
    "start_time": "2021-06-09T13:44:27.821Z"
   },
   {
    "duration": 384,
    "start_time": "2021-06-09T13:44:31.447Z"
   },
   {
    "duration": 411,
    "start_time": "2021-06-09T13:44:38.725Z"
   },
   {
    "duration": 394,
    "start_time": "2021-06-09T13:59:21.895Z"
   },
   {
    "duration": 1593,
    "start_time": "2021-06-09T14:00:46.477Z"
   },
   {
    "duration": 405,
    "start_time": "2021-06-09T14:01:38.349Z"
   },
   {
    "duration": 278,
    "start_time": "2021-06-09T14:02:22.296Z"
   },
   {
    "duration": 306,
    "start_time": "2021-06-09T14:02:42.534Z"
   },
   {
    "duration": 382,
    "start_time": "2021-06-09T14:03:05.607Z"
   },
   {
    "duration": 967,
    "start_time": "2021-06-09T14:04:27.934Z"
   },
   {
    "duration": 466,
    "start_time": "2021-06-09T14:05:53.115Z"
   },
   {
    "duration": 532,
    "start_time": "2021-06-09T14:06:11.896Z"
   },
   {
    "duration": 374,
    "start_time": "2021-06-09T14:06:23.177Z"
   },
   {
    "duration": 516,
    "start_time": "2021-06-09T14:06:55.333Z"
   },
   {
    "duration": 380,
    "start_time": "2021-06-09T14:08:18.737Z"
   },
   {
    "duration": 512,
    "start_time": "2021-06-09T14:10:19.477Z"
   },
   {
    "duration": 380,
    "start_time": "2021-06-09T14:10:49.386Z"
   },
   {
    "duration": 521,
    "start_time": "2021-06-09T14:11:26.722Z"
   },
   {
    "duration": 304,
    "start_time": "2021-06-09T14:11:51.338Z"
   },
   {
    "duration": 275,
    "start_time": "2021-06-09T14:12:41.621Z"
   },
   {
    "duration": 406,
    "start_time": "2021-06-09T14:12:48.496Z"
   },
   {
    "duration": 394,
    "start_time": "2021-06-09T14:13:02.959Z"
   },
   {
    "duration": 282,
    "start_time": "2021-06-09T14:13:30.413Z"
   },
   {
    "duration": 324,
    "start_time": "2021-06-09T14:13:36.758Z"
   },
   {
    "duration": 277,
    "start_time": "2021-06-09T14:14:22.959Z"
   },
   {
    "duration": 310,
    "start_time": "2021-06-09T14:14:29.355Z"
   },
   {
    "duration": 295,
    "start_time": "2021-06-09T14:14:46.025Z"
   },
   {
    "duration": 304,
    "start_time": "2021-06-09T14:15:19.112Z"
   },
   {
    "duration": 18,
    "start_time": "2021-06-09T14:20:30.615Z"
   },
   {
    "duration": 10,
    "start_time": "2021-06-09T14:21:02.979Z"
   },
   {
    "duration": 293,
    "start_time": "2021-06-09T14:21:06.732Z"
   },
   {
    "duration": 21,
    "start_time": "2021-06-09T14:21:17.680Z"
   },
   {
    "duration": 454,
    "start_time": "2021-06-09T14:21:54.351Z"
   },
   {
    "duration": 286,
    "start_time": "2021-06-09T14:22:45.834Z"
   },
   {
    "duration": 2538,
    "start_time": "2021-06-09T14:23:02.311Z"
   },
   {
    "duration": 299,
    "start_time": "2021-06-09T14:23:41.832Z"
   },
   {
    "duration": 312,
    "start_time": "2021-06-09T14:24:01.183Z"
   },
   {
    "duration": 982,
    "start_time": "2021-06-09T14:27:06.411Z"
   },
   {
    "duration": 298,
    "start_time": "2021-06-09T14:27:16.376Z"
   },
   {
    "duration": 734,
    "start_time": "2021-06-09T14:29:13.017Z"
   },
   {
    "duration": 47,
    "start_time": "2021-06-09T14:29:13.754Z"
   },
   {
    "duration": 19,
    "start_time": "2021-06-09T14:29:13.804Z"
   },
   {
    "duration": 33,
    "start_time": "2021-06-09T14:29:13.826Z"
   },
   {
    "duration": 19,
    "start_time": "2021-06-09T14:29:13.862Z"
   },
   {
    "duration": 42,
    "start_time": "2021-06-09T14:29:13.883Z"
   },
   {
    "duration": 6,
    "start_time": "2021-06-09T14:29:13.928Z"
   },
   {
    "duration": 5,
    "start_time": "2021-06-09T14:29:13.938Z"
   },
   {
    "duration": 8,
    "start_time": "2021-06-09T14:29:13.946Z"
   },
   {
    "duration": 5,
    "start_time": "2021-06-09T14:29:13.957Z"
   },
   {
    "duration": 64,
    "start_time": "2021-06-09T14:29:13.964Z"
   },
   {
    "duration": 22,
    "start_time": "2021-06-09T14:29:14.031Z"
   },
   {
    "duration": 6,
    "start_time": "2021-06-09T14:29:14.056Z"
   },
   {
    "duration": 575,
    "start_time": "2021-06-09T14:29:14.065Z"
   },
   {
    "duration": 1608,
    "start_time": "2021-06-09T14:29:14.642Z"
   },
   {
    "duration": 4,
    "start_time": "2021-06-09T14:29:16.253Z"
   },
   {
    "duration": 1250,
    "start_time": "2021-06-09T14:30:50.856Z"
   },
   {
    "duration": 12,
    "start_time": "2021-06-09T14:31:34.195Z"
   },
   {
    "duration": 708,
    "start_time": "2021-06-09T14:31:51.405Z"
   },
   {
    "duration": 736,
    "start_time": "2021-06-09T14:32:07.164Z"
   },
   {
    "duration": 808,
    "start_time": "2021-06-09T14:32:18.076Z"
   },
   {
    "duration": 868,
    "start_time": "2021-06-09T14:33:28.388Z"
   },
   {
    "duration": 696,
    "start_time": "2021-06-09T14:36:46.334Z"
   },
   {
    "duration": 693,
    "start_time": "2021-06-09T14:37:17.286Z"
   },
   {
    "duration": 100,
    "start_time": "2021-06-09T14:38:34.014Z"
   },
   {
    "duration": 697,
    "start_time": "2021-06-09T14:38:37.705Z"
   },
   {
    "duration": 1146,
    "start_time": "2021-06-09T14:38:59.689Z"
   },
   {
    "duration": 635,
    "start_time": "2021-06-09T14:41:02.438Z"
   },
   {
    "duration": 630,
    "start_time": "2021-06-09T14:41:35.146Z"
   },
   {
    "duration": 688,
    "start_time": "2021-06-09T14:42:10.994Z"
   },
   {
    "duration": 742,
    "start_time": "2021-06-09T14:42:25.688Z"
   },
   {
    "duration": 743,
    "start_time": "2021-06-09T14:42:34.287Z"
   },
   {
    "duration": 621,
    "start_time": "2021-06-09T14:43:56.995Z"
   },
   {
    "duration": 684,
    "start_time": "2021-06-09T14:48:06.171Z"
   },
   {
    "duration": 349,
    "start_time": "2021-06-09T14:48:24.958Z"
   },
   {
    "duration": 700,
    "start_time": "2021-06-09T14:48:34.660Z"
   },
   {
    "duration": 384,
    "start_time": "2021-06-09T14:48:41.851Z"
   },
   {
    "duration": 709,
    "start_time": "2021-06-09T14:48:49.204Z"
   },
   {
    "duration": 337,
    "start_time": "2021-06-09T14:48:54.133Z"
   },
   {
    "duration": 683,
    "start_time": "2021-06-09T14:49:03.794Z"
   },
   {
    "duration": 321,
    "start_time": "2021-06-09T14:49:07.283Z"
   },
   {
    "duration": 348,
    "start_time": "2021-06-09T14:54:13.699Z"
   },
   {
    "duration": 6,
    "start_time": "2021-06-09T14:54:16.733Z"
   },
   {
    "duration": 61382,
    "start_time": "2021-06-09T14:54:18.412Z"
   },
   {
    "duration": 4,
    "start_time": "2021-06-09T14:56:37.296Z"
   },
   {
    "duration": 3699,
    "start_time": "2021-06-09T14:56:38.989Z"
   },
   {
    "duration": 499,
    "start_time": "2021-06-09T14:57:13.270Z"
   },
   {
    "duration": 780,
    "start_time": "2021-06-09T14:57:23.250Z"
   },
   {
    "duration": 835,
    "start_time": "2021-06-09T14:57:57.834Z"
   },
   {
    "duration": 715,
    "start_time": "2021-06-09T14:58:11.412Z"
   },
   {
    "duration": 364,
    "start_time": "2021-06-09T14:58:14.956Z"
   },
   {
    "duration": 703,
    "start_time": "2021-06-09T14:58:41.244Z"
   },
   {
    "duration": 688,
    "start_time": "2021-06-09T14:58:46.949Z"
   },
   {
    "duration": 697,
    "start_time": "2021-06-09T14:58:51.299Z"
   },
   {
    "duration": 703,
    "start_time": "2021-06-09T14:58:54.421Z"
   },
   {
    "duration": 691,
    "start_time": "2021-06-09T14:58:59.456Z"
   },
   {
    "duration": 696,
    "start_time": "2021-06-09T14:59:02.932Z"
   },
   {
    "duration": 810,
    "start_time": "2021-06-09T14:59:08.189Z"
   },
   {
    "duration": 699,
    "start_time": "2021-06-09T14:59:18.673Z"
   },
   {
    "duration": 695,
    "start_time": "2021-06-09T14:59:37.534Z"
   },
   {
    "duration": 736,
    "start_time": "2021-06-09T14:59:42.208Z"
   },
   {
    "duration": 687,
    "start_time": "2021-06-09T14:59:53.507Z"
   },
   {
    "duration": 794,
    "start_time": "2021-06-09T14:59:57.841Z"
   },
   {
    "duration": 380,
    "start_time": "2021-06-09T15:01:42.532Z"
   },
   {
    "duration": 10,
    "start_time": "2021-06-09T15:01:48.429Z"
   },
   {
    "duration": 285,
    "start_time": "2021-06-09T15:01:58.407Z"
   },
   {
    "duration": 5,
    "start_time": "2021-06-09T15:02:06.316Z"
   },
   {
    "duration": 1240,
    "start_time": "2021-06-09T15:03:03.455Z"
   },
   {
    "duration": 1219,
    "start_time": "2021-06-09T15:03:13.721Z"
   },
   {
    "duration": 1302,
    "start_time": "2021-06-09T15:03:22.826Z"
   },
   {
    "duration": 1232,
    "start_time": "2021-06-09T15:03:33.792Z"
   },
   {
    "duration": 1363,
    "start_time": "2021-06-09T15:03:52.281Z"
   },
   {
    "duration": 337,
    "start_time": "2021-06-09T15:04:38.692Z"
   },
   {
    "duration": 736,
    "start_time": "2021-06-09T15:04:48.565Z"
   },
   {
    "duration": 682,
    "start_time": "2021-06-09T15:05:20.665Z"
   },
   {
    "duration": 617,
    "start_time": "2021-06-09T15:05:24.096Z"
   },
   {
    "duration": 687,
    "start_time": "2021-06-09T15:05:29.875Z"
   },
   {
    "duration": 627,
    "start_time": "2021-06-09T15:05:36.154Z"
   },
   {
    "duration": 9,
    "start_time": "2021-06-09T15:15:53.090Z"
   },
   {
    "duration": 52,
    "start_time": "2021-06-09T15:16:40.316Z"
   },
   {
    "duration": 11,
    "start_time": "2021-06-09T15:17:21.949Z"
   },
   {
    "duration": 276,
    "start_time": "2021-06-09T15:17:36.281Z"
   },
   {
    "duration": 11,
    "start_time": "2021-06-09T15:17:41.881Z"
   },
   {
    "duration": 650,
    "start_time": "2021-06-09T15:19:33.079Z"
   },
   {
    "duration": 12,
    "start_time": "2021-06-09T15:19:56.734Z"
   },
   {
    "duration": 21,
    "start_time": "2021-06-09T15:20:01.225Z"
   },
   {
    "duration": 13,
    "start_time": "2021-06-09T15:20:31.096Z"
   },
   {
    "duration": 1420,
    "start_time": "2021-06-09T15:23:02.975Z"
   },
   {
    "duration": 39,
    "start_time": "2021-06-09T15:23:04.397Z"
   },
   {
    "duration": 10,
    "start_time": "2021-06-09T15:23:04.438Z"
   },
   {
    "duration": 24,
    "start_time": "2021-06-09T15:23:04.452Z"
   },
   {
    "duration": 15,
    "start_time": "2021-06-09T15:23:04.479Z"
   },
   {
    "duration": 49,
    "start_time": "2021-06-09T15:23:04.496Z"
   },
   {
    "duration": 5,
    "start_time": "2021-06-09T15:23:04.547Z"
   },
   {
    "duration": 9,
    "start_time": "2021-06-09T15:23:04.555Z"
   },
   {
    "duration": 8,
    "start_time": "2021-06-09T15:23:04.566Z"
   },
   {
    "duration": 14,
    "start_time": "2021-06-09T15:23:04.576Z"
   },
   {
    "duration": 564,
    "start_time": "2021-06-09T15:23:04.592Z"
   },
   {
    "duration": 147,
    "start_time": "2021-06-09T15:23:05.013Z"
   },
   {
    "duration": 146,
    "start_time": "2021-06-09T15:23:05.016Z"
   },
   {
    "duration": 138,
    "start_time": "2021-06-09T15:23:05.026Z"
   },
   {
    "duration": 137,
    "start_time": "2021-06-09T15:23:05.029Z"
   },
   {
    "duration": 136,
    "start_time": "2021-06-09T15:23:05.032Z"
   },
   {
    "duration": 131,
    "start_time": "2021-06-09T15:23:05.039Z"
   },
   {
    "duration": 131,
    "start_time": "2021-06-09T15:23:05.041Z"
   },
   {
    "duration": 1534,
    "start_time": "2021-06-09T15:23:21.996Z"
   },
   {
    "duration": 42,
    "start_time": "2021-06-09T15:23:23.532Z"
   },
   {
    "duration": 12,
    "start_time": "2021-06-09T15:23:23.578Z"
   },
   {
    "duration": 43,
    "start_time": "2021-06-09T15:23:23.594Z"
   },
   {
    "duration": 15,
    "start_time": "2021-06-09T15:23:23.640Z"
   },
   {
    "duration": 42,
    "start_time": "2021-06-09T15:23:23.658Z"
   },
   {
    "duration": 21,
    "start_time": "2021-06-09T15:23:23.703Z"
   },
   {
    "duration": 8,
    "start_time": "2021-06-09T15:23:23.730Z"
   },
   {
    "duration": 31,
    "start_time": "2021-06-09T15:23:23.741Z"
   },
   {
    "duration": 18,
    "start_time": "2021-06-09T15:23:23.775Z"
   },
   {
    "duration": 28,
    "start_time": "2021-06-09T15:23:23.796Z"
   },
   {
    "duration": 25,
    "start_time": "2021-06-09T15:23:23.827Z"
   },
   {
    "duration": 20,
    "start_time": "2021-06-09T15:23:23.855Z"
   },
   {
    "duration": 21,
    "start_time": "2021-06-09T15:23:23.877Z"
   },
   {
    "duration": 434,
    "start_time": "2021-06-09T15:23:23.901Z"
   },
   {
    "duration": 157,
    "start_time": "2021-06-09T15:23:24.181Z"
   },
   {
    "duration": 156,
    "start_time": "2021-06-09T15:23:24.183Z"
   },
   {
    "duration": 155,
    "start_time": "2021-06-09T15:23:24.185Z"
   },
   {
    "duration": 20,
    "start_time": "2021-06-09T15:25:18.177Z"
   },
   {
    "duration": 750,
    "start_time": "2021-06-09T15:25:27.897Z"
   },
   {
    "duration": 624,
    "start_time": "2021-06-09T15:25:38.948Z"
   },
   {
    "duration": 597,
    "start_time": "2021-06-09T15:26:21.203Z"
   },
   {
    "duration": 1444,
    "start_time": "2021-06-09T15:28:31.850Z"
   },
   {
    "duration": 40,
    "start_time": "2021-06-09T15:28:33.297Z"
   },
   {
    "duration": 10,
    "start_time": "2021-06-09T15:28:33.340Z"
   },
   {
    "duration": 19,
    "start_time": "2021-06-09T15:28:33.353Z"
   },
   {
    "duration": 13,
    "start_time": "2021-06-09T15:28:33.375Z"
   },
   {
    "duration": 24,
    "start_time": "2021-06-09T15:28:33.423Z"
   },
   {
    "duration": 6,
    "start_time": "2021-06-09T15:28:33.450Z"
   },
   {
    "duration": 7,
    "start_time": "2021-06-09T15:28:33.459Z"
   },
   {
    "duration": 8,
    "start_time": "2021-06-09T15:28:33.469Z"
   },
   {
    "duration": 46,
    "start_time": "2021-06-09T15:28:33.479Z"
   },
   {
    "duration": 16,
    "start_time": "2021-06-09T15:28:33.527Z"
   },
   {
    "duration": 20,
    "start_time": "2021-06-09T15:28:33.546Z"
   },
   {
    "duration": 5,
    "start_time": "2021-06-09T15:28:33.568Z"
   },
   {
    "duration": 51,
    "start_time": "2021-06-09T15:28:33.575Z"
   },
   {
    "duration": 18,
    "start_time": "2021-06-09T15:28:33.628Z"
   },
   {
    "duration": 622,
    "start_time": "2021-06-09T15:28:33.648Z"
   },
   {
    "duration": 406,
    "start_time": "2021-06-09T15:28:34.272Z"
   },
   {
    "duration": 159,
    "start_time": "2021-06-09T15:28:34.522Z"
   },
   {
    "duration": 604,
    "start_time": "2021-06-09T15:29:32.044Z"
   },
   {
    "duration": 1531,
    "start_time": "2021-06-09T15:29:50.789Z"
   },
   {
    "duration": 41,
    "start_time": "2021-06-09T15:29:52.322Z"
   },
   {
    "duration": 11,
    "start_time": "2021-06-09T15:29:52.366Z"
   },
   {
    "duration": 25,
    "start_time": "2021-06-09T15:29:52.379Z"
   },
   {
    "duration": 14,
    "start_time": "2021-06-09T15:29:52.425Z"
   },
   {
    "duration": 23,
    "start_time": "2021-06-09T15:29:52.441Z"
   },
   {
    "duration": 6,
    "start_time": "2021-06-09T15:29:52.467Z"
   },
   {
    "duration": 5,
    "start_time": "2021-06-09T15:29:52.476Z"
   },
   {
    "duration": 40,
    "start_time": "2021-06-09T15:29:52.484Z"
   },
   {
    "duration": 5,
    "start_time": "2021-06-09T15:29:52.526Z"
   },
   {
    "duration": 18,
    "start_time": "2021-06-09T15:29:52.533Z"
   },
   {
    "duration": 22,
    "start_time": "2021-06-09T15:29:52.554Z"
   },
   {
    "duration": 4,
    "start_time": "2021-06-09T15:29:52.578Z"
   },
   {
    "duration": 47,
    "start_time": "2021-06-09T15:29:52.584Z"
   },
   {
    "duration": 19,
    "start_time": "2021-06-09T15:29:52.634Z"
   },
   {
    "duration": 607,
    "start_time": "2021-06-09T15:29:52.656Z"
   },
   {
    "duration": 459,
    "start_time": "2021-06-09T15:29:53.265Z"
   },
   {
    "duration": 151,
    "start_time": "2021-06-09T15:29:53.576Z"
   },
   {
    "duration": 1469,
    "start_time": "2021-06-09T15:30:04.235Z"
   },
   {
    "duration": 41,
    "start_time": "2021-06-09T15:30:05.707Z"
   },
   {
    "duration": 10,
    "start_time": "2021-06-09T15:30:05.751Z"
   },
   {
    "duration": 25,
    "start_time": "2021-06-09T15:30:05.763Z"
   },
   {
    "duration": 36,
    "start_time": "2021-06-09T15:30:05.790Z"
   },
   {
    "duration": 24,
    "start_time": "2021-06-09T15:30:05.829Z"
   },
   {
    "duration": 7,
    "start_time": "2021-06-09T15:30:05.855Z"
   },
   {
    "duration": 13,
    "start_time": "2021-06-09T15:30:05.865Z"
   },
   {
    "duration": 43,
    "start_time": "2021-06-09T15:30:05.881Z"
   },
   {
    "duration": 6,
    "start_time": "2021-06-09T15:30:05.927Z"
   },
   {
    "duration": 18,
    "start_time": "2021-06-09T15:30:05.935Z"
   },
   {
    "duration": 24,
    "start_time": "2021-06-09T15:30:05.956Z"
   },
   {
    "duration": 41,
    "start_time": "2021-06-09T15:30:05.983Z"
   },
   {
    "duration": 16,
    "start_time": "2021-06-09T15:30:06.027Z"
   },
   {
    "duration": 25,
    "start_time": "2021-06-09T15:30:06.045Z"
   },
   {
    "duration": 630,
    "start_time": "2021-06-09T15:30:06.073Z"
   },
   {
    "duration": 416,
    "start_time": "2021-06-09T15:30:06.706Z"
   },
   {
    "duration": 160,
    "start_time": "2021-06-09T15:30:06.964Z"
   },
   {
    "duration": 1459,
    "start_time": "2021-06-09T15:30:43.574Z"
   },
   {
    "duration": 40,
    "start_time": "2021-06-09T15:30:45.035Z"
   },
   {
    "duration": 10,
    "start_time": "2021-06-09T15:30:45.081Z"
   },
   {
    "duration": 26,
    "start_time": "2021-06-09T15:30:45.094Z"
   },
   {
    "duration": 12,
    "start_time": "2021-06-09T15:30:45.122Z"
   },
   {
    "duration": 28,
    "start_time": "2021-06-09T15:30:45.136Z"
   },
   {
    "duration": 9,
    "start_time": "2021-06-09T15:30:45.167Z"
   },
   {
    "duration": 19,
    "start_time": "2021-06-09T15:30:45.180Z"
   },
   {
    "duration": 9,
    "start_time": "2021-06-09T15:30:45.202Z"
   },
   {
    "duration": 9,
    "start_time": "2021-06-09T15:30:45.213Z"
   },
   {
    "duration": 19,
    "start_time": "2021-06-09T15:30:45.224Z"
   },
   {
    "duration": 24,
    "start_time": "2021-06-09T15:30:45.246Z"
   },
   {
    "duration": 3,
    "start_time": "2021-06-09T15:30:45.272Z"
   },
   {
    "duration": 44,
    "start_time": "2021-06-09T15:30:45.277Z"
   },
   {
    "duration": 18,
    "start_time": "2021-06-09T15:30:45.323Z"
   },
   {
    "duration": 627,
    "start_time": "2021-06-09T15:30:45.344Z"
   },
   {
    "duration": 3,
    "start_time": "2021-06-09T15:30:45.973Z"
   },
   {
    "duration": 10,
    "start_time": "2021-06-09T15:36:16.002Z"
   },
   {
    "duration": 559,
    "start_time": "2021-06-09T15:36:18.896Z"
   },
   {
    "duration": 2770,
    "start_time": "2021-06-09T15:36:29.185Z"
   },
   {
    "duration": 996,
    "start_time": "2021-06-09T15:36:52.516Z"
   },
   {
    "duration": 279,
    "start_time": "2021-06-09T15:37:08.014Z"
   },
   {
    "duration": 2897,
    "start_time": "2021-06-09T15:37:25.145Z"
   },
   {
    "duration": 285,
    "start_time": "2021-06-09T15:38:01.263Z"
   },
   {
    "duration": 2907,
    "start_time": "2021-06-09T15:38:12.273Z"
   },
   {
    "duration": 1456,
    "start_time": "2021-06-09T15:38:39.911Z"
   },
   {
    "duration": 39,
    "start_time": "2021-06-09T15:38:41.370Z"
   },
   {
    "duration": 10,
    "start_time": "2021-06-09T15:38:41.423Z"
   },
   {
    "duration": 20,
    "start_time": "2021-06-09T15:38:41.436Z"
   },
   {
    "duration": 14,
    "start_time": "2021-06-09T15:38:41.459Z"
   },
   {
    "duration": 61,
    "start_time": "2021-06-09T15:38:41.476Z"
   },
   {
    "duration": 16,
    "start_time": "2021-06-09T15:38:41.541Z"
   },
   {
    "duration": 8,
    "start_time": "2021-06-09T15:38:41.561Z"
   },
   {
    "duration": 9,
    "start_time": "2021-06-09T15:38:41.572Z"
   },
   {
    "duration": 4,
    "start_time": "2021-06-09T15:38:41.583Z"
   },
   {
    "duration": 43,
    "start_time": "2021-06-09T15:38:41.590Z"
   },
   {
    "duration": 25,
    "start_time": "2021-06-09T15:38:41.635Z"
   },
   {
    "duration": 7,
    "start_time": "2021-06-09T15:38:41.662Z"
   },
   {
    "duration": 29,
    "start_time": "2021-06-09T15:38:41.672Z"
   },
   {
    "duration": 449,
    "start_time": "2021-06-09T15:38:41.704Z"
   },
   {
    "duration": 145,
    "start_time": "2021-06-09T15:38:42.010Z"
   },
   {
    "duration": 145,
    "start_time": "2021-06-09T15:38:42.012Z"
   },
   {
    "duration": 145,
    "start_time": "2021-06-09T15:38:42.014Z"
   },
   {
    "duration": 7322,
    "start_time": "2021-06-09T15:40:41.420Z"
   },
   {
    "duration": 1272,
    "start_time": "2021-06-09T15:41:02.129Z"
   },
   {
    "duration": 1260,
    "start_time": "2021-06-09T15:41:12.107Z"
   },
   {
    "duration": 100,
    "start_time": "2021-06-09T15:41:58.569Z"
   },
   {
    "duration": 5,
    "start_time": "2021-06-09T15:42:05.265Z"
   },
   {
    "duration": 5,
    "start_time": "2021-06-09T15:44:30.605Z"
   },
   {
    "duration": 1496,
    "start_time": "2021-06-09T15:44:33.082Z"
   },
   {
    "duration": 2887,
    "start_time": "2021-06-09T15:47:54.091Z"
   },
   {
    "duration": 2856,
    "start_time": "2021-06-09T15:48:28.411Z"
   },
   {
    "duration": 2865,
    "start_time": "2021-06-09T15:48:47.269Z"
   },
   {
    "duration": 2856,
    "start_time": "2021-06-09T15:49:16.405Z"
   },
   {
    "duration": 5732,
    "start_time": "2021-06-09T15:51:27.128Z"
   },
   {
    "duration": 6432,
    "start_time": "2021-06-09T15:52:30.762Z"
   },
   {
    "duration": 5822,
    "start_time": "2021-06-09T15:54:12.170Z"
   },
   {
    "duration": 5788,
    "start_time": "2021-06-09T15:54:52.405Z"
   },
   {
    "duration": 5921,
    "start_time": "2021-06-09T15:55:14.470Z"
   },
   {
    "duration": 765,
    "start_time": "2021-06-09T16:01:26.519Z"
   },
   {
    "duration": 3024,
    "start_time": "2021-06-09T16:01:40.290Z"
   },
   {
    "duration": 2949,
    "start_time": "2021-06-09T16:02:52.133Z"
   },
   {
    "duration": 556,
    "start_time": "2021-06-09T16:03:03.927Z"
   },
   {
    "duration": 5,
    "start_time": "2021-06-09T16:03:19.731Z"
   },
   {
    "duration": 12,
    "start_time": "2021-06-09T16:03:21.727Z"
   },
   {
    "duration": 9,
    "start_time": "2021-06-09T16:03:36.709Z"
   },
   {
    "duration": 5,
    "start_time": "2021-06-09T16:04:07.171Z"
   },
   {
    "duration": 3213,
    "start_time": "2021-06-09T16:04:10.501Z"
   },
   {
    "duration": 5650,
    "start_time": "2021-06-09T16:05:03.812Z"
   },
   {
    "duration": 9586,
    "start_time": "2021-06-09T16:12:34.354Z"
   },
   {
    "duration": 9560,
    "start_time": "2021-06-09T16:12:47.787Z"
   },
   {
    "duration": 9683,
    "start_time": "2021-06-09T16:13:01.544Z"
   },
   {
    "duration": 561,
    "start_time": "2021-06-09T16:19:31.824Z"
   },
   {
    "duration": 559,
    "start_time": "2021-06-09T16:19:47.815Z"
   },
   {
    "duration": 683,
    "start_time": "2021-06-09T16:20:00.152Z"
   },
   {
    "duration": 570,
    "start_time": "2021-06-09T16:20:16.477Z"
   },
   {
    "duration": 588,
    "start_time": "2021-06-09T16:20:38.327Z"
   },
   {
    "duration": 583,
    "start_time": "2021-06-09T16:23:24.793Z"
   },
   {
    "duration": 566,
    "start_time": "2021-06-09T16:23:51.361Z"
   },
   {
    "duration": 679,
    "start_time": "2021-06-09T16:24:15.223Z"
   },
   {
    "duration": 99,
    "start_time": "2021-06-09T16:26:29.368Z"
   },
   {
    "duration": 1371,
    "start_time": "2021-06-09T16:28:00.429Z"
   },
   {
    "duration": 5,
    "start_time": "2021-06-09T16:28:22.682Z"
   },
   {
    "duration": 1698,
    "start_time": "2021-06-09T16:28:25.888Z"
   },
   {
    "duration": 5,
    "start_time": "2021-06-09T16:28:54.624Z"
   },
   {
    "duration": 1334,
    "start_time": "2021-06-09T16:28:57.883Z"
   },
   {
    "duration": 3924,
    "start_time": "2021-06-09T16:31:05.246Z"
   },
   {
    "duration": 3778,
    "start_time": "2021-06-09T16:32:23.577Z"
   },
   {
    "duration": 4073,
    "start_time": "2021-06-09T16:34:59.130Z"
   },
   {
    "duration": 2019,
    "start_time": "2021-06-09T16:35:40.176Z"
   },
   {
    "duration": 4009,
    "start_time": "2021-06-09T16:35:47.945Z"
   },
   {
    "duration": 8,
    "start_time": "2021-06-09T16:36:26.206Z"
   },
   {
    "duration": 755,
    "start_time": "2021-06-09T16:37:16.787Z"
   },
   {
    "duration": 4,
    "start_time": "2021-06-09T16:38:23.278Z"
   },
   {
    "duration": 4,
    "start_time": "2021-06-09T16:38:53.259Z"
   },
   {
    "duration": 5,
    "start_time": "2021-06-09T16:39:23.264Z"
   },
   {
    "duration": 562,
    "start_time": "2021-06-09T16:42:59.656Z"
   },
   {
    "duration": 566,
    "start_time": "2021-06-09T16:43:33.767Z"
   },
   {
    "duration": 595,
    "start_time": "2021-06-09T16:44:10.712Z"
   },
   {
    "duration": 583,
    "start_time": "2021-06-09T16:44:24.603Z"
   },
   {
    "duration": 86,
    "start_time": "2021-06-09T16:44:44.670Z"
   },
   {
    "duration": 6,
    "start_time": "2021-06-09T16:44:47.025Z"
   },
   {
    "duration": 578,
    "start_time": "2021-06-09T16:44:51.601Z"
   },
   {
    "duration": 591,
    "start_time": "2021-06-09T16:45:29.845Z"
   },
   {
    "duration": 550,
    "start_time": "2021-06-09T16:45:39.330Z"
   },
   {
    "duration": 615,
    "start_time": "2021-06-09T16:45:51.209Z"
   },
   {
    "duration": 640,
    "start_time": "2021-06-09T16:46:05.012Z"
   },
   {
    "duration": 724,
    "start_time": "2021-06-09T16:46:11.109Z"
   },
   {
    "duration": 740,
    "start_time": "2021-06-09T17:01:18.317Z"
   },
   {
    "duration": 752,
    "start_time": "2021-06-09T17:01:47.001Z"
   },
   {
    "duration": 5,
    "start_time": "2021-06-09T17:03:49.723Z"
   },
   {
    "duration": 788,
    "start_time": "2021-06-09T17:05:13.216Z"
   },
   {
    "duration": 6,
    "start_time": "2021-06-09T17:06:06.707Z"
   },
   {
    "duration": 4,
    "start_time": "2021-06-09T17:06:18.793Z"
   },
   {
    "duration": 5,
    "start_time": "2021-06-09T17:09:16.781Z"
   },
   {
    "duration": 7,
    "start_time": "2021-06-09T17:10:05.109Z"
   },
   {
    "duration": 6,
    "start_time": "2021-06-09T17:10:39.926Z"
   },
   {
    "duration": 5,
    "start_time": "2021-06-09T17:13:56.472Z"
   },
   {
    "duration": 560,
    "start_time": "2021-06-09T17:13:57.330Z"
   },
   {
    "duration": 5,
    "start_time": "2021-06-09T17:14:09.083Z"
   },
   {
    "duration": 1419,
    "start_time": "2021-06-09T17:14:09.617Z"
   },
   {
    "duration": 5,
    "start_time": "2021-06-09T17:14:18.266Z"
   },
   {
    "duration": 621,
    "start_time": "2021-06-09T17:14:18.756Z"
   },
   {
    "duration": 5,
    "start_time": "2021-06-09T17:14:46.354Z"
   },
   {
    "duration": 1246,
    "start_time": "2021-06-09T17:14:46.856Z"
   },
   {
    "duration": 4,
    "start_time": "2021-06-09T17:14:52.556Z"
   },
   {
    "duration": 563,
    "start_time": "2021-06-09T17:14:53.018Z"
   },
   {
    "duration": 5,
    "start_time": "2021-06-09T17:15:26.682Z"
   },
   {
    "duration": 1295,
    "start_time": "2021-06-09T17:15:27.292Z"
   },
   {
    "duration": 5,
    "start_time": "2021-06-09T17:15:34.503Z"
   },
   {
    "duration": 581,
    "start_time": "2021-06-09T17:15:35.044Z"
   },
   {
    "duration": 5,
    "start_time": "2021-06-09T17:15:47.911Z"
   },
   {
    "duration": 1383,
    "start_time": "2021-06-09T17:15:48.415Z"
   },
   {
    "duration": 3886,
    "start_time": "2021-06-09T17:15:57.741Z"
   },
   {
    "duration": 5,
    "start_time": "2021-06-09T17:16:21.467Z"
   },
   {
    "duration": 1243,
    "start_time": "2021-06-09T17:16:22.002Z"
   },
   {
    "duration": 5534,
    "start_time": "2021-06-09T17:16:26.884Z"
   },
   {
    "duration": 3975,
    "start_time": "2021-06-09T17:16:32.425Z"
   },
   {
    "duration": 1510,
    "start_time": "2021-06-09T17:16:56.608Z"
   },
   {
    "duration": 39,
    "start_time": "2021-06-09T17:16:58.121Z"
   },
   {
    "duration": 10,
    "start_time": "2021-06-09T17:16:58.162Z"
   },
   {
    "duration": 21,
    "start_time": "2021-06-09T17:16:58.175Z"
   },
   {
    "duration": 33,
    "start_time": "2021-06-09T17:16:58.198Z"
   },
   {
    "duration": 31,
    "start_time": "2021-06-09T17:16:58.233Z"
   },
   {
    "duration": 6,
    "start_time": "2021-06-09T17:16:58.266Z"
   },
   {
    "duration": 7,
    "start_time": "2021-06-09T17:16:58.276Z"
   },
   {
    "duration": 39,
    "start_time": "2021-06-09T17:16:58.285Z"
   },
   {
    "duration": 4,
    "start_time": "2021-06-09T17:16:58.327Z"
   },
   {
    "duration": 23,
    "start_time": "2021-06-09T17:16:58.333Z"
   },
   {
    "duration": 24,
    "start_time": "2021-06-09T17:16:58.358Z"
   },
   {
    "duration": 4,
    "start_time": "2021-06-09T17:16:58.384Z"
   },
   {
    "duration": 43,
    "start_time": "2021-06-09T17:16:58.390Z"
   },
   {
    "duration": 5,
    "start_time": "2021-06-09T17:16:58.435Z"
   },
   {
    "duration": 1312,
    "start_time": "2021-06-09T17:16:58.442Z"
   },
   {
    "duration": 5497,
    "start_time": "2021-06-09T17:16:59.757Z"
   },
   {
    "duration": 3913,
    "start_time": "2021-06-09T17:17:05.256Z"
   },
   {
    "duration": 765,
    "start_time": "2021-06-09T17:17:09.171Z"
   },
   {
    "duration": 4,
    "start_time": "2021-06-09T17:17:09.940Z"
   },
   {
    "duration": 11,
    "start_time": "2021-06-09T17:17:09.947Z"
   },
   {
    "duration": 12,
    "start_time": "2021-06-09T17:17:09.960Z"
   },
   {
    "duration": 5,
    "start_time": "2021-06-09T17:17:11.665Z"
   },
   {
    "duration": 1318,
    "start_time": "2021-06-09T17:17:12.228Z"
   },
   {
    "duration": 6397,
    "start_time": "2021-06-09T17:17:15.997Z"
   },
   {
    "duration": 5,
    "start_time": "2021-06-09T17:17:30.058Z"
   },
   {
    "duration": 1251,
    "start_time": "2021-06-09T17:17:30.592Z"
   },
   {
    "duration": 5,
    "start_time": "2021-06-09T17:17:37.088Z"
   },
   {
    "duration": 1274,
    "start_time": "2021-06-09T17:17:37.611Z"
   },
   {
    "duration": 5,
    "start_time": "2021-06-09T17:17:42.845Z"
   },
   {
    "duration": 1278,
    "start_time": "2021-06-09T17:17:43.630Z"
   },
   {
    "duration": 5,
    "start_time": "2021-06-09T17:17:50.311Z"
   },
   {
    "duration": 1267,
    "start_time": "2021-06-09T17:17:50.857Z"
   },
   {
    "duration": 5554,
    "start_time": "2021-06-09T17:17:57.628Z"
   },
   {
    "duration": 1490,
    "start_time": "2021-06-09T17:18:19.900Z"
   },
   {
    "duration": 38,
    "start_time": "2021-06-09T17:18:21.393Z"
   },
   {
    "duration": 10,
    "start_time": "2021-06-09T17:18:21.437Z"
   },
   {
    "duration": 22,
    "start_time": "2021-06-09T17:18:21.449Z"
   },
   {
    "duration": 12,
    "start_time": "2021-06-09T17:18:21.473Z"
   },
   {
    "duration": 53,
    "start_time": "2021-06-09T17:18:21.488Z"
   },
   {
    "duration": 6,
    "start_time": "2021-06-09T17:18:21.545Z"
   },
   {
    "duration": 6,
    "start_time": "2021-06-09T17:18:21.553Z"
   },
   {
    "duration": 8,
    "start_time": "2021-06-09T17:18:21.561Z"
   },
   {
    "duration": 4,
    "start_time": "2021-06-09T17:18:21.572Z"
   },
   {
    "duration": 58,
    "start_time": "2021-06-09T17:18:21.578Z"
   },
   {
    "duration": 27,
    "start_time": "2021-06-09T17:18:21.639Z"
   },
   {
    "duration": 4,
    "start_time": "2021-06-09T17:18:21.668Z"
   },
   {
    "duration": 16,
    "start_time": "2021-06-09T17:18:21.674Z"
   },
   {
    "duration": 33,
    "start_time": "2021-06-09T17:18:21.692Z"
   },
   {
    "duration": 1287,
    "start_time": "2021-06-09T17:18:21.728Z"
   },
   {
    "duration": 5928,
    "start_time": "2021-06-09T17:18:23.024Z"
   },
   {
    "duration": 3912,
    "start_time": "2021-06-09T17:18:28.954Z"
   },
   {
    "duration": 788,
    "start_time": "2021-06-09T17:18:32.868Z"
   },
   {
    "duration": 4,
    "start_time": "2021-06-09T17:18:33.658Z"
   },
   {
    "duration": 17,
    "start_time": "2021-06-09T17:18:33.664Z"
   },
   {
    "duration": 20,
    "start_time": "2021-06-09T17:18:33.685Z"
   },
   {
    "duration": 777,
    "start_time": "2021-06-09T17:19:26.563Z"
   },
   {
    "duration": 600,
    "start_time": "2021-06-09T17:19:45.060Z"
   },
   {
    "duration": 769,
    "start_time": "2021-06-09T17:20:47.068Z"
   },
   {
    "duration": 606,
    "start_time": "2021-06-09T17:20:58.204Z"
   },
   {
    "duration": 698,
    "start_time": "2021-06-09T17:21:35.504Z"
   },
   {
    "duration": 573,
    "start_time": "2021-06-09T17:21:55.210Z"
   },
   {
    "duration": 583,
    "start_time": "2021-06-09T17:21:59.673Z"
   },
   {
    "duration": 1153,
    "start_time": "2021-06-09T17:23:25.220Z"
   },
   {
    "duration": 603,
    "start_time": "2021-06-09T17:23:47.883Z"
   },
   {
    "duration": 1150,
    "start_time": "2021-06-09T17:25:10.042Z"
   },
   {
    "duration": 394,
    "start_time": "2021-06-09T17:33:47.431Z"
   },
   {
    "duration": 281,
    "start_time": "2021-06-09T17:34:08.462Z"
   },
   {
    "duration": 281,
    "start_time": "2021-06-09T17:34:22.461Z"
   },
   {
    "duration": 578,
    "start_time": "2021-06-09T17:34:38.104Z"
   },
   {
    "duration": 566,
    "start_time": "2021-06-09T17:34:51.720Z"
   },
   {
    "duration": 596,
    "start_time": "2021-06-09T17:35:03.030Z"
   },
   {
    "duration": 706,
    "start_time": "2021-06-09T17:37:03.758Z"
   },
   {
    "duration": 561,
    "start_time": "2021-06-09T17:37:28.008Z"
   },
   {
    "duration": 618,
    "start_time": "2021-06-09T17:37:47.696Z"
   },
   {
    "duration": 6,
    "start_time": "2021-06-09T17:38:51.651Z"
   },
   {
    "duration": 576,
    "start_time": "2021-06-09T17:39:25.476Z"
   },
   {
    "duration": 578,
    "start_time": "2021-06-09T17:39:28.584Z"
   },
   {
    "duration": 550,
    "start_time": "2021-06-09T17:40:07.754Z"
   },
   {
    "duration": 583,
    "start_time": "2021-06-09T17:40:22.300Z"
   },
   {
    "duration": 1127,
    "start_time": "2021-06-09T17:51:56.434Z"
   },
   {
    "duration": 1111,
    "start_time": "2021-06-09T17:53:20.383Z"
   },
   {
    "duration": 1249,
    "start_time": "2021-06-09T17:54:06.657Z"
   },
   {
    "duration": 1186,
    "start_time": "2021-06-09T17:55:28.138Z"
   },
   {
    "duration": 1213,
    "start_time": "2021-06-09T17:56:00.433Z"
   },
   {
    "duration": 1139,
    "start_time": "2021-06-09T18:05:51.999Z"
   },
   {
    "duration": 1159,
    "start_time": "2021-06-09T18:07:38.625Z"
   },
   {
    "duration": 1254,
    "start_time": "2021-06-09T19:29:26.673Z"
   },
   {
    "duration": 1214,
    "start_time": "2021-06-09T19:30:07.381Z"
   },
   {
    "duration": 6,
    "start_time": "2021-06-09T19:30:48.316Z"
   },
   {
    "duration": 1148,
    "start_time": "2021-06-09T19:31:08.842Z"
   },
   {
    "duration": 1131,
    "start_time": "2021-06-09T19:31:41.851Z"
   },
   {
    "duration": 88,
    "start_time": "2021-06-09T19:31:58.514Z"
   },
   {
    "duration": 1166,
    "start_time": "2021-06-09T19:32:03.869Z"
   },
   {
    "duration": 1145,
    "start_time": "2021-06-09T19:32:23.131Z"
   },
   {
    "duration": 1330,
    "start_time": "2021-06-09T19:32:42.747Z"
   },
   {
    "duration": 1219,
    "start_time": "2021-06-09T19:33:19.017Z"
   },
   {
    "duration": 5,
    "start_time": "2021-06-09T19:40:19.244Z"
   },
   {
    "duration": 6,
    "start_time": "2021-06-09T19:40:27.216Z"
   },
   {
    "duration": 5,
    "start_time": "2021-06-09T19:40:30.832Z"
   },
   {
    "duration": 5,
    "start_time": "2021-06-09T19:42:38.918Z"
   },
   {
    "duration": 5,
    "start_time": "2021-06-09T19:42:43.486Z"
   },
   {
    "duration": 6,
    "start_time": "2021-06-09T19:42:50.531Z"
   },
   {
    "duration": 1171,
    "start_time": "2021-06-09T19:43:29.015Z"
   },
   {
    "duration": 1239,
    "start_time": "2021-06-09T19:44:19.570Z"
   },
   {
    "duration": 1226,
    "start_time": "2021-06-09T19:45:58.234Z"
   },
   {
    "duration": 5,
    "start_time": "2021-06-09T19:46:30.732Z"
   },
   {
    "duration": 5,
    "start_time": "2021-06-09T19:46:33.206Z"
   },
   {
    "duration": 6,
    "start_time": "2021-06-09T19:46:38.361Z"
   },
   {
    "duration": 1149,
    "start_time": "2021-06-09T19:47:43.084Z"
   },
   {
    "duration": 1242,
    "start_time": "2021-06-09T19:47:48.975Z"
   },
   {
    "duration": 5,
    "start_time": "2021-06-09T19:48:49.511Z"
   },
   {
    "duration": 5,
    "start_time": "2021-06-09T19:48:53.978Z"
   },
   {
    "duration": 1808,
    "start_time": "2021-06-09T19:49:05.420Z"
   },
   {
    "duration": 5,
    "start_time": "2021-06-09T19:57:56.367Z"
   },
   {
    "duration": 291,
    "start_time": "2021-06-09T19:58:38.090Z"
   },
   {
    "duration": 6701,
    "start_time": "2021-06-09T19:59:36.304Z"
   },
   {
    "duration": 314,
    "start_time": "2021-06-09T19:59:42.694Z"
   },
   {
    "duration": 8,
    "start_time": "2021-06-09T19:59:54.385Z"
   },
   {
    "duration": 16,
    "start_time": "2021-06-09T19:59:58.243Z"
   },
   {
    "duration": 7,
    "start_time": "2021-06-09T20:01:32.475Z"
   },
   {
    "duration": 7,
    "start_time": "2021-06-09T20:01:37.179Z"
   },
   {
    "duration": 15,
    "start_time": "2021-06-09T20:01:39.170Z"
   },
   {
    "duration": 263,
    "start_time": "2021-06-09T20:04:29.037Z"
   },
   {
    "duration": 6,
    "start_time": "2021-06-09T20:04:46.862Z"
   },
   {
    "duration": 10,
    "start_time": "2021-06-09T20:04:49.950Z"
   },
   {
    "duration": 5,
    "start_time": "2021-06-09T20:04:57.167Z"
   },
   {
    "duration": 8,
    "start_time": "2021-06-09T20:04:58.868Z"
   },
   {
    "duration": 11,
    "start_time": "2021-06-09T20:05:01.020Z"
   },
   {
    "duration": 4,
    "start_time": "2021-06-09T20:05:11.892Z"
   },
   {
    "duration": 6,
    "start_time": "2021-06-09T20:05:12.233Z"
   },
   {
    "duration": 11,
    "start_time": "2021-06-09T20:05:12.530Z"
   },
   {
    "duration": 11,
    "start_time": "2021-06-09T20:13:08.649Z"
   },
   {
    "duration": 7,
    "start_time": "2021-06-09T20:13:24.176Z"
   },
   {
    "duration": 9,
    "start_time": "2021-06-09T20:13:32.653Z"
   },
   {
    "duration": 8,
    "start_time": "2021-06-09T20:13:41.516Z"
   },
   {
    "duration": 8,
    "start_time": "2021-06-09T20:13:48.251Z"
   },
   {
    "duration": 5,
    "start_time": "2021-06-09T20:15:31.240Z"
   },
   {
    "duration": 6,
    "start_time": "2021-06-09T20:15:38.397Z"
   },
   {
    "duration": 313,
    "start_time": "2021-06-09T20:16:28.180Z"
   },
   {
    "duration": 9,
    "start_time": "2021-06-09T20:17:07.275Z"
   },
   {
    "duration": 9,
    "start_time": "2021-06-09T20:17:26.060Z"
   },
   {
    "duration": 10,
    "start_time": "2021-06-09T20:17:30.736Z"
   },
   {
    "duration": 9,
    "start_time": "2021-06-09T20:17:53.555Z"
   },
   {
    "duration": 13,
    "start_time": "2021-06-09T20:18:09.727Z"
   },
   {
    "duration": 294,
    "start_time": "2021-06-09T20:19:01.714Z"
   },
   {
    "duration": 12,
    "start_time": "2021-06-09T20:19:22.720Z"
   },
   {
    "duration": 13,
    "start_time": "2021-06-09T20:20:28.603Z"
   },
   {
    "duration": 13,
    "start_time": "2021-06-09T20:20:29.107Z"
   },
   {
    "duration": 12,
    "start_time": "2021-06-09T20:20:29.499Z"
   },
   {
    "duration": 6,
    "start_time": "2021-06-09T20:20:35.809Z"
   },
   {
    "duration": 13,
    "start_time": "2021-06-09T20:22:00.509Z"
   },
   {
    "duration": 5,
    "start_time": "2021-06-09T20:23:11.501Z"
   },
   {
    "duration": 6,
    "start_time": "2021-06-09T20:23:49.470Z"
   },
   {
    "duration": 6,
    "start_time": "2021-06-09T20:23:53.405Z"
   },
   {
    "duration": 6,
    "start_time": "2021-06-09T20:23:57.538Z"
   },
   {
    "duration": 1707,
    "start_time": "2021-06-09T20:24:46.611Z"
   },
   {
    "duration": 6,
    "start_time": "2021-06-09T20:33:24.498Z"
   },
   {
    "duration": 5,
    "start_time": "2021-06-09T20:33:27.272Z"
   },
   {
    "duration": 5,
    "start_time": "2021-06-09T20:33:29.803Z"
   },
   {
    "duration": 5,
    "start_time": "2021-06-09T20:33:32.687Z"
   },
   {
    "duration": 613,
    "start_time": "2021-06-09T20:34:01.823Z"
   },
   {
    "duration": 675,
    "start_time": "2021-06-09T20:34:16.826Z"
   },
   {
    "duration": 5,
    "start_time": "2021-06-09T20:35:19.423Z"
   },
   {
    "duration": 6,
    "start_time": "2021-06-09T20:35:22.657Z"
   },
   {
    "duration": 579,
    "start_time": "2021-06-09T20:35:31.052Z"
   },
   {
    "duration": 6,
    "start_time": "2021-06-09T20:36:18.778Z"
   },
   {
    "duration": 5,
    "start_time": "2021-06-09T20:36:24.085Z"
   },
   {
    "duration": 6,
    "start_time": "2021-06-09T20:39:06.866Z"
   },
   {
    "duration": 6,
    "start_time": "2021-06-09T20:39:08.852Z"
   },
   {
    "duration": 5,
    "start_time": "2021-06-09T20:39:11.048Z"
   },
   {
    "duration": 5,
    "start_time": "2021-06-09T20:39:13.569Z"
   },
   {
    "duration": 5,
    "start_time": "2021-06-09T20:39:20.043Z"
   },
   {
    "duration": 6,
    "start_time": "2021-06-09T20:39:22.165Z"
   },
   {
    "duration": 6,
    "start_time": "2021-06-09T20:39:24.268Z"
   },
   {
    "duration": 5,
    "start_time": "2021-06-09T20:39:26.473Z"
   },
   {
    "duration": 3759,
    "start_time": "2021-06-09T20:40:05.020Z"
   },
   {
    "duration": 1377,
    "start_time": "2021-06-10T10:28:28.588Z"
   },
   {
    "duration": 40,
    "start_time": "2021-06-10T10:28:29.968Z"
   },
   {
    "duration": 12,
    "start_time": "2021-06-10T10:28:30.011Z"
   },
   {
    "duration": 38,
    "start_time": "2021-06-10T10:28:30.026Z"
   },
   {
    "duration": 12,
    "start_time": "2021-06-10T10:28:30.066Z"
   },
   {
    "duration": 28,
    "start_time": "2021-06-10T10:28:30.081Z"
   },
   {
    "duration": 7,
    "start_time": "2021-06-10T10:28:30.111Z"
   },
   {
    "duration": 39,
    "start_time": "2021-06-10T10:28:30.122Z"
   },
   {
    "duration": 15,
    "start_time": "2021-06-10T10:28:30.164Z"
   },
   {
    "duration": 16,
    "start_time": "2021-06-10T10:28:30.181Z"
   },
   {
    "duration": 31,
    "start_time": "2021-06-10T10:28:30.199Z"
   },
   {
    "duration": 25,
    "start_time": "2021-06-10T10:28:30.233Z"
   },
   {
    "duration": 4,
    "start_time": "2021-06-10T10:28:30.261Z"
   },
   {
    "duration": 23,
    "start_time": "2021-06-10T10:28:30.268Z"
   },
   {
    "duration": 6,
    "start_time": "2021-06-10T10:28:30.294Z"
   },
   {
    "duration": 666,
    "start_time": "2021-06-10T10:28:30.303Z"
   },
   {
    "duration": -121,
    "start_time": "2021-06-10T10:28:31.093Z"
   },
   {
    "duration": -142,
    "start_time": "2021-06-10T10:28:31.117Z"
   },
   {
    "duration": -142,
    "start_time": "2021-06-10T10:28:31.119Z"
   },
   {
    "duration": -143,
    "start_time": "2021-06-10T10:28:31.122Z"
   },
   {
    "duration": -144,
    "start_time": "2021-06-10T10:28:31.125Z"
   },
   {
    "duration": -146,
    "start_time": "2021-06-10T10:28:31.129Z"
   },
   {
    "duration": -148,
    "start_time": "2021-06-10T10:28:31.133Z"
   },
   {
    "duration": -147,
    "start_time": "2021-06-10T10:28:31.135Z"
   },
   {
    "duration": -147,
    "start_time": "2021-06-10T10:28:31.137Z"
   },
   {
    "duration": -147,
    "start_time": "2021-06-10T10:28:31.139Z"
   },
   {
    "duration": -148,
    "start_time": "2021-06-10T10:28:31.142Z"
   },
   {
    "duration": -149,
    "start_time": "2021-06-10T10:28:31.145Z"
   },
   {
    "duration": -158,
    "start_time": "2021-06-10T10:28:31.157Z"
   },
   {
    "duration": 1438,
    "start_time": "2021-06-10T10:29:13.809Z"
   },
   {
    "duration": 39,
    "start_time": "2021-06-10T10:29:15.250Z"
   },
   {
    "duration": 10,
    "start_time": "2021-06-10T10:29:15.292Z"
   },
   {
    "duration": 27,
    "start_time": "2021-06-10T10:29:15.305Z"
   },
   {
    "duration": 12,
    "start_time": "2021-06-10T10:29:15.334Z"
   },
   {
    "duration": 32,
    "start_time": "2021-06-10T10:29:15.348Z"
   },
   {
    "duration": 5,
    "start_time": "2021-06-10T10:29:15.382Z"
   },
   {
    "duration": 16,
    "start_time": "2021-06-10T10:29:15.389Z"
   },
   {
    "duration": 8,
    "start_time": "2021-06-10T10:29:15.409Z"
   },
   {
    "duration": 5,
    "start_time": "2021-06-10T10:29:15.421Z"
   },
   {
    "duration": 19,
    "start_time": "2021-06-10T10:29:15.429Z"
   },
   {
    "duration": 30,
    "start_time": "2021-06-10T10:29:15.450Z"
   },
   {
    "duration": 4,
    "start_time": "2021-06-10T10:29:15.482Z"
   },
   {
    "duration": 22,
    "start_time": "2021-06-10T10:29:15.488Z"
   },
   {
    "duration": 4,
    "start_time": "2021-06-10T10:29:15.513Z"
   },
   {
    "duration": 1424,
    "start_time": "2021-06-10T10:29:15.520Z"
   },
   {
    "duration": 5562,
    "start_time": "2021-06-10T10:29:16.947Z"
   },
   {
    "duration": 3780,
    "start_time": "2021-06-10T10:29:22.512Z"
   },
   {
    "duration": 716,
    "start_time": "2021-06-10T10:29:26.294Z"
   },
   {
    "duration": 3,
    "start_time": "2021-06-10T10:29:27.013Z"
   },
   {
    "duration": 9,
    "start_time": "2021-06-10T10:29:27.019Z"
   },
   {
    "duration": 1192,
    "start_time": "2021-06-10T10:29:27.030Z"
   },
   {
    "duration": 1649,
    "start_time": "2021-06-10T10:29:28.224Z"
   },
   {
    "duration": 3379,
    "start_time": "2021-06-10T10:29:29.876Z"
   },
   {
    "duration": 5,
    "start_time": "2021-06-10T10:29:33.258Z"
   },
   {
    "duration": 7,
    "start_time": "2021-06-10T10:29:33.266Z"
   },
   {
    "duration": 5,
    "start_time": "2021-06-10T10:29:33.278Z"
   },
   {
    "duration": 18,
    "start_time": "2021-06-10T10:29:33.285Z"
   },
   {
    "duration": 13,
    "start_time": "2021-06-10T10:29:33.306Z"
   },
   {
    "duration": 1411,
    "start_time": "2021-06-10T10:31:08.150Z"
   },
   {
    "duration": 38,
    "start_time": "2021-06-10T10:31:09.564Z"
   },
   {
    "duration": 10,
    "start_time": "2021-06-10T10:31:09.605Z"
   },
   {
    "duration": 39,
    "start_time": "2021-06-10T10:31:09.618Z"
   },
   {
    "duration": 14,
    "start_time": "2021-06-10T10:31:09.659Z"
   },
   {
    "duration": 22,
    "start_time": "2021-06-10T10:31:09.675Z"
   },
   {
    "duration": 6,
    "start_time": "2021-06-10T10:31:09.699Z"
   },
   {
    "duration": 49,
    "start_time": "2021-06-10T10:31:09.708Z"
   },
   {
    "duration": 12,
    "start_time": "2021-06-10T10:31:09.760Z"
   },
   {
    "duration": 4,
    "start_time": "2021-06-10T10:31:09.775Z"
   },
   {
    "duration": 14,
    "start_time": "2021-06-10T10:31:09.781Z"
   },
   {
    "duration": 60,
    "start_time": "2021-06-10T10:31:09.798Z"
   },
   {
    "duration": 4,
    "start_time": "2021-06-10T10:31:09.860Z"
   },
   {
    "duration": 15,
    "start_time": "2021-06-10T10:31:09.867Z"
   },
   {
    "duration": 5,
    "start_time": "2021-06-10T10:31:09.884Z"
   },
   {
    "duration": 1260,
    "start_time": "2021-06-10T10:31:09.891Z"
   },
   {
    "duration": 5562,
    "start_time": "2021-06-10T10:31:11.155Z"
   },
   {
    "duration": 3814,
    "start_time": "2021-06-10T10:31:16.720Z"
   },
   {
    "duration": 708,
    "start_time": "2021-06-10T10:31:20.537Z"
   },
   {
    "duration": 9,
    "start_time": "2021-06-10T10:31:21.247Z"
   },
   {
    "duration": 6,
    "start_time": "2021-06-10T10:31:21.258Z"
   },
   {
    "duration": 1148,
    "start_time": "2021-06-10T10:31:21.267Z"
   },
   {
    "duration": 1639,
    "start_time": "2021-06-10T10:31:22.419Z"
   },
   {
    "duration": 498,
    "start_time": "2021-06-10T10:31:24.061Z"
   },
   {
    "duration": -118,
    "start_time": "2021-06-10T10:31:24.680Z"
   },
   {
    "duration": -119,
    "start_time": "2021-06-10T10:31:24.683Z"
   },
   {
    "duration": -122,
    "start_time": "2021-06-10T10:31:24.687Z"
   },
   {
    "duration": -124,
    "start_time": "2021-06-10T10:31:24.690Z"
   },
   {
    "duration": -126,
    "start_time": "2021-06-10T10:31:24.693Z"
   },
   {
    "duration": -126,
    "start_time": "2021-06-10T10:31:24.695Z"
   },
   {
    "duration": 12,
    "start_time": "2021-06-10T10:31:44.071Z"
   },
   {
    "duration": 4,
    "start_time": "2021-06-10T10:32:05.407Z"
   },
   {
    "duration": 6,
    "start_time": "2021-06-10T10:32:49.445Z"
   },
   {
    "duration": 13,
    "start_time": "2021-06-10T10:32:53.390Z"
   },
   {
    "duration": 12,
    "start_time": "2021-06-10T10:33:03.580Z"
   },
   {
    "duration": 5,
    "start_time": "2021-06-10T10:33:49.071Z"
   },
   {
    "duration": 5,
    "start_time": "2021-06-10T10:33:53.792Z"
   },
   {
    "duration": 12,
    "start_time": "2021-06-10T10:35:26.013Z"
   },
   {
    "duration": 14,
    "start_time": "2021-06-10T10:35:32.911Z"
   },
   {
    "duration": 13,
    "start_time": "2021-06-10T10:35:38.920Z"
   },
   {
    "duration": 9,
    "start_time": "2021-06-10T10:38:20.896Z"
   },
   {
    "duration": 115,
    "start_time": "2021-06-10T10:38:22.803Z"
   },
   {
    "duration": 13,
    "start_time": "2021-06-10T10:39:52.289Z"
   },
   {
    "duration": 4,
    "start_time": "2021-06-10T10:41:37.150Z"
   },
   {
    "duration": 8,
    "start_time": "2021-06-10T10:41:37.490Z"
   },
   {
    "duration": 33,
    "start_time": "2021-06-10T10:41:38.358Z"
   },
   {
    "duration": 4,
    "start_time": "2021-06-10T10:41:48.915Z"
   },
   {
    "duration": 11,
    "start_time": "2021-06-10T10:41:49.211Z"
   },
   {
    "duration": 21,
    "start_time": "2021-06-10T10:41:49.457Z"
   },
   {
    "duration": 250,
    "start_time": "2021-06-10T10:43:14.255Z"
   },
   {
    "duration": 9,
    "start_time": "2021-06-10T10:45:13.266Z"
   },
   {
    "duration": 16,
    "start_time": "2021-06-10T10:45:16.495Z"
   },
   {
    "duration": 296,
    "start_time": "2021-06-10T10:45:21.369Z"
   },
   {
    "duration": 8,
    "start_time": "2021-06-10T10:45:26.826Z"
   },
   {
    "duration": 4,
    "start_time": "2021-06-10T10:45:29.797Z"
   },
   {
    "duration": 14,
    "start_time": "2021-06-10T10:45:30.067Z"
   },
   {
    "duration": 16,
    "start_time": "2021-06-10T10:45:30.327Z"
   },
   {
    "duration": 15,
    "start_time": "2021-06-10T10:49:30.548Z"
   },
   {
    "duration": 12,
    "start_time": "2021-06-10T10:49:33.131Z"
   },
   {
    "duration": 620,
    "start_time": "2021-06-10T10:51:12.632Z"
   },
   {
    "duration": 13,
    "start_time": "2021-06-10T10:51:17.305Z"
   },
   {
    "duration": 15,
    "start_time": "2021-06-10T10:51:41.074Z"
   },
   {
    "duration": 14,
    "start_time": "2021-06-10T10:51:44.211Z"
   },
   {
    "duration": 16,
    "start_time": "2021-06-10T10:53:24.157Z"
   },
   {
    "duration": 579,
    "start_time": "2021-06-10T10:54:02.303Z"
   },
   {
    "duration": 690,
    "start_time": "2021-06-10T10:56:40.302Z"
   },
   {
    "duration": 4,
    "start_time": "2021-06-10T10:58:10.062Z"
   },
   {
    "duration": 11,
    "start_time": "2021-06-10T10:58:10.288Z"
   },
   {
    "duration": 17,
    "start_time": "2021-06-10T10:58:13.907Z"
   },
   {
    "duration": 14,
    "start_time": "2021-06-10T10:59:03.331Z"
   },
   {
    "duration": 18,
    "start_time": "2021-06-10T11:00:08.160Z"
   },
   {
    "duration": 22,
    "start_time": "2021-06-10T11:00:11.264Z"
   },
   {
    "duration": 19,
    "start_time": "2021-06-10T11:01:21.838Z"
   },
   {
    "duration": 557,
    "start_time": "2021-06-10T11:01:24.767Z"
   },
   {
    "duration": 16,
    "start_time": "2021-06-10T11:01:35.433Z"
   },
   {
    "duration": 19,
    "start_time": "2021-06-10T11:03:37.186Z"
   },
   {
    "duration": 16,
    "start_time": "2021-06-10T11:03:40.504Z"
   },
   {
    "duration": 569,
    "start_time": "2021-06-10T11:03:51.452Z"
   },
   {
    "duration": 563,
    "start_time": "2021-06-10T11:04:30.698Z"
   },
   {
    "duration": 676,
    "start_time": "2021-06-10T11:05:44.760Z"
   },
   {
    "duration": 590,
    "start_time": "2021-06-10T11:06:07.966Z"
   },
   {
    "duration": 253,
    "start_time": "2021-06-10T11:07:34.742Z"
   },
   {
    "duration": 565,
    "start_time": "2021-06-10T11:07:43.166Z"
   },
   {
    "duration": 545,
    "start_time": "2021-06-10T11:09:48.940Z"
   },
   {
    "duration": 706,
    "start_time": "2021-06-10T11:10:31.939Z"
   },
   {
    "duration": 625,
    "start_time": "2021-06-10T11:10:37.141Z"
   },
   {
    "duration": 1367,
    "start_time": "2021-06-10T11:12:32.642Z"
   },
   {
    "duration": 41,
    "start_time": "2021-06-10T11:12:34.011Z"
   },
   {
    "duration": 11,
    "start_time": "2021-06-10T11:12:34.055Z"
   },
   {
    "duration": 18,
    "start_time": "2021-06-10T11:12:34.069Z"
   },
   {
    "duration": 16,
    "start_time": "2021-06-10T11:12:34.089Z"
   },
   {
    "duration": 55,
    "start_time": "2021-06-10T11:12:34.108Z"
   },
   {
    "duration": 6,
    "start_time": "2021-06-10T11:12:34.165Z"
   },
   {
    "duration": 13,
    "start_time": "2021-06-10T11:12:34.174Z"
   },
   {
    "duration": 15,
    "start_time": "2021-06-10T11:12:34.189Z"
   },
   {
    "duration": 13,
    "start_time": "2021-06-10T11:12:34.206Z"
   },
   {
    "duration": 25,
    "start_time": "2021-06-10T11:12:34.221Z"
   },
   {
    "duration": 26,
    "start_time": "2021-06-10T11:12:34.248Z"
   },
   {
    "duration": 12,
    "start_time": "2021-06-10T11:12:34.276Z"
   },
   {
    "duration": 21,
    "start_time": "2021-06-10T11:12:34.290Z"
   },
   {
    "duration": 15,
    "start_time": "2021-06-10T11:12:34.313Z"
   },
   {
    "duration": 1143,
    "start_time": "2021-06-10T11:12:34.330Z"
   },
   {
    "duration": 5698,
    "start_time": "2021-06-10T11:12:35.476Z"
   },
   {
    "duration": 3560,
    "start_time": "2021-06-10T11:12:41.177Z"
   },
   {
    "duration": 661,
    "start_time": "2021-06-10T11:12:44.740Z"
   },
   {
    "duration": 5,
    "start_time": "2021-06-10T11:12:45.404Z"
   },
   {
    "duration": 12,
    "start_time": "2021-06-10T11:12:45.412Z"
   },
   {
    "duration": 1020,
    "start_time": "2021-06-10T11:12:45.427Z"
   },
   {
    "duration": 1542,
    "start_time": "2021-06-10T11:12:46.456Z"
   },
   {
    "duration": 4,
    "start_time": "2021-06-10T11:12:48.001Z"
   },
   {
    "duration": 24,
    "start_time": "2021-06-10T11:12:48.007Z"
   },
   {
    "duration": 28,
    "start_time": "2021-06-10T11:12:48.034Z"
   },
   {
    "duration": 16,
    "start_time": "2021-06-10T11:12:48.064Z"
   },
   {
    "duration": 636,
    "start_time": "2021-06-10T11:12:48.083Z"
   },
   {
    "duration": 3057,
    "start_time": "2021-06-10T11:12:48.722Z"
   },
   {
    "duration": 6,
    "start_time": "2021-06-10T11:12:51.781Z"
   },
   {
    "duration": 14,
    "start_time": "2021-06-10T11:12:51.789Z"
   },
   {
    "duration": 9,
    "start_time": "2021-06-10T11:12:51.805Z"
   },
   {
    "duration": 11,
    "start_time": "2021-06-10T11:12:51.817Z"
   },
   {
    "duration": 28,
    "start_time": "2021-06-10T11:12:51.830Z"
   },
   {
    "duration": 1112,
    "start_time": "2021-06-10T11:16:29.612Z"
   },
   {
    "duration": 689,
    "start_time": "2021-06-10T11:18:14.639Z"
   },
   {
    "duration": 207,
    "start_time": "2021-06-10T11:18:28.153Z"
   },
   {
    "duration": 515,
    "start_time": "2021-06-10T11:18:37.221Z"
   },
   {
    "duration": 17,
    "start_time": "2021-06-10T11:18:55.569Z"
   },
   {
    "duration": 710,
    "start_time": "2021-06-10T11:20:21.896Z"
   },
   {
    "duration": 513,
    "start_time": "2021-06-10T11:20:52.775Z"
   },
   {
    "duration": 335,
    "start_time": "2021-06-10T11:21:20.460Z"
   },
   {
    "duration": 498,
    "start_time": "2021-06-10T11:21:25.848Z"
   },
   {
    "duration": 530,
    "start_time": "2021-06-10T11:21:30.691Z"
   },
   {
    "duration": 581,
    "start_time": "2021-06-10T11:21:38.168Z"
   },
   {
    "duration": 494,
    "start_time": "2021-06-10T11:22:53.153Z"
   },
   {
    "duration": 508,
    "start_time": "2021-06-10T11:23:30.854Z"
   },
   {
    "duration": 494,
    "start_time": "2021-06-10T11:25:39.151Z"
   },
   {
    "duration": 506,
    "start_time": "2021-06-10T11:25:53.129Z"
   },
   {
    "duration": 493,
    "start_time": "2021-06-10T11:25:58.843Z"
   },
   {
    "duration": 263,
    "start_time": "2021-06-10T11:26:21.008Z"
   },
   {
    "duration": 542,
    "start_time": "2021-06-10T11:26:26.556Z"
   },
   {
    "duration": 553,
    "start_time": "2021-06-10T11:27:34.889Z"
   },
   {
    "duration": 457,
    "start_time": "2021-06-10T11:28:17.304Z"
   },
   {
    "duration": 435,
    "start_time": "2021-06-10T11:29:26.580Z"
   },
   {
    "duration": 445,
    "start_time": "2021-06-10T11:29:36.964Z"
   },
   {
    "duration": 448,
    "start_time": "2021-06-10T11:31:20.820Z"
   },
   {
    "duration": 440,
    "start_time": "2021-06-10T11:31:27.420Z"
   },
   {
    "duration": 451,
    "start_time": "2021-06-10T11:31:34.804Z"
   },
   {
    "duration": 811,
    "start_time": "2021-06-10T11:32:11.713Z"
   },
   {
    "duration": 446,
    "start_time": "2021-06-10T11:32:17.904Z"
   },
   {
    "duration": 452,
    "start_time": "2021-06-10T11:32:33.903Z"
   },
   {
    "duration": 524,
    "start_time": "2021-06-10T11:32:42.299Z"
   },
   {
    "duration": 5,
    "start_time": "2021-06-10T11:33:39.430Z"
   },
   {
    "duration": 1142,
    "start_time": "2021-06-10T11:33:40.046Z"
   },
   {
    "duration": 5202,
    "start_time": "2021-06-10T11:33:56.734Z"
   },
   {
    "duration": 1858,
    "start_time": "2021-06-10T11:35:21.848Z"
   },
   {
    "duration": 37,
    "start_time": "2021-06-10T11:35:23.709Z"
   },
   {
    "duration": 10,
    "start_time": "2021-06-10T11:35:23.749Z"
   },
   {
    "duration": 27,
    "start_time": "2021-06-10T11:35:23.761Z"
   },
   {
    "duration": 15,
    "start_time": "2021-06-10T11:35:23.791Z"
   },
   {
    "duration": 31,
    "start_time": "2021-06-10T11:35:23.808Z"
   },
   {
    "duration": 19,
    "start_time": "2021-06-10T11:35:23.841Z"
   },
   {
    "duration": 11,
    "start_time": "2021-06-10T11:35:23.863Z"
   },
   {
    "duration": 12,
    "start_time": "2021-06-10T11:35:23.878Z"
   },
   {
    "duration": 11,
    "start_time": "2021-06-10T11:35:23.893Z"
   },
   {
    "duration": 23,
    "start_time": "2021-06-10T11:35:23.906Z"
   },
   {
    "duration": 39,
    "start_time": "2021-06-10T11:35:23.931Z"
   },
   {
    "duration": 4,
    "start_time": "2021-06-10T11:35:23.972Z"
   },
   {
    "duration": 17,
    "start_time": "2021-06-10T11:35:23.978Z"
   },
   {
    "duration": 11,
    "start_time": "2021-06-10T11:35:23.997Z"
   },
   {
    "duration": 461,
    "start_time": "2021-06-10T11:35:24.011Z"
   },
   {
    "duration": -84,
    "start_time": "2021-06-10T11:35:24.559Z"
   },
   {
    "duration": -86,
    "start_time": "2021-06-10T11:35:24.563Z"
   },
   {
    "duration": -88,
    "start_time": "2021-06-10T11:35:24.566Z"
   },
   {
    "duration": -90,
    "start_time": "2021-06-10T11:35:24.569Z"
   },
   {
    "duration": -91,
    "start_time": "2021-06-10T11:35:24.572Z"
   },
   {
    "duration": -92,
    "start_time": "2021-06-10T11:35:24.574Z"
   },
   {
    "duration": -92,
    "start_time": "2021-06-10T11:35:24.576Z"
   },
   {
    "duration": -99,
    "start_time": "2021-06-10T11:35:24.584Z"
   },
   {
    "duration": -102,
    "start_time": "2021-06-10T11:35:24.588Z"
   },
   {
    "duration": -103,
    "start_time": "2021-06-10T11:35:24.590Z"
   },
   {
    "duration": -103,
    "start_time": "2021-06-10T11:35:24.592Z"
   },
   {
    "duration": -104,
    "start_time": "2021-06-10T11:35:24.594Z"
   },
   {
    "duration": -106,
    "start_time": "2021-06-10T11:35:24.597Z"
   },
   {
    "duration": -106,
    "start_time": "2021-06-10T11:35:24.598Z"
   },
   {
    "duration": -107,
    "start_time": "2021-06-10T11:35:24.601Z"
   },
   {
    "duration": -109,
    "start_time": "2021-06-10T11:35:24.604Z"
   },
   {
    "duration": -110,
    "start_time": "2021-06-10T11:35:24.606Z"
   },
   {
    "duration": -110,
    "start_time": "2021-06-10T11:35:24.608Z"
   },
   {
    "duration": -112,
    "start_time": "2021-06-10T11:35:24.611Z"
   },
   {
    "duration": -118,
    "start_time": "2021-06-10T11:35:24.618Z"
   },
   {
    "duration": 1400,
    "start_time": "2021-06-10T11:40:03.519Z"
   },
   {
    "duration": 38,
    "start_time": "2021-06-10T11:40:04.922Z"
   },
   {
    "duration": 10,
    "start_time": "2021-06-10T11:40:04.963Z"
   },
   {
    "duration": 24,
    "start_time": "2021-06-10T11:40:04.975Z"
   },
   {
    "duration": 13,
    "start_time": "2021-06-10T11:40:05.001Z"
   },
   {
    "duration": 50,
    "start_time": "2021-06-10T11:40:05.016Z"
   },
   {
    "duration": 8,
    "start_time": "2021-06-10T11:40:05.069Z"
   },
   {
    "duration": 8,
    "start_time": "2021-06-10T11:40:05.079Z"
   },
   {
    "duration": 13,
    "start_time": "2021-06-10T11:40:05.091Z"
   },
   {
    "duration": 16,
    "start_time": "2021-06-10T11:40:05.107Z"
   },
   {
    "duration": 33,
    "start_time": "2021-06-10T11:40:05.125Z"
   },
   {
    "duration": 21,
    "start_time": "2021-06-10T11:40:05.160Z"
   },
   {
    "duration": 4,
    "start_time": "2021-06-10T11:40:05.184Z"
   },
   {
    "duration": 21,
    "start_time": "2021-06-10T11:40:05.190Z"
   },
   {
    "duration": 41,
    "start_time": "2021-06-10T11:40:05.214Z"
   },
   {
    "duration": 1131,
    "start_time": "2021-06-10T11:40:05.258Z"
   },
   {
    "duration": 5126,
    "start_time": "2021-06-10T11:40:06.392Z"
   },
   {
    "duration": 3476,
    "start_time": "2021-06-10T11:40:11.520Z"
   },
   {
    "duration": 647,
    "start_time": "2021-06-10T11:40:14.998Z"
   },
   {
    "duration": 9,
    "start_time": "2021-06-10T11:40:15.647Z"
   },
   {
    "duration": 11,
    "start_time": "2021-06-10T11:40:15.658Z"
   },
   {
    "duration": 1029,
    "start_time": "2021-06-10T11:40:15.671Z"
   },
   {
    "duration": 3044,
    "start_time": "2021-06-10T11:40:16.703Z"
   },
   {
    "duration": 391,
    "start_time": "2021-06-10T11:40:19.755Z"
   },
   {
    "duration": -100,
    "start_time": "2021-06-10T11:40:20.249Z"
   },
   {
    "duration": -101,
    "start_time": "2021-06-10T11:40:20.252Z"
   },
   {
    "duration": -105,
    "start_time": "2021-06-10T11:40:20.257Z"
   },
   {
    "duration": -108,
    "start_time": "2021-06-10T11:40:20.261Z"
   },
   {
    "duration": -110,
    "start_time": "2021-06-10T11:40:20.265Z"
   },
   {
    "duration": -111,
    "start_time": "2021-06-10T11:40:20.268Z"
   },
   {
    "duration": -113,
    "start_time": "2021-06-10T11:40:20.271Z"
   },
   {
    "duration": -114,
    "start_time": "2021-06-10T11:40:20.274Z"
   },
   {
    "duration": -115,
    "start_time": "2021-06-10T11:40:20.276Z"
   },
   {
    "duration": -116,
    "start_time": "2021-06-10T11:40:20.278Z"
   },
   {
    "duration": -118,
    "start_time": "2021-06-10T11:40:20.281Z"
   },
   {
    "duration": -119,
    "start_time": "2021-06-10T11:40:20.283Z"
   },
   {
    "duration": -120,
    "start_time": "2021-06-10T11:40:20.286Z"
   },
   {
    "duration": -121,
    "start_time": "2021-06-10T11:40:20.288Z"
   },
   {
    "duration": 1441,
    "start_time": "2021-06-10T11:42:36.873Z"
   },
   {
    "duration": 38,
    "start_time": "2021-06-10T11:42:38.317Z"
   },
   {
    "duration": 9,
    "start_time": "2021-06-10T11:42:38.358Z"
   },
   {
    "duration": 21,
    "start_time": "2021-06-10T11:42:38.369Z"
   },
   {
    "duration": 11,
    "start_time": "2021-06-10T11:42:38.392Z"
   },
   {
    "duration": 51,
    "start_time": "2021-06-10T11:42:38.406Z"
   },
   {
    "duration": 6,
    "start_time": "2021-06-10T11:42:38.460Z"
   },
   {
    "duration": 12,
    "start_time": "2021-06-10T11:42:38.469Z"
   },
   {
    "duration": 8,
    "start_time": "2021-06-10T11:42:38.484Z"
   },
   {
    "duration": 4,
    "start_time": "2021-06-10T11:42:38.495Z"
   },
   {
    "duration": 53,
    "start_time": "2021-06-10T11:42:38.502Z"
   },
   {
    "duration": 21,
    "start_time": "2021-06-10T11:42:38.557Z"
   },
   {
    "duration": 6,
    "start_time": "2021-06-10T11:42:38.580Z"
   },
   {
    "duration": 16,
    "start_time": "2021-06-10T11:42:38.589Z"
   },
   {
    "duration": 7,
    "start_time": "2021-06-10T11:42:38.607Z"
   },
   {
    "duration": 1163,
    "start_time": "2021-06-10T11:42:38.617Z"
   },
   {
    "duration": 5284,
    "start_time": "2021-06-10T11:42:39.783Z"
   },
   {
    "duration": 3489,
    "start_time": "2021-06-10T11:42:45.069Z"
   },
   {
    "duration": 606,
    "start_time": "2021-06-10T11:42:48.561Z"
   },
   {
    "duration": 5,
    "start_time": "2021-06-10T11:42:49.169Z"
   },
   {
    "duration": 12,
    "start_time": "2021-06-10T11:42:49.176Z"
   },
   {
    "duration": 967,
    "start_time": "2021-06-10T11:42:49.191Z"
   },
   {
    "duration": 2665,
    "start_time": "2021-06-10T11:42:50.165Z"
   },
   {
    "duration": 374,
    "start_time": "2021-06-10T11:42:52.834Z"
   },
   {
    "duration": -87,
    "start_time": "2021-06-10T11:42:53.298Z"
   },
   {
    "duration": -91,
    "start_time": "2021-06-10T11:42:53.303Z"
   },
   {
    "duration": -91,
    "start_time": "2021-06-10T11:42:53.305Z"
   },
   {
    "duration": -93,
    "start_time": "2021-06-10T11:42:53.308Z"
   },
   {
    "duration": -93,
    "start_time": "2021-06-10T11:42:53.310Z"
   },
   {
    "duration": -95,
    "start_time": "2021-06-10T11:42:53.313Z"
   },
   {
    "duration": -95,
    "start_time": "2021-06-10T11:42:53.315Z"
   },
   {
    "duration": -97,
    "start_time": "2021-06-10T11:42:53.319Z"
   },
   {
    "duration": -99,
    "start_time": "2021-06-10T11:42:53.322Z"
   },
   {
    "duration": -99,
    "start_time": "2021-06-10T11:42:53.324Z"
   },
   {
    "duration": -101,
    "start_time": "2021-06-10T11:42:53.327Z"
   },
   {
    "duration": -101,
    "start_time": "2021-06-10T11:42:53.329Z"
   },
   {
    "duration": -109,
    "start_time": "2021-06-10T11:42:53.338Z"
   },
   {
    "duration": -110,
    "start_time": "2021-06-10T11:42:53.341Z"
   },
   {
    "duration": 2493,
    "start_time": "2021-06-10T11:44:00.686Z"
   },
   {
    "duration": 2820,
    "start_time": "2021-06-10T11:44:39.617Z"
   },
   {
    "duration": 2462,
    "start_time": "2021-06-10T11:46:07.466Z"
   },
   {
    "duration": 1816,
    "start_time": "2021-06-10T11:48:10.214Z"
   },
   {
    "duration": 274,
    "start_time": "2021-06-10T11:48:12.032Z"
   },
   {
    "duration": 11,
    "start_time": "2021-06-10T11:48:12.309Z"
   },
   {
    "duration": 19,
    "start_time": "2021-06-10T11:48:12.322Z"
   },
   {
    "duration": 17,
    "start_time": "2021-06-10T11:48:12.344Z"
   },
   {
    "duration": 25,
    "start_time": "2021-06-10T11:48:12.363Z"
   },
   {
    "duration": 6,
    "start_time": "2021-06-10T11:48:12.390Z"
   },
   {
    "duration": 10,
    "start_time": "2021-06-10T11:48:12.400Z"
   },
   {
    "duration": 47,
    "start_time": "2021-06-10T11:48:12.413Z"
   },
   {
    "duration": 4,
    "start_time": "2021-06-10T11:48:12.462Z"
   },
   {
    "duration": 20,
    "start_time": "2021-06-10T11:48:12.469Z"
   },
   {
    "duration": 22,
    "start_time": "2021-06-10T11:48:12.491Z"
   },
   {
    "duration": 40,
    "start_time": "2021-06-10T11:48:12.516Z"
   },
   {
    "duration": 29,
    "start_time": "2021-06-10T11:48:12.558Z"
   },
   {
    "duration": 7,
    "start_time": "2021-06-10T11:48:12.590Z"
   },
   {
    "duration": 1208,
    "start_time": "2021-06-10T11:48:12.600Z"
   },
   {
    "duration": 5338,
    "start_time": "2021-06-10T11:48:13.811Z"
   },
   {
    "duration": 3448,
    "start_time": "2021-06-10T11:48:19.151Z"
   },
   {
    "duration": 634,
    "start_time": "2021-06-10T11:48:22.601Z"
   },
   {
    "duration": 4,
    "start_time": "2021-06-10T11:48:23.237Z"
   },
   {
    "duration": 6,
    "start_time": "2021-06-10T11:48:23.256Z"
   },
   {
    "duration": 997,
    "start_time": "2021-06-10T11:48:23.264Z"
   },
   {
    "duration": 3040,
    "start_time": "2021-06-10T11:48:24.265Z"
   },
   {
    "duration": 42,
    "start_time": "2021-06-10T12:25:23.214Z"
   },
   {
    "duration": 394,
    "start_time": "2021-06-10T12:28:54.986Z"
   },
   {
    "duration": 11,
    "start_time": "2021-06-10T12:32:54.986Z"
   },
   {
    "duration": 11,
    "start_time": "2021-06-10T12:33:31.341Z"
   },
   {
    "duration": 11,
    "start_time": "2021-06-10T12:33:59.763Z"
   },
   {
    "duration": 11,
    "start_time": "2021-06-10T12:35:01.002Z"
   },
   {
    "duration": 235,
    "start_time": "2021-06-10T12:48:10.507Z"
   },
   {
    "duration": 10,
    "start_time": "2021-06-10T12:48:31.214Z"
   },
   {
    "duration": 16,
    "start_time": "2021-06-10T12:48:34.937Z"
   },
   {
    "duration": 6,
    "start_time": "2021-06-10T12:54:03.806Z"
   },
   {
    "duration": 22,
    "start_time": "2021-06-10T13:19:40.899Z"
   },
   {
    "duration": 8,
    "start_time": "2021-06-10T13:21:45.630Z"
   },
   {
    "duration": 5,
    "start_time": "2021-06-10T13:25:40.222Z"
   },
   {
    "duration": 4,
    "start_time": "2021-06-10T13:26:39.899Z"
   },
   {
    "duration": 10,
    "start_time": "2021-06-10T13:28:19.682Z"
   },
   {
    "duration": 5,
    "start_time": "2021-06-10T13:32:17.809Z"
   },
   {
    "duration": 1429,
    "start_time": "2021-06-10T14:03:23.811Z"
   },
   {
    "duration": 39,
    "start_time": "2021-06-10T14:03:25.243Z"
   },
   {
    "duration": 10,
    "start_time": "2021-06-10T14:03:25.285Z"
   },
   {
    "duration": 24,
    "start_time": "2021-06-10T14:03:25.297Z"
   },
   {
    "duration": 34,
    "start_time": "2021-06-10T14:03:25.324Z"
   },
   {
    "duration": 23,
    "start_time": "2021-06-10T14:03:25.360Z"
   },
   {
    "duration": 7,
    "start_time": "2021-06-10T14:03:25.385Z"
   },
   {
    "duration": 9,
    "start_time": "2021-06-10T14:03:25.394Z"
   },
   {
    "duration": 6,
    "start_time": "2021-06-10T14:03:25.407Z"
   },
   {
    "duration": 41,
    "start_time": "2021-06-10T14:03:25.416Z"
   },
   {
    "duration": 26,
    "start_time": "2021-06-10T14:03:25.460Z"
   },
   {
    "duration": 23,
    "start_time": "2021-06-10T14:03:25.488Z"
   },
   {
    "duration": 4,
    "start_time": "2021-06-10T14:03:25.513Z"
   },
   {
    "duration": 25,
    "start_time": "2021-06-10T14:03:25.520Z"
   },
   {
    "duration": 7,
    "start_time": "2021-06-10T14:03:25.555Z"
   },
   {
    "duration": 1101,
    "start_time": "2021-06-10T14:03:25.565Z"
   },
   {
    "duration": 5098,
    "start_time": "2021-06-10T14:03:26.669Z"
   },
   {
    "duration": 3354,
    "start_time": "2021-06-10T14:03:31.770Z"
   },
   {
    "duration": 600,
    "start_time": "2021-06-10T14:03:35.128Z"
   },
   {
    "duration": 4,
    "start_time": "2021-06-10T14:03:35.730Z"
   },
   {
    "duration": 21,
    "start_time": "2021-06-10T14:03:35.736Z"
   },
   {
    "duration": 943,
    "start_time": "2021-06-10T14:03:35.759Z"
   },
   {
    "duration": 2755,
    "start_time": "2021-06-10T14:03:36.704Z"
   },
   {
    "duration": 10,
    "start_time": "2021-06-10T14:03:39.462Z"
   },
   {
    "duration": 12,
    "start_time": "2021-06-10T14:03:39.475Z"
   },
   {
    "duration": 8,
    "start_time": "2021-06-10T14:03:39.489Z"
   },
   {
    "duration": 30,
    "start_time": "2021-06-10T14:03:39.558Z"
   },
   {
    "duration": 11,
    "start_time": "2021-06-10T14:03:39.591Z"
   },
   {
    "duration": 711,
    "start_time": "2021-06-10T14:03:39.605Z"
   },
   {
    "duration": 20,
    "start_time": "2021-06-10T14:03:40.298Z"
   },
   {
    "duration": 17,
    "start_time": "2021-06-10T14:03:40.302Z"
   },
   {
    "duration": 13,
    "start_time": "2021-06-10T14:03:40.307Z"
   },
   {
    "duration": 11,
    "start_time": "2021-06-10T14:04:17.229Z"
   },
   {
    "duration": 565,
    "start_time": "2021-06-10T14:04:19.795Z"
   },
   {
    "duration": 9,
    "start_time": "2021-06-10T14:06:12.915Z"
   },
   {
    "duration": 5,
    "start_time": "2021-06-10T14:06:13.340Z"
   },
   {
    "duration": 11,
    "start_time": "2021-06-10T14:06:13.847Z"
   },
   {
    "duration": 88,
    "start_time": "2021-06-10T14:06:14.900Z"
   },
   {
    "duration": 557,
    "start_time": "2021-06-10T14:06:20.221Z"
   },
   {
    "duration": 8,
    "start_time": "2021-06-10T14:07:48.622Z"
   },
   {
    "duration": 4,
    "start_time": "2021-06-10T14:07:48.967Z"
   },
   {
    "duration": 11,
    "start_time": "2021-06-10T14:07:49.304Z"
   },
   {
    "duration": 98,
    "start_time": "2021-06-10T14:07:50.063Z"
   },
   {
    "duration": 15674,
    "start_time": "2021-06-10T14:07:56.605Z"
   },
   {
    "duration": 24,
    "start_time": "2021-06-10T14:09:46.467Z"
   },
   {
    "duration": 5200,
    "start_time": "2021-06-10T14:10:34.367Z"
   },
   {
    "duration": 1402,
    "start_time": "2021-06-10T14:11:30.853Z"
   },
   {
    "duration": 39,
    "start_time": "2021-06-10T14:11:32.257Z"
   },
   {
    "duration": 10,
    "start_time": "2021-06-10T14:11:32.299Z"
   },
   {
    "duration": 30,
    "start_time": "2021-06-10T14:11:32.311Z"
   },
   {
    "duration": 20,
    "start_time": "2021-06-10T14:11:32.344Z"
   },
   {
    "duration": 27,
    "start_time": "2021-06-10T14:11:32.366Z"
   },
   {
    "duration": 6,
    "start_time": "2021-06-10T14:11:32.396Z"
   },
   {
    "duration": 9,
    "start_time": "2021-06-10T14:11:32.406Z"
   },
   {
    "duration": 39,
    "start_time": "2021-06-10T14:11:32.421Z"
   },
   {
    "duration": 6,
    "start_time": "2021-06-10T14:11:32.464Z"
   },
   {
    "duration": 28,
    "start_time": "2021-06-10T14:11:32.473Z"
   },
   {
    "duration": 23,
    "start_time": "2021-06-10T14:11:32.503Z"
   },
   {
    "duration": 28,
    "start_time": "2021-06-10T14:11:32.528Z"
   },
   {
    "duration": 22,
    "start_time": "2021-06-10T14:11:32.558Z"
   },
   {
    "duration": 6,
    "start_time": "2021-06-10T14:11:32.583Z"
   },
   {
    "duration": 1126,
    "start_time": "2021-06-10T14:11:32.592Z"
   },
   {
    "duration": 5182,
    "start_time": "2021-06-10T14:11:33.721Z"
   },
   {
    "duration": 3276,
    "start_time": "2021-06-10T14:11:38.906Z"
   },
   {
    "duration": 596,
    "start_time": "2021-06-10T14:11:42.185Z"
   },
   {
    "duration": 4,
    "start_time": "2021-06-10T14:11:42.784Z"
   },
   {
    "duration": 14,
    "start_time": "2021-06-10T14:11:42.790Z"
   },
   {
    "duration": 1073,
    "start_time": "2021-06-10T14:11:42.807Z"
   },
   {
    "duration": 2816,
    "start_time": "2021-06-10T14:11:43.883Z"
   },
   {
    "duration": 11,
    "start_time": "2021-06-10T14:11:46.702Z"
   },
   {
    "duration": 19,
    "start_time": "2021-06-10T14:11:46.716Z"
   },
   {
    "duration": 24,
    "start_time": "2021-06-10T14:11:46.738Z"
   },
   {
    "duration": 45,
    "start_time": "2021-06-10T14:11:46.766Z"
   },
   {
    "duration": 11,
    "start_time": "2021-06-10T14:11:46.814Z"
   },
   {
    "duration": 15052,
    "start_time": "2021-06-10T14:11:46.827Z"
   },
   {
    "duration": 22762,
    "start_time": "2021-06-10T14:12:01.957Z"
   },
   {
    "duration": 10,
    "start_time": "2021-06-10T14:12:24.711Z"
   },
   {
    "duration": 8,
    "start_time": "2021-06-10T14:12:24.715Z"
   },
   {
    "duration": 6,
    "start_time": "2021-06-10T14:12:24.718Z"
   },
   {
    "duration": 546,
    "start_time": "2021-06-10T14:13:12.169Z"
   },
   {
    "duration": 11,
    "start_time": "2021-06-10T14:14:43.826Z"
   },
   {
    "duration": 681,
    "start_time": "2021-06-10T14:14:44.263Z"
   },
   {
    "duration": 12,
    "start_time": "2021-06-10T14:15:42.277Z"
   },
   {
    "duration": 499,
    "start_time": "2021-06-10T14:15:42.698Z"
   },
   {
    "duration": 13,
    "start_time": "2021-06-10T14:17:50.274Z"
   },
   {
    "duration": 498,
    "start_time": "2021-06-10T14:17:51.088Z"
   },
   {
    "duration": 259,
    "start_time": "2021-06-10T14:18:10.085Z"
   },
   {
    "duration": 12,
    "start_time": "2021-06-10T14:18:33.455Z"
   },
   {
    "duration": 543,
    "start_time": "2021-06-10T14:18:33.951Z"
   },
   {
    "duration": 6,
    "start_time": "2021-06-10T14:19:53.469Z"
   },
   {
    "duration": 1523,
    "start_time": "2021-06-10T14:21:08.711Z"
   },
   {
    "duration": 39,
    "start_time": "2021-06-10T14:21:10.237Z"
   },
   {
    "duration": 10,
    "start_time": "2021-06-10T14:21:10.279Z"
   },
   {
    "duration": 21,
    "start_time": "2021-06-10T14:21:10.291Z"
   },
   {
    "duration": 44,
    "start_time": "2021-06-10T14:21:10.315Z"
   },
   {
    "duration": 26,
    "start_time": "2021-06-10T14:21:10.361Z"
   },
   {
    "duration": 6,
    "start_time": "2021-06-10T14:21:10.389Z"
   },
   {
    "duration": 5,
    "start_time": "2021-06-10T14:21:10.399Z"
   },
   {
    "duration": 8,
    "start_time": "2021-06-10T14:21:10.407Z"
   },
   {
    "duration": 44,
    "start_time": "2021-06-10T14:21:10.417Z"
   },
   {
    "duration": 15,
    "start_time": "2021-06-10T14:21:10.463Z"
   },
   {
    "duration": 20,
    "start_time": "2021-06-10T14:21:10.480Z"
   },
   {
    "duration": 5,
    "start_time": "2021-06-10T14:21:10.502Z"
   },
   {
    "duration": 15,
    "start_time": "2021-06-10T14:21:10.509Z"
   },
   {
    "duration": 33,
    "start_time": "2021-06-10T14:21:10.526Z"
   },
   {
    "duration": 1104,
    "start_time": "2021-06-10T14:21:10.562Z"
   },
   {
    "duration": 5405,
    "start_time": "2021-06-10T14:21:11.669Z"
   },
   {
    "duration": 3384,
    "start_time": "2021-06-10T14:21:17.077Z"
   },
   {
    "duration": 601,
    "start_time": "2021-06-10T14:21:20.463Z"
   },
   {
    "duration": 5,
    "start_time": "2021-06-10T14:21:21.067Z"
   },
   {
    "duration": 8,
    "start_time": "2021-06-10T14:21:21.075Z"
   },
   {
    "duration": 984,
    "start_time": "2021-06-10T14:21:21.085Z"
   },
   {
    "duration": 2588,
    "start_time": "2021-06-10T14:21:22.076Z"
   },
   {
    "duration": 11,
    "start_time": "2021-06-10T14:21:24.668Z"
   },
   {
    "duration": 16,
    "start_time": "2021-06-10T14:21:24.682Z"
   },
   {
    "duration": 8,
    "start_time": "2021-06-10T14:21:24.701Z"
   },
   {
    "duration": 73,
    "start_time": "2021-06-10T14:21:24.712Z"
   },
   {
    "duration": 11,
    "start_time": "2021-06-10T14:21:24.788Z"
   },
   {
    "duration": 669,
    "start_time": "2021-06-10T14:21:24.802Z"
   },
   {
    "duration": 30,
    "start_time": "2021-06-10T14:21:25.444Z"
   },
   {
    "duration": 30,
    "start_time": "2021-06-10T14:21:25.447Z"
   },
   {
    "duration": 28,
    "start_time": "2021-06-10T14:21:25.451Z"
   },
   {
    "duration": 28,
    "start_time": "2021-06-10T14:21:25.453Z"
   },
   {
    "duration": 27,
    "start_time": "2021-06-10T14:21:25.457Z"
   },
   {
    "duration": 11,
    "start_time": "2021-06-10T14:22:24.337Z"
   },
   {
    "duration": 19879,
    "start_time": "2021-06-10T14:22:24.983Z"
   },
   {
    "duration": 23608,
    "start_time": "2021-06-10T14:22:44.866Z"
   },
   {
    "duration": 5,
    "start_time": "2021-06-10T14:23:53.971Z"
   },
   {
    "duration": 1509,
    "start_time": "2021-06-10T14:24:46.290Z"
   },
   {
    "duration": 39,
    "start_time": "2021-06-10T14:24:47.802Z"
   },
   {
    "duration": 14,
    "start_time": "2021-06-10T14:24:47.844Z"
   },
   {
    "duration": 23,
    "start_time": "2021-06-10T14:24:47.860Z"
   },
   {
    "duration": 13,
    "start_time": "2021-06-10T14:24:47.885Z"
   },
   {
    "duration": 23,
    "start_time": "2021-06-10T14:24:47.900Z"
   },
   {
    "duration": 34,
    "start_time": "2021-06-10T14:24:47.925Z"
   },
   {
    "duration": 13,
    "start_time": "2021-06-10T14:24:47.963Z"
   },
   {
    "duration": 8,
    "start_time": "2021-06-10T14:24:47.979Z"
   },
   {
    "duration": 8,
    "start_time": "2021-06-10T14:24:47.989Z"
   },
   {
    "duration": 15,
    "start_time": "2021-06-10T14:24:47.999Z"
   },
   {
    "duration": 48,
    "start_time": "2021-06-10T14:24:48.016Z"
   },
   {
    "duration": 3,
    "start_time": "2021-06-10T14:24:48.067Z"
   },
   {
    "duration": 12,
    "start_time": "2021-06-10T14:24:48.073Z"
   },
   {
    "duration": 6,
    "start_time": "2021-06-10T14:24:48.088Z"
   },
   {
    "duration": 1215,
    "start_time": "2021-06-10T14:24:48.097Z"
   },
   {
    "duration": 5106,
    "start_time": "2021-06-10T14:24:49.314Z"
   },
   {
    "duration": 3250,
    "start_time": "2021-06-10T14:24:54.422Z"
   },
   {
    "duration": 660,
    "start_time": "2021-06-10T14:24:57.674Z"
   },
   {
    "duration": 3,
    "start_time": "2021-06-10T14:24:58.336Z"
   },
   {
    "duration": 18,
    "start_time": "2021-06-10T14:24:58.343Z"
   },
   {
    "duration": 998,
    "start_time": "2021-06-10T14:24:58.363Z"
   },
   {
    "duration": 2613,
    "start_time": "2021-06-10T14:24:59.367Z"
   },
   {
    "duration": 10,
    "start_time": "2021-06-10T14:25:01.982Z"
   },
   {
    "duration": 24,
    "start_time": "2021-06-10T14:25:01.994Z"
   },
   {
    "duration": 19,
    "start_time": "2021-06-10T14:25:02.020Z"
   },
   {
    "duration": 58,
    "start_time": "2021-06-10T14:25:02.041Z"
   },
   {
    "duration": 12,
    "start_time": "2021-06-10T14:25:02.102Z"
   },
   {
    "duration": 17245,
    "start_time": "2021-06-10T14:25:02.117Z"
   },
   {
    "duration": 25380,
    "start_time": "2021-06-10T14:25:19.366Z"
   },
   {
    "duration": 31,
    "start_time": "2021-06-10T14:25:44.719Z"
   },
   {
    "duration": 31,
    "start_time": "2021-06-10T14:25:44.721Z"
   },
   {
    "duration": 30,
    "start_time": "2021-06-10T14:25:44.724Z"
   },
   {
    "duration": 30,
    "start_time": "2021-06-10T14:25:44.726Z"
   },
   {
    "duration": 6,
    "start_time": "2021-06-10T14:25:49.998Z"
   },
   {
    "duration": 12,
    "start_time": "2021-06-10T14:26:42.517Z"
   },
   {
    "duration": 23177,
    "start_time": "2021-06-10T14:26:44.485Z"
   },
   {
    "duration": 13,
    "start_time": "2021-06-10T14:28:13.461Z"
   },
   {
    "duration": 30453,
    "start_time": "2021-06-10T14:28:16.139Z"
   },
   {
    "duration": 16025,
    "start_time": "2021-06-10T14:28:55.030Z"
   },
   {
    "duration": 29887,
    "start_time": "2021-06-10T14:29:28.969Z"
   },
   {
    "duration": 154108,
    "start_time": "2021-06-10T14:30:47.456Z"
   },
   {
    "duration": 19178,
    "start_time": "2021-06-10T14:39:48.101Z"
   },
   {
    "duration": 329,
    "start_time": "2021-06-10T14:43:02.027Z"
   },
   {
    "duration": 12,
    "start_time": "2021-06-10T14:43:08.630Z"
   },
   {
    "duration": 70,
    "start_time": "2021-06-10T14:43:09.239Z"
   },
   {
    "duration": 5584,
    "start_time": "2021-06-10T14:43:11.940Z"
   },
   {
    "duration": 100,
    "start_time": "2021-06-10T14:43:24.461Z"
   },
   {
    "duration": 246,
    "start_time": "2021-06-10T14:44:40.110Z"
   },
   {
    "duration": 3,
    "start_time": "2021-06-10T14:45:21.170Z"
   },
   {
    "duration": 12,
    "start_time": "2021-06-10T14:46:34.889Z"
   },
   {
    "duration": 71,
    "start_time": "2021-06-10T14:46:44.193Z"
   },
   {
    "duration": 5286,
    "start_time": "2021-06-10T14:46:47.355Z"
   },
   {
    "duration": 7,
    "start_time": "2021-06-10T14:46:54.978Z"
   },
   {
    "duration": 9,
    "start_time": "2021-06-10T14:47:12.480Z"
   },
   {
    "duration": 733,
    "start_time": "2021-06-10T14:47:40.331Z"
   },
   {
    "duration": 38462,
    "start_time": "2021-06-10T14:47:41.194Z"
   },
   {
    "duration": 7,
    "start_time": "2021-06-10T14:48:27.919Z"
   },
   {
    "duration": 16225,
    "start_time": "2021-06-10T14:49:13.634Z"
   },
   {
    "duration": 1402,
    "start_time": "2021-06-10T14:50:25.243Z"
   },
   {
    "duration": 38,
    "start_time": "2021-06-10T14:50:26.647Z"
   },
   {
    "duration": 10,
    "start_time": "2021-06-10T14:50:26.688Z"
   },
   {
    "duration": 19,
    "start_time": "2021-06-10T14:50:26.700Z"
   },
   {
    "duration": 12,
    "start_time": "2021-06-10T14:50:26.722Z"
   },
   {
    "duration": 22,
    "start_time": "2021-06-10T14:50:26.755Z"
   },
   {
    "duration": 5,
    "start_time": "2021-06-10T14:50:26.780Z"
   },
   {
    "duration": 6,
    "start_time": "2021-06-10T14:50:26.788Z"
   },
   {
    "duration": 13,
    "start_time": "2021-06-10T14:50:26.798Z"
   },
   {
    "duration": 42,
    "start_time": "2021-06-10T14:50:26.814Z"
   },
   {
    "duration": 27,
    "start_time": "2021-06-10T14:50:26.859Z"
   },
   {
    "duration": 22,
    "start_time": "2021-06-10T14:50:26.888Z"
   },
   {
    "duration": 8,
    "start_time": "2021-06-10T14:50:26.912Z"
   },
   {
    "duration": 18,
    "start_time": "2021-06-10T14:50:26.922Z"
   },
   {
    "duration": 14,
    "start_time": "2021-06-10T14:50:26.942Z"
   },
   {
    "duration": 1337,
    "start_time": "2021-06-10T14:50:26.958Z"
   },
   {
    "duration": 5595,
    "start_time": "2021-06-10T14:50:28.297Z"
   },
   {
    "duration": 3892,
    "start_time": "2021-06-10T14:50:33.894Z"
   },
   {
    "duration": 719,
    "start_time": "2021-06-10T14:50:37.788Z"
   },
   {
    "duration": 4,
    "start_time": "2021-06-10T14:50:38.509Z"
   },
   {
    "duration": 10,
    "start_time": "2021-06-10T14:50:38.515Z"
   },
   {
    "duration": 1001,
    "start_time": "2021-06-10T14:50:38.528Z"
   },
   {
    "duration": 2700,
    "start_time": "2021-06-10T14:50:39.531Z"
   },
   {
    "duration": 10,
    "start_time": "2021-06-10T14:50:42.233Z"
   },
   {
    "duration": 9,
    "start_time": "2021-06-10T14:50:42.256Z"
   },
   {
    "duration": 7,
    "start_time": "2021-06-10T14:50:42.268Z"
   },
   {
    "duration": 39,
    "start_time": "2021-06-10T14:50:42.280Z"
   },
   {
    "duration": 37,
    "start_time": "2021-06-10T14:50:42.321Z"
   },
   {
    "duration": 6676,
    "start_time": "2021-06-10T14:50:42.361Z"
   },
   {
    "duration": 24,
    "start_time": "2021-06-10T14:50:49.017Z"
   },
   {
    "duration": 23,
    "start_time": "2021-06-10T14:50:49.020Z"
   },
   {
    "duration": 22,
    "start_time": "2021-06-10T14:50:49.023Z"
   },
   {
    "duration": 19,
    "start_time": "2021-06-10T14:50:49.028Z"
   },
   {
    "duration": 19,
    "start_time": "2021-06-10T14:50:49.031Z"
   },
   {
    "duration": 19,
    "start_time": "2021-06-10T14:50:49.033Z"
   },
   {
    "duration": 19,
    "start_time": "2021-06-10T14:50:49.035Z"
   },
   {
    "duration": 19,
    "start_time": "2021-06-10T14:50:49.037Z"
   },
   {
    "duration": 11,
    "start_time": "2021-06-10T14:52:33.183Z"
   },
   {
    "duration": 6301,
    "start_time": "2021-06-10T14:52:57.144Z"
   },
   {
    "duration": 12,
    "start_time": "2021-06-10T14:53:09.616Z"
   },
   {
    "duration": 19439,
    "start_time": "2021-06-10T14:53:10.625Z"
   },
   {
    "duration": 78065,
    "start_time": "2021-06-10T14:53:32.910Z"
   },
   {
    "duration": 7,
    "start_time": "2021-06-10T14:54:50.977Z"
   },
   {
    "duration": 9,
    "start_time": "2021-06-10T14:54:50.987Z"
   },
   {
    "duration": 1463,
    "start_time": "2021-06-10T15:08:42.430Z"
   },
   {
    "duration": 39,
    "start_time": "2021-06-10T15:08:43.895Z"
   },
   {
    "duration": 10,
    "start_time": "2021-06-10T15:08:43.937Z"
   },
   {
    "duration": 19,
    "start_time": "2021-06-10T15:08:43.956Z"
   },
   {
    "duration": 12,
    "start_time": "2021-06-10T15:08:43.977Z"
   },
   {
    "duration": 24,
    "start_time": "2021-06-10T15:08:43.991Z"
   },
   {
    "duration": 6,
    "start_time": "2021-06-10T15:08:44.017Z"
   },
   {
    "duration": 6,
    "start_time": "2021-06-10T15:08:44.056Z"
   },
   {
    "duration": 9,
    "start_time": "2021-06-10T15:08:44.066Z"
   },
   {
    "duration": 5,
    "start_time": "2021-06-10T15:08:44.078Z"
   },
   {
    "duration": 17,
    "start_time": "2021-06-10T15:08:44.086Z"
   },
   {
    "duration": 57,
    "start_time": "2021-06-10T15:08:44.105Z"
   },
   {
    "duration": 4,
    "start_time": "2021-06-10T15:08:44.165Z"
   },
   {
    "duration": 17,
    "start_time": "2021-06-10T15:08:44.171Z"
   },
   {
    "duration": 6,
    "start_time": "2021-06-10T15:08:44.191Z"
   },
   {
    "duration": 1125,
    "start_time": "2021-06-10T15:08:44.199Z"
   },
   {
    "duration": 5072,
    "start_time": "2021-06-10T15:08:45.326Z"
   },
   {
    "duration": 3341,
    "start_time": "2021-06-10T15:08:50.400Z"
   },
   {
    "duration": 592,
    "start_time": "2021-06-10T15:08:53.743Z"
   },
   {
    "duration": 4,
    "start_time": "2021-06-10T15:08:54.337Z"
   },
   {
    "duration": 18,
    "start_time": "2021-06-10T15:08:54.343Z"
   },
   {
    "duration": 967,
    "start_time": "2021-06-10T15:08:54.363Z"
   },
   {
    "duration": 2669,
    "start_time": "2021-06-10T15:08:55.332Z"
   },
   {
    "duration": 10,
    "start_time": "2021-06-10T15:08:58.003Z"
   },
   {
    "duration": 15,
    "start_time": "2021-06-10T15:08:58.016Z"
   },
   {
    "duration": 26,
    "start_time": "2021-06-10T15:08:58.033Z"
   },
   {
    "duration": 58,
    "start_time": "2021-06-10T15:08:58.063Z"
   },
   {
    "duration": 16,
    "start_time": "2021-06-10T15:08:58.124Z"
   },
   {
    "duration": 17619,
    "start_time": "2021-06-10T15:08:58.143Z"
   },
   {
    "duration": 4,
    "start_time": "2021-06-10T15:09:15.765Z"
   },
   {
    "duration": 84,
    "start_time": "2021-06-10T15:09:15.771Z"
   },
   {
    "duration": 4,
    "start_time": "2021-06-10T15:09:15.858Z"
   },
   {
    "duration": 521,
    "start_time": "2021-06-10T15:09:15.864Z"
   },
   {
    "duration": -522,
    "start_time": "2021-06-10T15:09:16.909Z"
   },
   {
    "duration": -524,
    "start_time": "2021-06-10T15:09:16.912Z"
   },
   {
    "duration": -526,
    "start_time": "2021-06-10T15:09:16.916Z"
   },
   {
    "duration": -528,
    "start_time": "2021-06-10T15:09:16.920Z"
   },
   {
    "duration": 1424,
    "start_time": "2021-06-11T11:55:21.348Z"
   },
   {
    "duration": 39,
    "start_time": "2021-06-11T11:55:22.775Z"
   },
   {
    "duration": 10,
    "start_time": "2021-06-11T11:55:22.817Z"
   },
   {
    "duration": 32,
    "start_time": "2021-06-11T11:55:22.830Z"
   },
   {
    "duration": 12,
    "start_time": "2021-06-11T11:55:22.865Z"
   },
   {
    "duration": 21,
    "start_time": "2021-06-11T11:55:22.880Z"
   },
   {
    "duration": 5,
    "start_time": "2021-06-11T11:55:22.903Z"
   },
   {
    "duration": 5,
    "start_time": "2021-06-11T11:55:22.912Z"
   },
   {
    "duration": 41,
    "start_time": "2021-06-11T11:55:22.920Z"
   },
   {
    "duration": 4,
    "start_time": "2021-06-11T11:55:22.964Z"
   },
   {
    "duration": 14,
    "start_time": "2021-06-11T11:55:22.970Z"
   },
   {
    "duration": 20,
    "start_time": "2021-06-11T11:55:22.987Z"
   },
   {
    "duration": 47,
    "start_time": "2021-06-11T11:55:23.009Z"
   },
   {
    "duration": 19,
    "start_time": "2021-06-11T11:55:23.058Z"
   },
   {
    "duration": 6,
    "start_time": "2021-06-11T11:55:23.079Z"
   },
   {
    "duration": 1130,
    "start_time": "2021-06-11T11:55:23.088Z"
   },
   {
    "duration": 5055,
    "start_time": "2021-06-11T11:55:24.220Z"
   },
   {
    "duration": 3643,
    "start_time": "2021-06-11T11:55:29.277Z"
   },
   {
    "duration": 597,
    "start_time": "2021-06-11T11:55:32.923Z"
   },
   {
    "duration": 3,
    "start_time": "2021-06-11T11:55:33.523Z"
   },
   {
    "duration": 9,
    "start_time": "2021-06-11T11:55:33.529Z"
   },
   {
    "duration": 1037,
    "start_time": "2021-06-11T11:55:33.557Z"
   },
   {
    "duration": 2704,
    "start_time": "2021-06-11T11:55:34.599Z"
   },
   {
    "duration": 10,
    "start_time": "2021-06-11T11:55:37.306Z"
   },
   {
    "duration": 196,
    "start_time": "2021-06-11T11:55:37.319Z"
   },
   {
    "duration": 14,
    "start_time": "2021-06-11T11:55:37.517Z"
   },
   {
    "duration": 28,
    "start_time": "2021-06-11T11:55:37.533Z"
   },
   {
    "duration": 15,
    "start_time": "2021-06-11T11:55:37.563Z"
   },
   {
    "duration": 396,
    "start_time": "2021-06-11T11:55:37.581Z"
   },
   {
    "duration": 617,
    "start_time": "2021-06-11T11:55:37.363Z"
   },
   {
    "duration": 615,
    "start_time": "2021-06-11T11:55:37.366Z"
   },
   {
    "duration": 616,
    "start_time": "2021-06-11T11:55:37.367Z"
   },
   {
    "duration": 613,
    "start_time": "2021-06-11T11:55:37.371Z"
   },
   {
    "duration": 612,
    "start_time": "2021-06-11T11:55:37.374Z"
   },
   {
    "duration": 610,
    "start_time": "2021-06-11T11:55:37.377Z"
   },
   {
    "duration": 609,
    "start_time": "2021-06-11T11:55:37.380Z"
   },
   {
    "duration": 1429,
    "start_time": "2021-06-11T11:56:49.372Z"
   },
   {
    "duration": 38,
    "start_time": "2021-06-11T11:56:50.804Z"
   },
   {
    "duration": 9,
    "start_time": "2021-06-11T11:56:50.855Z"
   },
   {
    "duration": 18,
    "start_time": "2021-06-11T11:56:50.867Z"
   },
   {
    "duration": 13,
    "start_time": "2021-06-11T11:56:50.887Z"
   },
   {
    "duration": 59,
    "start_time": "2021-06-11T11:56:50.902Z"
   },
   {
    "duration": 7,
    "start_time": "2021-06-11T11:56:50.965Z"
   },
   {
    "duration": 7,
    "start_time": "2021-06-11T11:56:50.975Z"
   },
   {
    "duration": 21,
    "start_time": "2021-06-11T11:56:50.984Z"
   },
   {
    "duration": 18,
    "start_time": "2021-06-11T11:56:51.008Z"
   },
   {
    "duration": 27,
    "start_time": "2021-06-11T11:56:51.028Z"
   },
   {
    "duration": 21,
    "start_time": "2021-06-11T11:56:51.057Z"
   },
   {
    "duration": 4,
    "start_time": "2021-06-11T11:56:51.081Z"
   },
   {
    "duration": 14,
    "start_time": "2021-06-11T11:56:51.087Z"
   },
   {
    "duration": 6,
    "start_time": "2021-06-11T11:56:51.103Z"
   },
   {
    "duration": 1207,
    "start_time": "2021-06-11T11:56:51.112Z"
   },
   {
    "duration": 5308,
    "start_time": "2021-06-11T11:56:52.322Z"
   },
   {
    "duration": 3552,
    "start_time": "2021-06-11T11:56:57.633Z"
   },
   {
    "duration": 601,
    "start_time": "2021-06-11T11:57:01.188Z"
   },
   {
    "duration": 3,
    "start_time": "2021-06-11T11:57:01.792Z"
   },
   {
    "duration": 16,
    "start_time": "2021-06-11T11:57:01.798Z"
   },
   {
    "duration": 978,
    "start_time": "2021-06-11T11:57:01.818Z"
   },
   {
    "duration": 2585,
    "start_time": "2021-06-11T11:57:02.799Z"
   },
   {
    "duration": 11,
    "start_time": "2021-06-11T11:57:05.387Z"
   },
   {
    "duration": 208,
    "start_time": "2021-06-11T11:57:05.400Z"
   },
   {
    "duration": 12,
    "start_time": "2021-06-11T11:57:05.611Z"
   },
   {
    "duration": 13,
    "start_time": "2021-06-11T11:57:05.625Z"
   },
   {
    "duration": 19,
    "start_time": "2021-06-11T11:57:05.640Z"
   },
   {
    "duration": 1299,
    "start_time": "2021-06-11T11:57:05.662Z"
   },
   {
    "duration": 1195,
    "start_time": "2021-06-11T11:57:06.964Z"
   },
   {
    "duration": 488,
    "start_time": "2021-06-11T11:57:08.161Z"
   },
   {
    "duration": 408333,
    "start_time": "2021-06-11T11:57:08.655Z"
   },
   {
    "duration": 12279,
    "start_time": "2021-06-11T12:03:56.991Z"
   },
   {
    "duration": 5,
    "start_time": "2021-06-11T12:04:09.273Z"
   },
   {
    "duration": 283,
    "start_time": "2021-06-11T12:04:09.281Z"
   },
   {
    "duration": 15,
    "start_time": "2021-06-11T12:04:09.566Z"
   },
   {
    "duration": 415,
    "start_time": "2021-06-11T14:02:06.242Z"
   },
   {
    "duration": 93,
    "start_time": "2021-06-11T14:02:10.412Z"
   },
   {
    "duration": 15,
    "start_time": "2021-06-11T14:02:14.808Z"
   },
   {
    "duration": 16,
    "start_time": "2021-06-11T14:12:23.181Z"
   },
   {
    "duration": 1817,
    "start_time": "2021-06-11T14:41:41.184Z"
   },
   {
    "duration": 40,
    "start_time": "2021-06-11T14:41:43.003Z"
   },
   {
    "duration": 12,
    "start_time": "2021-06-11T14:41:43.046Z"
   },
   {
    "duration": 40,
    "start_time": "2021-06-11T14:41:43.060Z"
   },
   {
    "duration": 26,
    "start_time": "2021-06-11T14:41:43.104Z"
   },
   {
    "duration": 44,
    "start_time": "2021-06-11T14:41:43.133Z"
   },
   {
    "duration": 8,
    "start_time": "2021-06-11T14:41:43.180Z"
   },
   {
    "duration": 22,
    "start_time": "2021-06-11T14:41:43.191Z"
   },
   {
    "duration": 16,
    "start_time": "2021-06-11T14:41:43.219Z"
   },
   {
    "duration": 5,
    "start_time": "2021-06-11T14:41:43.255Z"
   },
   {
    "duration": 37,
    "start_time": "2021-06-11T14:41:43.263Z"
   },
   {
    "duration": 23,
    "start_time": "2021-06-11T14:41:43.302Z"
   },
   {
    "duration": 10,
    "start_time": "2021-06-11T14:41:43.327Z"
   },
   {
    "duration": 30,
    "start_time": "2021-06-11T14:41:43.340Z"
   },
   {
    "duration": 7,
    "start_time": "2021-06-11T14:41:43.373Z"
   },
   {
    "duration": 1146,
    "start_time": "2021-06-11T14:41:43.383Z"
   },
   {
    "duration": 5687,
    "start_time": "2021-06-11T14:41:44.531Z"
   },
   {
    "duration": 3697,
    "start_time": "2021-06-11T14:41:50.221Z"
   },
   {
    "duration": 716,
    "start_time": "2021-06-11T14:41:53.920Z"
   },
   {
    "duration": 3,
    "start_time": "2021-06-11T14:41:54.639Z"
   },
   {
    "duration": 6,
    "start_time": "2021-06-11T14:41:54.656Z"
   },
   {
    "duration": 1305,
    "start_time": "2021-06-11T14:41:54.665Z"
   },
   {
    "duration": 3067,
    "start_time": "2021-06-11T14:41:55.972Z"
   },
   {
    "duration": 20,
    "start_time": "2021-06-11T14:41:59.042Z"
   },
   {
    "duration": 204,
    "start_time": "2021-06-11T14:41:59.065Z"
   },
   {
    "duration": 15,
    "start_time": "2021-06-11T14:41:59.271Z"
   },
   {
    "duration": 8,
    "start_time": "2021-06-11T14:41:59.293Z"
   },
   {
    "duration": 8,
    "start_time": "2021-06-11T14:41:59.303Z"
   },
   {
    "duration": 1246,
    "start_time": "2021-06-11T14:41:59.314Z"
   },
   {
    "duration": 1100,
    "start_time": "2021-06-11T14:42:00.563Z"
   },
   {
    "duration": 758,
    "start_time": "2021-06-11T14:42:01.666Z"
   },
   {
    "duration": 439208,
    "start_time": "2021-06-11T14:42:02.427Z"
   },
   {
    "duration": 30539,
    "start_time": "2021-06-11T14:49:21.638Z"
   },
   {
    "duration": 91,
    "start_time": "2021-06-11T14:49:52.181Z"
   },
   {
    "duration": 18,
    "start_time": "2021-06-11T14:49:52.274Z"
   },
   {
    "duration": 276,
    "start_time": "2021-06-11T14:49:52.295Z"
   },
   {
    "duration": 94,
    "start_time": "2021-06-11T14:49:52.579Z"
   },
   {
    "duration": 1468,
    "start_time": "2021-06-11T14:57:22.228Z"
   },
   {
    "duration": 41,
    "start_time": "2021-06-11T14:57:23.699Z"
   },
   {
    "duration": 10,
    "start_time": "2021-06-11T14:57:23.742Z"
   },
   {
    "duration": 23,
    "start_time": "2021-06-11T14:57:23.756Z"
   },
   {
    "duration": 12,
    "start_time": "2021-06-11T14:57:23.781Z"
   },
   {
    "duration": 24,
    "start_time": "2021-06-11T14:57:23.795Z"
   },
   {
    "duration": 34,
    "start_time": "2021-06-11T14:57:23.822Z"
   },
   {
    "duration": 5,
    "start_time": "2021-06-11T14:57:23.859Z"
   },
   {
    "duration": 8,
    "start_time": "2021-06-11T14:57:23.868Z"
   },
   {
    "duration": 4,
    "start_time": "2021-06-11T14:57:23.879Z"
   },
   {
    "duration": 17,
    "start_time": "2021-06-11T14:57:23.885Z"
   },
   {
    "duration": 61,
    "start_time": "2021-06-11T14:57:23.904Z"
   },
   {
    "duration": 7,
    "start_time": "2021-06-11T14:57:23.968Z"
   },
   {
    "duration": 16,
    "start_time": "2021-06-11T14:57:23.977Z"
   },
   {
    "duration": 6,
    "start_time": "2021-06-11T14:57:23.995Z"
   },
   {
    "duration": 1100,
    "start_time": "2021-06-11T14:57:24.003Z"
   },
   {
    "duration": 5121,
    "start_time": "2021-06-11T14:57:25.105Z"
   },
   {
    "duration": 3356,
    "start_time": "2021-06-11T14:57:30.229Z"
   },
   {
    "duration": 602,
    "start_time": "2021-06-11T14:57:33.589Z"
   },
   {
    "duration": 4,
    "start_time": "2021-06-11T14:57:34.194Z"
   },
   {
    "duration": 13,
    "start_time": "2021-06-11T14:57:34.200Z"
   },
   {
    "duration": 962,
    "start_time": "2021-06-11T14:57:34.215Z"
   },
   {
    "duration": 2625,
    "start_time": "2021-06-11T14:57:35.180Z"
   },
   {
    "duration": 11,
    "start_time": "2021-06-11T14:57:37.807Z"
   },
   {
    "duration": 212,
    "start_time": "2021-06-11T14:57:37.821Z"
   },
   {
    "duration": 12,
    "start_time": "2021-06-11T14:57:38.035Z"
   },
   {
    "duration": 7,
    "start_time": "2021-06-11T14:57:38.058Z"
   },
   {
    "duration": 8,
    "start_time": "2021-06-11T14:57:38.068Z"
   },
   {
    "duration": 1182,
    "start_time": "2021-06-11T14:57:38.078Z"
   },
   {
    "duration": 1728,
    "start_time": "2021-06-11T14:57:39.262Z"
   },
   {
    "duration": 718,
    "start_time": "2021-06-11T14:57:40.275Z"
   },
   {
    "duration": 714,
    "start_time": "2021-06-11T14:57:40.280Z"
   },
   {
    "duration": 713,
    "start_time": "2021-06-11T14:57:40.283Z"
   },
   {
    "duration": 712,
    "start_time": "2021-06-11T14:57:40.285Z"
   },
   {
    "duration": 712,
    "start_time": "2021-06-11T14:57:40.287Z"
   },
   {
    "duration": 710,
    "start_time": "2021-06-11T14:57:40.291Z"
   },
   {
    "duration": 709,
    "start_time": "2021-06-11T14:57:40.293Z"
   },
   {
    "duration": 1442,
    "start_time": "2021-06-11T14:58:50.759Z"
   },
   {
    "duration": 38,
    "start_time": "2021-06-11T14:58:52.204Z"
   },
   {
    "duration": 10,
    "start_time": "2021-06-11T14:58:52.245Z"
   },
   {
    "duration": 25,
    "start_time": "2021-06-11T14:58:52.258Z"
   },
   {
    "duration": 14,
    "start_time": "2021-06-11T14:58:52.285Z"
   },
   {
    "duration": 26,
    "start_time": "2021-06-11T14:58:52.301Z"
   },
   {
    "duration": 27,
    "start_time": "2021-06-11T14:58:52.329Z"
   },
   {
    "duration": 6,
    "start_time": "2021-06-11T14:58:52.358Z"
   },
   {
    "duration": 19,
    "start_time": "2021-06-11T14:58:52.368Z"
   },
   {
    "duration": 7,
    "start_time": "2021-06-11T14:58:52.390Z"
   },
   {
    "duration": 28,
    "start_time": "2021-06-11T14:58:52.400Z"
   },
   {
    "duration": 36,
    "start_time": "2021-06-11T14:58:52.431Z"
   },
   {
    "duration": 4,
    "start_time": "2021-06-11T14:58:52.470Z"
   },
   {
    "duration": 25,
    "start_time": "2021-06-11T14:58:52.477Z"
   },
   {
    "duration": 10,
    "start_time": "2021-06-11T14:58:52.505Z"
   },
   {
    "duration": 1187,
    "start_time": "2021-06-11T14:58:52.518Z"
   },
   {
    "duration": 5325,
    "start_time": "2021-06-11T14:58:53.707Z"
   },
   {
    "duration": 3289,
    "start_time": "2021-06-11T14:58:59.034Z"
   },
   {
    "duration": 604,
    "start_time": "2021-06-11T14:59:02.326Z"
   },
   {
    "duration": 5,
    "start_time": "2021-06-11T14:59:02.933Z"
   },
   {
    "duration": 18,
    "start_time": "2021-06-11T14:59:02.941Z"
   },
   {
    "duration": 968,
    "start_time": "2021-06-11T14:59:02.962Z"
   },
   {
    "duration": 2937,
    "start_time": "2021-06-11T14:59:03.933Z"
   },
   {
    "duration": 10,
    "start_time": "2021-06-11T14:59:06.873Z"
   },
   {
    "duration": 215,
    "start_time": "2021-06-11T14:59:06.886Z"
   },
   {
    "duration": 18,
    "start_time": "2021-06-11T14:59:07.103Z"
   },
   {
    "duration": 29,
    "start_time": "2021-06-11T14:59:07.127Z"
   },
   {
    "duration": 9,
    "start_time": "2021-06-11T14:59:07.159Z"
   },
   {
    "duration": 1485,
    "start_time": "2021-06-11T14:59:07.171Z"
   },
   {
    "duration": 1100,
    "start_time": "2021-06-11T14:59:08.658Z"
   },
   {
    "duration": 508,
    "start_time": "2021-06-11T14:59:09.760Z"
   },
   {
    "duration": 440734,
    "start_time": "2021-06-11T14:59:10.271Z"
   },
   {
    "duration": 402180,
    "start_time": "2021-06-11T15:06:31.008Z"
   },
   {
    "duration": 14,
    "start_time": "2021-06-11T15:13:13.191Z"
   },
   {
    "duration": 4,
    "start_time": "2021-06-11T15:13:13.255Z"
   },
   {
    "duration": 313,
    "start_time": "2021-06-11T15:13:13.261Z"
   },
   {
    "duration": 91,
    "start_time": "2021-06-11T15:13:13.577Z"
   },
   {
    "duration": 1451,
    "start_time": "2021-06-11T15:17:18.051Z"
   },
   {
    "duration": 39,
    "start_time": "2021-06-11T15:17:19.505Z"
   },
   {
    "duration": 11,
    "start_time": "2021-06-11T15:17:19.547Z"
   },
   {
    "duration": 24,
    "start_time": "2021-06-11T15:17:19.560Z"
   },
   {
    "duration": 12,
    "start_time": "2021-06-11T15:17:19.587Z"
   },
   {
    "duration": 24,
    "start_time": "2021-06-11T15:17:19.601Z"
   },
   {
    "duration": 31,
    "start_time": "2021-06-11T15:17:19.628Z"
   },
   {
    "duration": 7,
    "start_time": "2021-06-11T15:17:19.663Z"
   },
   {
    "duration": 9,
    "start_time": "2021-06-11T15:17:19.673Z"
   },
   {
    "duration": 6,
    "start_time": "2021-06-11T15:17:19.684Z"
   },
   {
    "duration": 17,
    "start_time": "2021-06-11T15:17:19.692Z"
   },
   {
    "duration": 58,
    "start_time": "2021-06-11T15:17:19.712Z"
   },
   {
    "duration": 7,
    "start_time": "2021-06-11T15:17:19.772Z"
   },
   {
    "duration": 17,
    "start_time": "2021-06-11T15:17:19.781Z"
   },
   {
    "duration": 6,
    "start_time": "2021-06-11T15:17:19.800Z"
   },
   {
    "duration": 1325,
    "start_time": "2021-06-11T15:17:19.808Z"
   },
   {
    "duration": 6071,
    "start_time": "2021-06-11T15:17:21.136Z"
   },
   {
    "duration": 3840,
    "start_time": "2021-06-11T15:17:27.210Z"
   },
   {
    "duration": 721,
    "start_time": "2021-06-11T15:17:31.055Z"
   },
   {
    "duration": 4,
    "start_time": "2021-06-11T15:17:31.778Z"
   },
   {
    "duration": 19,
    "start_time": "2021-06-11T15:17:31.784Z"
   },
   {
    "duration": 1171,
    "start_time": "2021-06-11T15:17:31.805Z"
   },
   {
    "duration": 2604,
    "start_time": "2021-06-11T15:17:32.981Z"
   },
   {
    "duration": 11,
    "start_time": "2021-06-11T15:17:35.588Z"
   },
   {
    "duration": 212,
    "start_time": "2021-06-11T15:17:35.601Z"
   },
   {
    "duration": 11,
    "start_time": "2021-06-11T15:17:35.815Z"
   },
   {
    "duration": 29,
    "start_time": "2021-06-11T15:17:35.829Z"
   },
   {
    "duration": 19,
    "start_time": "2021-06-11T15:17:35.861Z"
   },
   {
    "duration": 1278,
    "start_time": "2021-06-11T15:17:35.882Z"
   },
   {
    "duration": 1200,
    "start_time": "2021-06-11T15:17:37.163Z"
   },
   {
    "duration": 502,
    "start_time": "2021-06-11T15:17:38.365Z"
   },
   {
    "duration": 441021,
    "start_time": "2021-06-11T15:17:38.870Z"
   },
   {
    "duration": 248886,
    "start_time": "2021-06-11T15:24:59.893Z"
   },
   {
    "duration": 84,
    "start_time": "2021-06-11T15:29:08.781Z"
   },
   {
    "duration": 7,
    "start_time": "2021-06-11T15:29:08.867Z"
   },
   {
    "duration": 308,
    "start_time": "2021-06-11T15:29:08.876Z"
   },
   {
    "duration": 79,
    "start_time": "2021-06-11T15:29:09.186Z"
   }
  ],
  "kernelspec": {
   "display_name": "Python 3",
   "language": "python",
   "name": "python3"
  },
  "language_info": {
   "codemirror_mode": {
    "name": "ipython",
    "version": 3
   },
   "file_extension": ".py",
   "mimetype": "text/x-python",
   "name": "python",
   "nbconvert_exporter": "python",
   "pygments_lexer": "ipython3",
   "version": "3.8.5"
  },
  "toc": {
   "base_numbering": 1,
   "nav_menu": {},
   "number_sections": true,
   "sideBar": true,
   "skip_h1_title": true,
   "title_cell": "Содержание",
   "title_sidebar": "Contents",
   "toc_cell": true,
   "toc_position": {},
   "toc_section_display": true,
   "toc_window_display": false
  }
 },
 "nbformat": 4,
 "nbformat_minor": 2
}
